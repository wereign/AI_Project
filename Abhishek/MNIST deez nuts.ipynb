{
 "cells": [
  {
   "cell_type": "markdown",
   "metadata": {},
   "source": [
    "# MNIST deez nuts"
   ]
  },
  {
   "cell_type": "code",
   "execution_count": 14,
   "metadata": {},
   "outputs": [],
   "source": [
    "import pandas as pd\n",
    "import numpy as np\n",
    "%matplotlib inline\n",
    "import matplotlib.pyplot as plt"
   ]
  },
  {
   "cell_type": "code",
   "execution_count": 15,
   "metadata": {},
   "outputs": [],
   "source": [
    "from tensorflow.keras.utils import to_categorical"
   ]
  },
  {
   "cell_type": "code",
   "execution_count": 16,
   "metadata": {},
   "outputs": [],
   "source": [
    "from tensorflow import keras\n",
    "from tensorflow.keras.models import Sequential\n",
    "from tensorflow.keras.layers import Dense, Conv2D, MaxPool2D, Flatten\n",
    "import tensorflow.keras.backend as K\n"
   ]
  },
  {
   "cell_type": "code",
   "execution_count": 17,
   "metadata": {},
   "outputs": [],
   "source": [
    "from tensorflow.keras.datasets import mnist"
   ]
  },
  {
   "cell_type": "code",
   "execution_count": 18,
   "metadata": {},
   "outputs": [],
   "source": [
    "(X_train,y_train), (X_test,y_test)=keras.datasets.mnist.load_data()"
   ]
  },
  {
   "cell_type": "code",
   "execution_count": 19,
   "metadata": {},
   "outputs": [
    {
     "data": {
      "text/plain": [
       "(60000, 28, 28)"
      ]
     },
     "execution_count": 19,
     "metadata": {},
     "output_type": "execute_result"
    }
   ],
   "source": [
    "X_train.shape"
   ]
  },
  {
   "cell_type": "code",
   "execution_count": 20,
   "metadata": {},
   "outputs": [],
   "source": [
    "X_train = X_train.astype('float32') / 255.0\n",
    "X_test = X_test.astype('float32') / 255.0\n",
    "\n",
    "X_train = X_train.reshape(-1, 28, 28, 1)\n",
    "X_test = X_test.reshape(-1, 28, 28, 1)\n",
    "\n",
    "y_train_cat = to_categorical(y_train, 10)\n",
    "y_test_cat = to_categorical(y_test, 10)"
   ]
  },
  {
   "cell_type": "code",
   "execution_count": 23,
   "metadata": {},
   "outputs": [],
   "source": [
    "K.clear_session()\n",
    "\n",
    "model = Sequential()\n",
    "\n",
    "model.add(Conv2D(32, (3, 3), activation='relu', input_shape=(28, 28, 1)))\n",
    "model.add(MaxPool2D(pool_size=(2, 2)))\n",
    "\n",
    "model.add(Conv2D(64, (3, 3), activation='relu'))\n",
    "model.add(MaxPool2D(pool_size=(2, 2)))\n",
    "\n",
    "model.add(Flatten())\n",
    "\n",
    "model.add(Dense(128, activation='relu'))\n",
    "\n",
    "model.add(Dense(10, activation='softmax'))\n",
    "\n",
    "model.compile(loss='categorical_crossentropy',\n",
    "              optimizer='rmsprop',\n",
    "              metrics=['accuracy'])"
   ]
  },
  {
   "cell_type": "code",
   "execution_count": 24,
   "metadata": {},
   "outputs": [
    {
     "name": "stdout",
     "output_type": "stream",
     "text": [
      "Model: \"sequential\"\n",
      "_________________________________________________________________\n",
      "Layer (type)                 Output Shape              Param #   \n",
      "=================================================================\n",
      "conv2d (Conv2D)              (None, 26, 26, 32)        320       \n",
      "_________________________________________________________________\n",
      "max_pooling2d (MaxPooling2D) (None, 13, 13, 32)        0         \n",
      "_________________________________________________________________\n",
      "conv2d_1 (Conv2D)            (None, 11, 11, 64)        18496     \n",
      "_________________________________________________________________\n",
      "max_pooling2d_1 (MaxPooling2 (None, 5, 5, 64)          0         \n",
      "_________________________________________________________________\n",
      "flatten (Flatten)            (None, 1600)              0         \n",
      "_________________________________________________________________\n",
      "dense (Dense)                (None, 128)               204928    \n",
      "_________________________________________________________________\n",
      "dense_1 (Dense)              (None, 10)                1290      \n",
      "=================================================================\n",
      "Total params: 225,034\n",
      "Trainable params: 225,034\n",
      "Non-trainable params: 0\n",
      "_________________________________________________________________\n"
     ]
    }
   ],
   "source": [
    "model.summary()"
   ]
  },
  {
   "cell_type": "code",
   "execution_count": 32,
   "metadata": {},
   "outputs": [
    {
     "name": "stdout",
     "output_type": "stream",
     "text": [
      "Epoch 1/100\n",
      "329/329 [==============================] - 16s 47ms/step - loss: 0.0233 - accuracy: 0.9924 - val_loss: 0.0452 - val_accuracy: 0.9868\n",
      "Epoch 2/100\n",
      "329/329 [==============================] - 16s 50ms/step - loss: 0.0166 - accuracy: 0.9946 - val_loss: 0.0436 - val_accuracy: 0.9891\n",
      "Epoch 3/100\n",
      "329/329 [==============================] - 20s 60ms/step - loss: 0.0137 - accuracy: 0.9956 - val_loss: 0.0377 - val_accuracy: 0.9898\n",
      "Epoch 4/100\n",
      "329/329 [==============================] - 22s 66ms/step - loss: 0.0106 - accuracy: 0.9965 - val_loss: 0.0960 - val_accuracy: 0.9800\n",
      "Epoch 5/100\n",
      "329/329 [==============================] - 21s 63ms/step - loss: 0.0088 - accuracy: 0.9969 - val_loss: 0.0534 - val_accuracy: 0.9869\n",
      "Epoch 6/100\n",
      "329/329 [==============================] - 19s 59ms/step - loss: 0.0056 - accuracy: 0.9982 - val_loss: 0.0488 - val_accuracy: 0.9887\n",
      "Epoch 7/100\n",
      "329/329 [==============================] - 19s 58ms/step - loss: 0.0045 - accuracy: 0.9986 - val_loss: 0.0636 - val_accuracy: 0.9875\n",
      "Epoch 8/100\n",
      "329/329 [==============================] - 19s 58ms/step - loss: 0.0039 - accuracy: 0.9987 - val_loss: 0.0647 - val_accuracy: 0.9879\n",
      "Epoch 9/100\n",
      "329/329 [==============================] - 20s 60ms/step - loss: 0.0036 - accuracy: 0.9988 - val_loss: 0.0551 - val_accuracy: 0.9895\n",
      "Epoch 10/100\n",
      "329/329 [==============================] - 26s 79ms/step - loss: 0.0026 - accuracy: 0.9991 - val_loss: 0.0686 - val_accuracy: 0.9886\n",
      "Epoch 11/100\n",
      "329/329 [==============================] - 22s 66ms/step - loss: 0.0027 - accuracy: 0.9991 - val_loss: 0.0651 - val_accuracy: 0.9892\n",
      "Epoch 12/100\n",
      "329/329 [==============================] - 19s 58ms/step - loss: 0.0018 - accuracy: 0.9995 - val_loss: 0.0776 - val_accuracy: 0.9870\n",
      "Epoch 13/100\n",
      "329/329 [==============================] - 19s 57ms/step - loss: 0.0020 - accuracy: 0.9994 - val_loss: 0.0906 - val_accuracy: 0.9874\n",
      "Epoch 14/100\n",
      "329/329 [==============================] - 27s 81ms/step - loss: 9.9501e-04 - accuracy: 0.9996 - val_loss: 0.0887 - val_accuracy: 0.9867\n",
      "Epoch 15/100\n",
      "329/329 [==============================] - 28s 86ms/step - loss: 0.0014 - accuracy: 0.9996 - val_loss: 0.0748 - val_accuracy: 0.9883\n",
      "Epoch 16/100\n",
      "329/329 [==============================] - 23s 70ms/step - loss: 0.0012 - accuracy: 0.9996 - val_loss: 0.0827 - val_accuracy: 0.9889\n",
      "Epoch 17/100\n",
      "329/329 [==============================] - 19s 58ms/step - loss: 0.0016 - accuracy: 0.9996 - val_loss: 0.0779 - val_accuracy: 0.9902\n",
      "Epoch 18/100\n",
      "329/329 [==============================] - 20s 62ms/step - loss: 0.0011 - accuracy: 0.9996 - val_loss: 0.0830 - val_accuracy: 0.9894\n",
      "Epoch 19/100\n",
      "329/329 [==============================] - 21s 64ms/step - loss: 6.9125e-04 - accuracy: 0.9997 - val_loss: 0.0844 - val_accuracy: 0.9895\n",
      "Epoch 20/100\n",
      "329/329 [==============================] - 17s 51ms/step - loss: 7.8316e-04 - accuracy: 0.9998 - val_loss: 0.0973 - val_accuracy: 0.9897\n",
      "Epoch 21/100\n",
      "329/329 [==============================] - 27s 83ms/step - loss: 4.3504e-04 - accuracy: 0.9998 - val_loss: 0.0915 - val_accuracy: 0.9889\n",
      "Epoch 22/100\n",
      "329/329 [==============================] - 18s 53ms/step - loss: 9.1722e-04 - accuracy: 0.9997 - val_loss: 0.1075 - val_accuracy: 0.9887\n",
      "Epoch 23/100\n",
      "329/329 [==============================] - 28s 85ms/step - loss: 8.3847e-04 - accuracy: 0.9997 - val_loss: 0.1048 - val_accuracy: 0.9885\n",
      "Epoch 24/100\n",
      "329/329 [==============================] - 21s 64ms/step - loss: 3.6037e-04 - accuracy: 0.9999 - val_loss: 0.1142 - val_accuracy: 0.9881\n",
      "Epoch 25/100\n",
      "329/329 [==============================] - 17s 52ms/step - loss: 3.0722e-04 - accuracy: 0.9999 - val_loss: 0.1058 - val_accuracy: 0.9893\n",
      "Epoch 26/100\n",
      "329/329 [==============================] - 17s 52ms/step - loss: 4.6310e-04 - accuracy: 0.9998 - val_loss: 0.1030 - val_accuracy: 0.9896\n",
      "Epoch 27/100\n",
      "329/329 [==============================] - 21s 65ms/step - loss: 6.0398e-04 - accuracy: 0.9998 - val_loss: 0.1041 - val_accuracy: 0.9895\n",
      "Epoch 28/100\n",
      "329/329 [==============================] - 22s 66ms/step - loss: 7.1812e-04 - accuracy: 0.9998 - val_loss: 0.1222 - val_accuracy: 0.9874\n",
      "Epoch 29/100\n",
      "329/329 [==============================] - 19s 58ms/step - loss: 7.6605e-04 - accuracy: 0.9999 - val_loss: 0.1096 - val_accuracy: 0.9894\n",
      "Epoch 30/100\n",
      "329/329 [==============================] - 16s 48ms/step - loss: 8.9653e-05 - accuracy: 1.0000 - val_loss: 0.1167 - val_accuracy: 0.9892\n",
      "Epoch 31/100\n",
      "329/329 [==============================] - 17s 53ms/step - loss: 3.5386e-04 - accuracy: 0.9999 - val_loss: 0.1348 - val_accuracy: 0.9888\n",
      "Epoch 32/100\n",
      "329/329 [==============================] - 19s 59ms/step - loss: 1.8694e-04 - accuracy: 1.0000 - val_loss: 0.1179 - val_accuracy: 0.9894\n",
      "Epoch 33/100\n",
      "329/329 [==============================] - 21s 65ms/step - loss: 1.1771e-04 - accuracy: 0.9999 - val_loss: 0.1194 - val_accuracy: 0.9891\n",
      "Epoch 34/100\n",
      "329/329 [==============================] - 24s 74ms/step - loss: 4.7652e-04 - accuracy: 0.9999 - val_loss: 0.1363 - val_accuracy: 0.9894\n",
      "Epoch 35/100\n",
      "329/329 [==============================] - 18s 54ms/step - loss: 4.2278e-04 - accuracy: 0.9999 - val_loss: 0.1274 - val_accuracy: 0.9897\n",
      "Epoch 36/100\n",
      "329/329 [==============================] - 20s 62ms/step - loss: 3.8850e-04 - accuracy: 0.9999 - val_loss: 0.1249 - val_accuracy: 0.9887\n",
      "Epoch 37/100\n",
      "329/329 [==============================] - 15s 47ms/step - loss: 2.3906e-04 - accuracy: 0.9999 - val_loss: 0.1265 - val_accuracy: 0.9896\n",
      "Epoch 38/100\n",
      "329/329 [==============================] - 19s 59ms/step - loss: 1.9544e-04 - accuracy: 1.0000 - val_loss: 0.1356 - val_accuracy: 0.9896\n",
      "Epoch 39/100\n",
      "329/329 [==============================] - 16s 48ms/step - loss: 3.5777e-04 - accuracy: 0.9999 - val_loss: 0.1238 - val_accuracy: 0.9897\n",
      "Epoch 40/100\n",
      "329/329 [==============================] - 16s 50ms/step - loss: 1.3972e-04 - accuracy: 1.0000 - val_loss: 0.1205 - val_accuracy: 0.9898\n",
      "Epoch 41/100\n",
      "329/329 [==============================] - 17s 53ms/step - loss: 2.2540e-04 - accuracy: 1.0000 - val_loss: 0.1507 - val_accuracy: 0.9889\n",
      "Epoch 42/100\n",
      "329/329 [==============================] - 19s 58ms/step - loss: 4.5678e-04 - accuracy: 0.9999 - val_loss: 0.1459 - val_accuracy: 0.9888\n",
      "Epoch 43/100\n",
      "329/329 [==============================] - 24s 74ms/step - loss: 1.5279e-04 - accuracy: 0.9999 - val_loss: 0.1284 - val_accuracy: 0.9900\n",
      "Epoch 44/100\n",
      "329/329 [==============================] - 18s 53ms/step - loss: 2.1006e-06 - accuracy: 1.0000 - val_loss: 0.1369 - val_accuracy: 0.9899\n",
      "Epoch 45/100\n",
      "329/329 [==============================] - 18s 54ms/step - loss: 4.4587e-05 - accuracy: 1.0000 - val_loss: 0.1609 - val_accuracy: 0.9894\n",
      "Epoch 46/100\n",
      "329/329 [==============================] - 19s 58ms/step - loss: 2.1185e-04 - accuracy: 0.9999 - val_loss: 0.1384 - val_accuracy: 0.9903\n",
      "Epoch 47/100\n",
      "329/329 [==============================] - 22s 66ms/step - loss: 5.2029e-04 - accuracy: 0.9999 - val_loss: 0.1495 - val_accuracy: 0.9893\n",
      "Epoch 48/100\n",
      "329/329 [==============================] - 26s 80ms/step - loss: 1.0440e-04 - accuracy: 0.9999 - val_loss: 0.1421 - val_accuracy: 0.9897\n",
      "Epoch 49/100\n",
      "329/329 [==============================] - 19s 56ms/step - loss: 9.5856e-05 - accuracy: 0.9999 - val_loss: 0.1572 - val_accuracy: 0.9896\n",
      "Epoch 50/100\n",
      "329/329 [==============================] - 25s 76ms/step - loss: 2.7347e-05 - accuracy: 1.0000 - val_loss: 0.1689 - val_accuracy: 0.9901\n",
      "Epoch 51/100\n",
      "329/329 [==============================] - 21s 63ms/step - loss: 1.3703e-04 - accuracy: 1.0000 - val_loss: 0.1612 - val_accuracy: 0.9902\n",
      "Epoch 52/100\n",
      "329/329 [==============================] - 19s 57ms/step - loss: 1.7689e-08 - accuracy: 1.0000 - val_loss: 0.1608 - val_accuracy: 0.9899\n",
      "Epoch 53/100\n",
      "329/329 [==============================] - 18s 56ms/step - loss: 6.6984e-10 - accuracy: 1.0000 - val_loss: 0.1613 - val_accuracy: 0.9902\n",
      "Epoch 54/100\n",
      "329/329 [==============================] - 20s 60ms/step - loss: 1.7881e-10 - accuracy: 1.0000 - val_loss: 0.1616 - val_accuracy: 0.9901\n",
      "Epoch 55/100\n",
      "329/329 [==============================] - 21s 64ms/step - loss: 6.5281e-11 - accuracy: 1.0000 - val_loss: 0.1621 - val_accuracy: 0.9901\n",
      "Epoch 56/100\n"
     ]
    },
    {
     "name": "stdout",
     "output_type": "stream",
     "text": [
      "329/329 [==============================] - 24s 74ms/step - loss: 6.5281e-11 - accuracy: 1.0000 - val_loss: 0.1624 - val_accuracy: 0.9901\n",
      "Epoch 57/100\n",
      "329/329 [==============================] - 18s 55ms/step - loss: 5.1090e-11 - accuracy: 1.0000 - val_loss: 0.1626 - val_accuracy: 0.9900\n",
      "Epoch 58/100\n",
      "329/329 [==============================] - 18s 56ms/step - loss: 4.8251e-11 - accuracy: 1.0000 - val_loss: 0.1628 - val_accuracy: 0.9900\n",
      "Epoch 59/100\n",
      "329/329 [==============================] - 25s 75ms/step - loss: 2.8383e-11 - accuracy: 1.0000 - val_loss: 0.1634 - val_accuracy: 0.9901\n",
      "Epoch 60/100\n",
      "329/329 [==============================] - 26s 79ms/step - loss: 2.8383e-11 - accuracy: 1.0000 - val_loss: 0.1638 - val_accuracy: 0.9900\n",
      "Epoch 61/100\n",
      "329/329 [==============================] - 23s 68ms/step - loss: 2.2707e-11 - accuracy: 1.0000 - val_loss: 0.1646 - val_accuracy: 0.9900\n",
      "Epoch 62/100\n",
      "329/329 [==============================] - 18s 53ms/step - loss: 2.5545e-11 - accuracy: 1.0000 - val_loss: 0.1648 - val_accuracy: 0.9900\n",
      "Epoch 63/100\n",
      "329/329 [==============================] - 23s 70ms/step - loss: 3.1221e-11 - accuracy: 1.0000 - val_loss: 0.1648 - val_accuracy: 0.9900\n",
      "Epoch 64/100\n",
      "329/329 [==============================] - 20s 61ms/step - loss: 1.4192e-11 - accuracy: 1.0000 - val_loss: 0.1651 - val_accuracy: 0.9899\n",
      "Epoch 65/100\n",
      "329/329 [==============================] - 19s 59ms/step - loss: 1.7030e-11 - accuracy: 1.0000 - val_loss: 0.1654 - val_accuracy: 0.9899\n",
      "Epoch 66/100\n",
      "329/329 [==============================] - 19s 58ms/step - loss: 2.2707e-11 - accuracy: 1.0000 - val_loss: 0.1657 - val_accuracy: 0.9899\n",
      "Epoch 67/100\n",
      "329/329 [==============================] - 29s 88ms/step - loss: 1.1353e-11 - accuracy: 1.0000 - val_loss: 0.1662 - val_accuracy: 0.9899\n",
      "Epoch 68/100\n",
      "329/329 [==============================] - 41s 126ms/step - loss: 1.9868e-11 - accuracy: 1.0000 - val_loss: 0.1666 - val_accuracy: 0.9899\n",
      "Epoch 69/100\n",
      "329/329 [==============================] - 60s 182ms/step - loss: 1.7030e-11 - accuracy: 1.0000 - val_loss: 0.1668 - val_accuracy: 0.9899\n",
      "Epoch 70/100\n",
      "329/329 [==============================] - 73s 222ms/step - loss: 1.4192e-11 - accuracy: 1.0000 - val_loss: 0.1670 - val_accuracy: 0.9899\n",
      "Epoch 71/100\n",
      "329/329 [==============================] - 36s 110ms/step - loss: 8.5149e-12 - accuracy: 1.0000 - val_loss: 0.1675 - val_accuracy: 0.9899\n",
      "Epoch 72/100\n",
      "329/329 [==============================] - 33s 101ms/step - loss: 8.5149e-12 - accuracy: 1.0000 - val_loss: 0.1677 - val_accuracy: 0.9899\n",
      "Epoch 73/100\n",
      "329/329 [==============================] - 32s 97ms/step - loss: 1.1353e-11 - accuracy: 1.0000 - val_loss: 0.1678 - val_accuracy: 0.9900\n",
      "Epoch 74/100\n",
      "329/329 [==============================] - 24s 73ms/step - loss: 8.5149e-12 - accuracy: 1.0000 - val_loss: 0.1682 - val_accuracy: 0.9900\n",
      "Epoch 75/100\n",
      "329/329 [==============================] - 20s 62ms/step - loss: 5.6766e-12 - accuracy: 1.0000 - val_loss: 0.1684 - val_accuracy: 0.9900\n",
      "Epoch 76/100\n",
      "329/329 [==============================] - 20s 62ms/step - loss: 8.5149e-12 - accuracy: 1.0000 - val_loss: 0.1685 - val_accuracy: 0.9900\n",
      "Epoch 77/100\n",
      "329/329 [==============================] - 22s 67ms/step - loss: 8.5149e-12 - accuracy: 1.0000 - val_loss: 0.1688 - val_accuracy: 0.9900\n",
      "Epoch 78/100\n",
      "329/329 [==============================] - 20s 61ms/step - loss: 1.4192e-11 - accuracy: 1.0000 - val_loss: 0.1691 - val_accuracy: 0.9900\n",
      "Epoch 79/100\n",
      "329/329 [==============================] - 20s 61ms/step - loss: 8.5149e-12 - accuracy: 1.0000 - val_loss: 0.1690 - val_accuracy: 0.9899\n",
      "Epoch 80/100\n",
      "329/329 [==============================] - 20s 60ms/step - loss: 8.5149e-12 - accuracy: 1.0000 - val_loss: 0.1692 - val_accuracy: 0.9899\n",
      "Epoch 81/100\n",
      "329/329 [==============================] - 20s 60ms/step - loss: 8.5149e-12 - accuracy: 1.0000 - val_loss: 0.1696 - val_accuracy: 0.9901\n",
      "Epoch 82/100\n",
      "329/329 [==============================] - 21s 64ms/step - loss: 5.6766e-12 - accuracy: 1.0000 - val_loss: 0.1699 - val_accuracy: 0.9900\n",
      "Epoch 83/100\n",
      "329/329 [==============================] - 20s 61ms/step - loss: 8.5149e-12 - accuracy: 1.0000 - val_loss: 0.1701 - val_accuracy: 0.9900\n",
      "Epoch 84/100\n",
      "329/329 [==============================] - 21s 64ms/step - loss: 8.5149e-12 - accuracy: 1.0000 - val_loss: 0.1703 - val_accuracy: 0.9900\n",
      "Epoch 85/100\n",
      "329/329 [==============================] - 26s 78ms/step - loss: 5.6766e-12 - accuracy: 1.0000 - val_loss: 0.1706 - val_accuracy: 0.9900\n",
      "Epoch 86/100\n",
      "329/329 [==============================] - 20s 60ms/step - loss: 8.5149e-12 - accuracy: 1.0000 - val_loss: 0.1707 - val_accuracy: 0.9900\n",
      "Epoch 87/100\n",
      "329/329 [==============================] - 20s 60ms/step - loss: 5.6766e-12 - accuracy: 1.0000 - val_loss: 0.1710 - val_accuracy: 0.9900\n",
      "Epoch 88/100\n",
      "329/329 [==============================] - 20s 60ms/step - loss: 5.6766e-12 - accuracy: 1.0000 - val_loss: 0.1713 - val_accuracy: 0.9900\n",
      "Epoch 89/100\n",
      "329/329 [==============================] - 20s 60ms/step - loss: 8.5149e-12 - accuracy: 1.0000 - val_loss: 0.1717 - val_accuracy: 0.9900\n",
      "Epoch 90/100\n",
      "329/329 [==============================] - 20s 62ms/step - loss: 5.6766e-12 - accuracy: 1.0000 - val_loss: 0.1719 - val_accuracy: 0.9900\n",
      "Epoch 91/100\n",
      "329/329 [==============================] - 22s 67ms/step - loss: 5.6766e-12 - accuracy: 1.0000 - val_loss: 0.1721 - val_accuracy: 0.9900\n",
      "Epoch 92/100\n",
      "329/329 [==============================] - 22s 67ms/step - loss: 1.4192e-11 - accuracy: 1.0000 - val_loss: 0.1722 - val_accuracy: 0.9900\n",
      "Epoch 93/100\n",
      "329/329 [==============================] - 30s 90ms/step - loss: 2.8383e-12 - accuracy: 1.0000 - val_loss: 0.1723 - val_accuracy: 0.9900\n",
      "Epoch 94/100\n",
      "329/329 [==============================] - 22s 65ms/step - loss: 5.6766e-12 - accuracy: 1.0000 - val_loss: 0.1726 - val_accuracy: 0.9900\n",
      "Epoch 95/100\n",
      "329/329 [==============================] - 21s 65ms/step - loss: 5.6766e-12 - accuracy: 1.0000 - val_loss: 0.1730 - val_accuracy: 0.9900\n",
      "Epoch 96/100\n",
      "329/329 [==============================] - 21s 65ms/step - loss: 8.5149e-12 - accuracy: 1.0000 - val_loss: 0.1733 - val_accuracy: 0.9901\n",
      "Epoch 97/100\n",
      "329/329 [==============================] - 22s 68ms/step - loss: 8.5149e-12 - accuracy: 1.0000 - val_loss: 0.1735 - val_accuracy: 0.9901\n",
      "Epoch 98/100\n",
      "329/329 [==============================] - 23s 69ms/step - loss: 8.5149e-12 - accuracy: 1.0000 - val_loss: 0.1737 - val_accuracy: 0.9902\n",
      "Epoch 99/100\n",
      "329/329 [==============================] - 22s 67ms/step - loss: 5.6766e-12 - accuracy: 1.0000 - val_loss: 0.1740 - val_accuracy: 0.9902\n",
      "Epoch 100/100\n",
      "329/329 [==============================] - 22s 68ms/step - loss: 5.6766e-12 - accuracy: 1.0000 - val_loss: 0.1743 - val_accuracy: 0.9901\n"
     ]
    }
   ],
   "source": [
    "h=model.fit(X_train, y_train_cat, batch_size=128, epochs=100, verbose=1, validation_split=0.3)"
   ]
  },
  {
   "cell_type": "code",
   "execution_count": 37,
   "metadata": {},
   "outputs": [
    {
     "name": "stdout",
     "output_type": "stream",
     "text": [
      "313/313 [==============================] - 2s 6ms/step - loss: 0.1119 - accuracy: 0.9917\n"
     ]
    },
    {
     "data": {
      "text/plain": [
       "[0.11186916381120682, 0.9916999936103821]"
      ]
     },
     "execution_count": 37,
     "metadata": {},
     "output_type": "execute_result"
    }
   ],
   "source": [
    "model.evaluate(X_test, y_test_cat)"
   ]
  },
  {
   "cell_type": "code",
   "execution_count": 41,
   "metadata": {},
   "outputs": [
    {
     "data": {
      "text/plain": [
       "Text(0.5, 0, 'Epochs')"
      ]
     },
     "execution_count": 41,
     "metadata": {},
     "output_type": "execute_result"
    },
    {
     "data": {
      "image/png": "[encoded data removed]",
      "text/plain": [
       "<Figure size 640x480 with 1 Axes>"
      ]
     },
     "metadata": {},
     "output_type": "display_data"
    }
   ],
   "source": [
    "plt.plot(h.history['accuracy'])\n",
    "plt.plot(h.history['val_accuracy'])\n",
    "plt.legend(['Training','Validation'])\n",
    "plt.ylabel('Accuracy')\n",
    "plt.xlabel('Epochs')"
   ]
  },
  {
   "cell_type": "code",
   "execution_count": 42,
   "metadata": {},
   "outputs": [],
   "source": [
    "model.save('./mnist.keras')"
   ]
  },
  {
   "cell_type": "code",
   "execution_count": 43,
   "metadata": {},
   "outputs": [],
   "source": [
    "model.save('./mnist_keras.h5')"
   ]
  },
  {
   "cell_type": "code",
   "execution_count": null,
   "metadata": {},
   "outputs": [],
   "source": []
  }
 ],
 "metadata": {
  "kernelspec": {
   "display_name": "Python 3 (ipykernel)",
   "language": "python",
   "name": "python3"
  },
  "language_info": {
   "codemirror_mode": {
    "name": "ipython",
    "version": 3
   },
   "file_extension": ".py",
   "mimetype": "text/x-python",
   "name": "python",
   "nbconvert_exporter": "python",
   "pygments_lexer": "ipython3",
   "version": "3.7.16"
  }
 },
 "nbformat": 4,
 "nbformat_minor": 2
}
