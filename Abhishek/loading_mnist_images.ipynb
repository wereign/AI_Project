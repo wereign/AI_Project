{
 "cells": [
  {
   "cell_type": "code",
   "execution_count": 2,
   "metadata": {},
   "outputs": [],
   "source": [
    "from keras.datasets import mnist"
   ]
  },
  {
   "cell_type": "code",
   "execution_count": 3,
   "metadata": {},
   "outputs": [
    {
     "name": "stdout",
     "output_type": "stream",
     "text": [
      "Downloading data from https://storage.googleapis.com/tensorflow/tf-keras-datasets/mnist.npz\n",
      "11490434/11490434 [==============================] - 20s 2us/step\n"
     ]
    }
   ],
   "source": [
    "(x_train, y_train), (x_test, y_test) = mnist.load_data()"
   ]
  },
  {
   "cell_type": "code",
   "execution_count": 4,
   "metadata": {},
   "outputs": [],
   "source": [
    "import cv2"
   ]
  },
  {
   "cell_type": "code",
   "execution_count": 13,
   "metadata": {},
   "outputs": [
    {
     "name": "stderr",
     "output_type": "stream",
     "text": [
      "100%|██████████| 60000/60000 [00:04<00:00, 14345.36it/s]"
     ]
    },
    {
     "name": "stdout",
     "output_type": "stream",
     "text": [
      "Images saved to ../mnist_images\n"
     ]
    },
    {
     "name": "stderr",
     "output_type": "stream",
     "text": [
      "\n"
     ]
    }
   ],
   "source": [
    "import numpy as np\n",
    "import os\n",
    "from tensorflow.keras.datasets import mnist\n",
    "from PIL import Image\n",
    "from tqdm import tqdm\n",
    "\n",
    "# Load the MNIST dataset\n",
    "(train_images, train_labels), (_, _) = mnist.load_data()\n",
    "\n",
    "# Create a directory to store the images\n",
    "output_dir = \"../mnist_images\"\n",
    "os.makedirs(output_dir, exist_ok=True)\n",
    "\n",
    "# Initialize a dictionary to keep track of the number of images saved per class\n",
    "class_counts = {}\n",
    "\n",
    "# Iterate through the dataset and save images\n",
    "for i in tqdm(range(len(train_images))):\n",
    "    image = train_images[i]\n",
    "    label = train_labels[i]\n",
    "\n",
    "    # Create a subdirectory for the current class if it doesn't exist\n",
    "    class_dir = os.path.join(output_dir, str(label))\n",
    "    os.makedirs(class_dir, exist_ok=True)\n",
    "\n",
    "    # Count the number of images saved for the current class\n",
    "    if label in class_counts:\n",
    "        class_counts[label] += 1\n",
    "    else:\n",
    "        class_counts[label] = 1\n",
    "    \n",
    "    if class_counts[label] >= 15:\n",
    "        continue\n",
    "\n",
    "    # Generate a unique filename based on the label and count\n",
    "    filename = os.path.join(class_dir, f\"{label}_{class_counts[label]:04d}.png\")\n",
    "\n",
    "    # Save the image as a PNG file\n",
    "    img = Image.fromarray(image)\n",
    "    img.save(filename)\n",
    "\n",
    "print(\"Images saved to\", output_dir)\n"
   ]
  },
  {
   "cell_type": "code",
   "execution_count": null,
   "metadata": {},
   "outputs": [],
   "source": []
  }
 ],
 "metadata": {
  "kernelspec": {
   "display_name": "autogluon_env",
   "language": "python",
   "name": "python3"
  },
  "language_info": {
   "codemirror_mode": {
    "name": "ipython",
    "version": 3
   },
   "file_extension": ".py",
   "mimetype": "text/x-python",
   "name": "python",
   "nbconvert_exporter": "python",
   "pygments_lexer": "ipython3",
   "version": "3.9.18"
  }
 },
 "nbformat": 4,
 "nbformat_minor": 2
}
