{
  "cells": [
    {
      "cell_type": "code",
      "execution_count": 1,
      "metadata": {
        "id": "G34Mw1TqK8-6"
      },
      "outputs": [
        {
          "name": "stderr",
          "output_type": "stream",
          "text": [
            "c:\\Users\\viren\\miniconda3\\envs\\autogluon_env\\lib\\site-packages\\tqdm\\auto.py:21: TqdmWarning: IProgress not found. Please update jupyter and ipywidgets. See https://ipywidgets.readthedocs.io/en/stable/user_install.html\n",
            "  from .autonotebook import tqdm as notebook_tqdm\n"
          ]
        }
      ],
      "source": [
        "import torch\n",
        "from torch import nn, optim\n",
        "from torchvision import datasets, transforms\n",
        "from torch.utils.data import DataLoader, random_split                                                                                                                                                                                                                                                                                                                                                                                                                                                                                                                                                                                                                                                                                                                                                                                                                                                                                                                                                                                                                                                                                                                                                                                                                                                                                                                                                                                                                                                                                                                                                                                                                                                                                                                                                                                                                                                                                                                                                                                                                                                                                                                                                                                                                                                                                                                                                                                                                                                                                                                                                                                                                                                                                                                                                                                                                                                                                                                                                                                                                                                                                                                                                                                                                                                                                                                                                                                                                                                                                                                                                                                                                                                                                                                                                                                                                                                                                                                                                       \n",
        "import torch.nn.functional as F"
      ]
    },
    {
      "cell_type": "code",
      "execution_count": 2,
      "metadata": {
        "colab": {
          "base_uri": "https://localhost:8080/"
        },
        "id": "cjjGNk0IQNQb",
        "outputId": "c68ca8a1-e971-43c6-bcd5-0259af53aca9"
      },
      "outputs": [],
      "source": [
        "train_data=datasets.MNIST('data',train=True,download=True, transform=transforms.ToTensor())\n",
        "train, val=random_split(train_data, [55000,5000])\n",
        "train_loader=DataLoader(train,batch_size=32)\n",
        "val_loader=DataLoader(val,batch_size=32)"
      ]
    },
    {
      "cell_type": "code",
      "execution_count": 3,
      "metadata": {
        "id": "UY4tVVnTLFi_"
      },
      "outputs": [],
      "source": [
        "model=nn.Sequential(\n",
        "    nn.Linear(28*28,64),\n",
        "    nn.ReLU(),\n",
        "    nn.Linear(64,64),\n",
        "    nn.ReLU(),\n",
        "    nn.Linear(64,10)\n",
        ")\n",
        "\n",
        "\n",
        "class LinearNetwork(nn.Module):\n",
        "\n",
        "    def __init__(self):\n",
        "        self.layer1 = nn.Linear(28*28,64)\n",
        "        self.relu = nn.ReLU()\n",
        "        self.layer2 = nn.Linear()"
      ]
    },
    {
      "cell_type": "code",
      "execution_count": 4,
      "metadata": {
        "id": "fVuvZfGU6o3e"
      },
      "outputs": [],
      "source": [
        "# class ConvolutionalNetwork(nn.Module):\n",
        "#     def __init__(self):\n",
        "#         super().__init__()\n",
        "#         self.conv1 = nn.Conv2d(1, 6, 3, 1)\n",
        "#         self.conv2 = nn.Conv2d(6, 16, 3, 1)\n",
        "#         self.fc1 = nn.Linear(5*5*16, 120)\n",
        "#         self.fc2 = nn.Linear(120, 84)\n",
        "#         self.fc3 = nn.Linear(84,10)\n",
        "\n",
        "#     def forward(self, X):\n",
        "#         X = F.relu(self.conv1(X))\n",
        "#         X = F.max_pool2d(X, 2, 2)\n",
        "#         X = F.relu(self.conv2(X))\n",
        "#         X = F.max_pool2d(X, 2, 2)\n",
        "#         X = X.view(-1, 5*5*16)\n",
        "#         X = F.relu(self.fc1(X))\n",
        "#         X = F.relu(self.fc2(X))\n",
        "#         X = self.fc3(X)\n",
        "#         return F.log_softmax(X, dim=1)"
      ]
    },
    {
      "cell_type": "code",
      "execution_count": 5,
      "metadata": {
        "id": "ZmYlJqXALxzA"
      },
      "outputs": [],
      "source": [
        "torch.manual_seed(42)\n",
        "# model = ConvolutionalNetwork()\n",
        "params=model.parameters()\n",
        "optimiser=optim.SGD(params,lr=1e-2)"
      ]
    },
    {
      "cell_type": "code",
      "execution_count": 6,
      "metadata": {
        "id": "wPxPqKt1Mtm4"
      },
      "outputs": [],
      "source": [
        "loss=nn.CrossEntropyLoss()"
      ]
    },
    {
      "cell_type": "code",
      "execution_count": 9,
      "metadata": {
        "colab": {
          "base_uri": "https://localhost:8080/"
        },
        "id": "aEX7TfU1M325",
        "outputId": "289bee3f-8a22-4ad0-abdb-2fac91b32294"
      },
      "outputs": [
        {
          "name": "stdout",
          "output_type": "stream",
          "text": [
            "Epoch 1, train loss: 0.11, training accuracy: 0.97\n",
            "Epoch 1, train loss: 0.11, training accuracy: 0.97\n",
            "Epoch 2, train loss: 0.11, training accuracy: 0.97\n",
            "Epoch 2, train loss: 0.10, training accuracy: 0.97\n",
            "Epoch 3, train loss: 0.10, training accuracy: 0.97\n",
            "Epoch 3, train loss: 0.10, training accuracy: 0.97\n",
            "Epoch 4, train loss: 0.10, training accuracy: 0.97\n",
            "Epoch 4, train loss: 0.09, training accuracy: 0.97\n",
            "Epoch 5, train loss: 0.09, training accuracy: 0.97\n",
            "Epoch 5, train loss: 0.09, training accuracy: 0.97\n"
          ]
        }
      ],
      "source": [
        "device = torch.device('cuda:0' if torch.cuda.is_available() else 'cpu')\n",
        "\n",
        "nb_epochs=5\n",
        "for epoch in range(nb_epochs):\n",
        "  losses=list()\n",
        "  accuracies=list()\n",
        "  for batch in train_loader:\n",
        "    x,y=batch\n",
        "    b=x.size(0)\n",
        "    x=x.view(b,-1)\n",
        "    l=model(x)\n",
        "    j=loss(l,y)\n",
        "    model.zero_grad()\n",
        "    j.backward()\n",
        "    optimiser.step()\n",
        "    losses.append(j.item())\n",
        "    accuracies.append(y.eq(l.detach().argmax(dim=1).cpu()).float().mean())\n",
        "  print(f'Epoch {epoch+1}, train loss: {torch.tensor(losses).mean():.2f}, training accuracy: {torch.tensor(accuracies).mean():.2f}')\n",
        "  losses=list()\n",
        "  for batch in train_loader:\n",
        "    x,y=batch\n",
        "    b=x.size(0)\n",
        "    x=x.view(b,-1)\n",
        "    with torch.no_grad():\n",
        "      l=model(x)\n",
        "    j=loss(l,y)\n",
        "    losses.append(j.item())\n",
        "    accuracies.append(y.eq(l.detach().argmax(dim=1).cpu()).float().mean())\n",
        "  print(f'Epoch {epoch+1}, train loss: {torch.tensor(losses).mean():.2f}, training accuracy: {torch.tensor(accuracies).mean():.2f}')"
      ]
    },
    {
      "cell_type": "code",
      "execution_count": 10,
      "metadata": {},
      "outputs": [],
      "source": [
        "torch.save(model, '../saved_models/mnist_pytorch.pt')"
      ]
    },
    {
      "cell_type": "code",
      "execution_count": 11,
      "metadata": {},
      "outputs": [],
      "source": [
        "model2 = torch.load('../saved_models/mnist_pytorch.pt')"
      ]
    },
    {
      "cell_type": "code",
      "execution_count": 21,
      "metadata": {},
      "outputs": [
        {
          "name": "stdout",
          "output_type": "stream",
          "text": [
            "(28, 28, 3)\n",
            "(28, 28)\n",
            "(784,)\n"
          ]
        },
        {
          "ename": "RuntimeError",
          "evalue": "expected scalar type Byte but found Float",
          "output_type": "error",
          "traceback": [
            "\u001b[1;31m---------------------------------------------------------------------------\u001b[0m",
            "\u001b[1;31mRuntimeError\u001b[0m                              Traceback (most recent call last)",
            "\u001b[1;32mc:\\Users\\viren\\Desktop\\AI_Project\\notebooks\\pytorch_mnist.ipynb Cell 10\u001b[0m line \u001b[0;36m1\n\u001b[0;32m      <a href='vscode-notebook-cell:/c%3A/Users/viren/Desktop/AI_Project/notebooks/pytorch_mnist.ipynb#X13sZmlsZQ%3D%3D?line=8'>9</a>\u001b[0m \u001b[39mprint\u001b[39m(img_8\u001b[39m.\u001b[39mshape)\n\u001b[0;32m     <a href='vscode-notebook-cell:/c%3A/Users/viren/Desktop/AI_Project/notebooks/pytorch_mnist.ipynb#X13sZmlsZQ%3D%3D?line=9'>10</a>\u001b[0m img_8_tensor \u001b[39m=\u001b[39m torch\u001b[39m.\u001b[39mtensor(img_8)\n\u001b[1;32m---> <a href='vscode-notebook-cell:/c%3A/Users/viren/Desktop/AI_Project/notebooks/pytorch_mnist.ipynb#X13sZmlsZQ%3D%3D?line=10'>11</a>\u001b[0m model2\u001b[39m.\u001b[39;49mforward(img_8_tensor)\n",
            "File \u001b[1;32mc:\\Users\\viren\\miniconda3\\envs\\autogluon_env\\lib\\site-packages\\torch\\nn\\modules\\container.py:204\u001b[0m, in \u001b[0;36mSequential.forward\u001b[1;34m(self, input)\u001b[0m\n\u001b[0;32m    202\u001b[0m \u001b[39mdef\u001b[39;00m \u001b[39mforward\u001b[39m(\u001b[39mself\u001b[39m, \u001b[39minput\u001b[39m):\n\u001b[0;32m    203\u001b[0m     \u001b[39mfor\u001b[39;00m module \u001b[39min\u001b[39;00m \u001b[39mself\u001b[39m:\n\u001b[1;32m--> 204\u001b[0m         \u001b[39minput\u001b[39m \u001b[39m=\u001b[39m module(\u001b[39minput\u001b[39;49m)\n\u001b[0;32m    205\u001b[0m     \u001b[39mreturn\u001b[39;00m \u001b[39minput\u001b[39m\n",
            "File \u001b[1;32mc:\\Users\\viren\\miniconda3\\envs\\autogluon_env\\lib\\site-packages\\torch\\nn\\modules\\module.py:1194\u001b[0m, in \u001b[0;36mModule._call_impl\u001b[1;34m(self, *input, **kwargs)\u001b[0m\n\u001b[0;32m   1190\u001b[0m \u001b[39m# If we don't have any hooks, we want to skip the rest of the logic in\u001b[39;00m\n\u001b[0;32m   1191\u001b[0m \u001b[39m# this function, and just call forward.\u001b[39;00m\n\u001b[0;32m   1192\u001b[0m \u001b[39mif\u001b[39;00m \u001b[39mnot\u001b[39;00m (\u001b[39mself\u001b[39m\u001b[39m.\u001b[39m_backward_hooks \u001b[39mor\u001b[39;00m \u001b[39mself\u001b[39m\u001b[39m.\u001b[39m_forward_hooks \u001b[39mor\u001b[39;00m \u001b[39mself\u001b[39m\u001b[39m.\u001b[39m_forward_pre_hooks \u001b[39mor\u001b[39;00m _global_backward_hooks\n\u001b[0;32m   1193\u001b[0m         \u001b[39mor\u001b[39;00m _global_forward_hooks \u001b[39mor\u001b[39;00m _global_forward_pre_hooks):\n\u001b[1;32m-> 1194\u001b[0m     \u001b[39mreturn\u001b[39;00m forward_call(\u001b[39m*\u001b[39m\u001b[39minput\u001b[39m, \u001b[39m*\u001b[39m\u001b[39m*\u001b[39mkwargs)\n\u001b[0;32m   1195\u001b[0m \u001b[39m# Do not call functions when jit is used\u001b[39;00m\n\u001b[0;32m   1196\u001b[0m full_backward_hooks, non_full_backward_hooks \u001b[39m=\u001b[39m [], []\n",
            "File \u001b[1;32mc:\\Users\\viren\\miniconda3\\envs\\autogluon_env\\lib\\site-packages\\torch\\nn\\modules\\linear.py:114\u001b[0m, in \u001b[0;36mLinear.forward\u001b[1;34m(self, input)\u001b[0m\n\u001b[0;32m    113\u001b[0m \u001b[39mdef\u001b[39;00m \u001b[39mforward\u001b[39m(\u001b[39mself\u001b[39m, \u001b[39minput\u001b[39m: Tensor) \u001b[39m-\u001b[39m\u001b[39m>\u001b[39m Tensor:\n\u001b[1;32m--> 114\u001b[0m     \u001b[39mreturn\u001b[39;00m F\u001b[39m.\u001b[39;49mlinear(\u001b[39minput\u001b[39;49m, \u001b[39mself\u001b[39;49m\u001b[39m.\u001b[39;49mweight, \u001b[39mself\u001b[39;49m\u001b[39m.\u001b[39;49mbias)\n",
            "\u001b[1;31mRuntimeError\u001b[0m: expected scalar type Byte but found Float"
          ]
        }
      ],
      "source": [
        "import numpy \n",
        "import cv2\n",
        "\n",
        "img_8 = cv2.imread('../mnist_images/8/8_0008.png')\n",
        "print(img_8.shape)\n",
        "img_8 = cv2.cvtColor(img_8,cv2.COLOR_RGB2GRAY)\n",
        "print(img_8.shape)\n",
        "img_8 = img_8.reshape(28*28)\n",
        "print(img_8.shape)\n",
        "img_8_tensor = torch.tensor(img_8)\n",
        "model2.forward(img_8_tensor)"
      ]
    },
    {
      "cell_type": "code",
      "execution_count": null,
      "metadata": {},
      "outputs": [],
      "source": []
    }
  ],
  "metadata": {
    "accelerator": "GPU",
    "colab": {
      "gpuType": "T4",
      "provenance": []
    },
    "kernelspec": {
      "display_name": "Python 3",
      "name": "python3"
    },
    "language_info": {
      "name": "python",
      "version": "3.9.18"
    }
  },
  "nbformat": 4,
  "nbformat_minor": 0
}
