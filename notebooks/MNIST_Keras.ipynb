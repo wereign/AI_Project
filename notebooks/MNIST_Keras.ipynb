{
 "cells": [
  {
   "cell_type": "markdown",
   "metadata": {},
   "source": [
    "# MNIST deez nuts"
   ]
  },
  {
   "cell_type": "code",
   "execution_count": 1,
   "metadata": {},
   "outputs": [],
   "source": [
    "import comet_ml\n",
    "import pandas as pd\n",
    "import numpy as np\n",
    "%matplotlib inline\n",
    "import matplotlib.pyplot as plt"
   ]
  },
  {
   "cell_type": "code",
   "execution_count": 9,
   "metadata": {},
   "outputs": [],
   "source": [
    "from tensorflow.keras.utils import to_categorical"
   ]
  },
  {
   "cell_type": "code",
   "execution_count": 2,
   "metadata": {},
   "outputs": [],
   "source": [
    "from tensorflow import keras\n",
    "from tensorflow.keras.models import Sequential\n",
    "from tensorflow.keras.layers import Dense, Conv2D, MaxPool2D, Flatten\n",
    "import tensorflow.keras.backend as K\n",
    "\n",
    "from sklearn.metrics import classification_report"
   ]
  },
  {
   "cell_type": "code",
   "execution_count": 3,
   "metadata": {},
   "outputs": [],
   "source": [
    "from tensorflow.keras.datasets import mnist"
   ]
  },
  {
   "cell_type": "code",
   "execution_count": 5,
   "metadata": {},
   "outputs": [
    {
     "name": "stderr",
     "output_type": "stream",
     "text": [
      "\u001b[1;38;5;39mCOMET INFO:\u001b[0m ---------------------------------------------------------------------------------------\n",
      "\u001b[1;38;5;39mCOMET INFO:\u001b[0m Comet.ml Experiment Summary\n",
      "\u001b[1;38;5;39mCOMET INFO:\u001b[0m ---------------------------------------------------------------------------------------\n",
      "\u001b[1;38;5;39mCOMET INFO:\u001b[0m   Data:\n",
      "\u001b[1;38;5;39mCOMET INFO:\u001b[0m     display_summary_level : 1\n",
      "\u001b[1;38;5;39mCOMET INFO:\u001b[0m     url                   : https://www.comet.com/wereign/juan-ai/638a1b31bc0a430a9ded8ec2725770be\n",
      "\u001b[1;38;5;39mCOMET INFO:\u001b[0m   Uploads:\n",
      "\u001b[1;38;5;39mCOMET INFO:\u001b[0m     conda-environment-definition : 1\n",
      "\u001b[1;38;5;39mCOMET INFO:\u001b[0m     conda-info                   : 1\n",
      "\u001b[1;38;5;39mCOMET INFO:\u001b[0m     conda-specification          : 1\n",
      "\u001b[1;38;5;39mCOMET INFO:\u001b[0m     environment details          : 1\n",
      "\u001b[1;38;5;39mCOMET INFO:\u001b[0m     filename                     : 1\n",
      "\u001b[1;38;5;39mCOMET INFO:\u001b[0m     git metadata                 : 1\n",
      "\u001b[1;38;5;39mCOMET INFO:\u001b[0m     git-patch (uncompressed)     : 1 (6.85 KB)\n",
      "\u001b[1;38;5;39mCOMET INFO:\u001b[0m     installed packages           : 1\n",
      "\u001b[1;38;5;39mCOMET INFO:\u001b[0m     notebook                     : 1\n",
      "\u001b[1;38;5;39mCOMET INFO:\u001b[0m     source_code                  : 1\n",
      "\u001b[1;38;5;39mCOMET INFO:\u001b[0m \n",
      "\u001b[1;38;5;214mCOMET WARNING:\u001b[0m As you are running in a Jupyter environment, you will need to call `experiment.end()` when finished to ensure all metrics and code are logged before exiting.\n",
      "\u001b[1;38;5;39mCOMET INFO:\u001b[0m Experiment is live on comet.com https://www.comet.com/wereign/juan-ai/8d8231bd6976418896fbbb19c6112396\n",
      "\n"
     ]
    }
   ],
   "source": [
    "comet_ml.init()\n",
    "experiment = comet_ml.Experiment(project_name='juan-ai',\n",
    "                                 auto_histogram_weight_logging=True,\n",
    "                                 auto_histogram_gradient_logging=True,\n",
    "                                 auto_histogram_activation_logging=True,)\n",
    "\n",
    "\n",
    "experiment.set_name('delete kardo')"
   ]
  },
  {
   "cell_type": "code",
   "execution_count": 6,
   "metadata": {},
   "outputs": [],
   "source": [
    "(X_train,y_train), (X_test,y_test)=keras.datasets.mnist.load_data()"
   ]
  },
  {
   "cell_type": "code",
   "execution_count": 7,
   "metadata": {},
   "outputs": [
    {
     "data": {
      "text/plain": [
       "(60000, 28, 28)"
      ]
     },
     "execution_count": 7,
     "metadata": {},
     "output_type": "execute_result"
    }
   ],
   "source": [
    "X_train.shape"
   ]
  },
  {
   "cell_type": "code",
   "execution_count": 10,
   "metadata": {},
   "outputs": [],
   "source": [
    "X_train = X_train.astype('float32') / 255.0\n",
    "X_test = X_test.astype('float32') / 255.0\n",
    "\n",
    "X_train = X_train.reshape(-1, 28, 28, 1)\n",
    "X_test = X_test.reshape(-1, 28, 28, 1)\n",
    "\n",
    "y_train_cat = to_categorical(y_train, 10)\n",
    "y_test_cat = to_categorical(y_test, 10)"
   ]
  },
  {
   "cell_type": "code",
   "execution_count": 11,
   "metadata": {},
   "outputs": [],
   "source": [
    "K.clear_session()\n",
    "\n",
    "model = Sequential()\n",
    "\n",
    "model.add(Conv2D(32, (3, 3), activation='relu', input_shape=(28, 28, 1)))\n",
    "model.add(MaxPool2D(pool_size=(2, 2)))\n",
    "\n",
    "model.add(Conv2D(64, (3, 3), activation='relu'))\n",
    "model.add(MaxPool2D(pool_size=(2, 2)))\n",
    "\n",
    "model.add(Flatten())\n",
    "\n",
    "model.add(Dense(128, activation='relu'))\n",
    "\n",
    "model.add(Dense(10, activation='softmax'))\n",
    "\n",
    "model.compile(loss='categorical_crossentropy',\n",
    "              optimizer='rmsprop',\n",
    "              metrics=['accuracy'])"
   ]
  },
  {
   "cell_type": "code",
   "execution_count": 12,
   "metadata": {},
   "outputs": [
    {
     "name": "stdout",
     "output_type": "stream",
     "text": [
      "Model: \"sequential\"\n",
      "_________________________________________________________________\n"
     ]
    },
    {
     "name": "stdout",
     "output_type": "stream",
     "text": [
      " Layer (type)                Output Shape              Param #   \n",
      "=================================================================\n",
      " conv2d (Conv2D)             (None, 26, 26, 32)        320       \n",
      "                                                                 \n",
      " max_pooling2d (MaxPooling2  (None, 13, 13, 32)        0         \n",
      " D)                                                              \n",
      "                                                                 \n",
      " conv2d_1 (Conv2D)           (None, 11, 11, 64)        18496     \n",
      "                                                                 \n",
      " max_pooling2d_1 (MaxPoolin  (None, 5, 5, 64)          0         \n",
      " g2D)                                                            \n",
      "                                                                 \n",
      " flatten (Flatten)           (None, 1600)              0         \n",
      "                                                                 \n",
      " dense (Dense)               (None, 128)               204928    \n",
      "                                                                 \n",
      " dense_1 (Dense)             (None, 10)                1290      \n",
      "                                                                 \n",
      "=================================================================\n",
      "Total params: 225034 (879.04 KB)\n",
      "Trainable params: 225034 (879.04 KB)\n",
      "Non-trainable params: 0 (0.00 Byte)\n",
      "_________________________________________________________________\n"
     ]
    }
   ],
   "source": [
    "model.summary()"
   ]
  },
  {
   "cell_type": "code",
   "execution_count": 13,
   "metadata": {},
   "outputs": [],
   "source": [
    "parameters = {\n",
    "    \"epochs\":100,\n",
    "    \"optimizer\":\"rmsprop\",\n",
    "    \"loss\":\"categorical_crossentropy\",\n",
    "    \"validation_split\":0.3\n",
    "}\n",
    "\n",
    "experiment.log_parameters(parameters)"
   ]
  },
  {
   "cell_type": "code",
   "execution_count": 15,
   "metadata": {},
   "outputs": [
    {
     "name": "stdout",
     "output_type": "stream",
     "text": [
      "Epoch 1/30\n",
      "329/329 [==============================] - 11s 35ms/step - loss: 0.0201 - accuracy: 0.9939 - val_loss: 0.0658 - val_accuracy: 0.9829\n",
      "Epoch 2/30\n",
      "329/329 [==============================] - 12s 35ms/step - loss: 0.0187 - accuracy: 0.9940 - val_loss: 0.0791 - val_accuracy: 0.9797\n",
      "Epoch 3/30\n",
      "329/329 [==============================] - 12s 36ms/step - loss: 0.0173 - accuracy: 0.9949 - val_loss: 0.0709 - val_accuracy: 0.9814\n",
      "Epoch 4/30\n",
      "329/329 [==============================] - 11s 33ms/step - loss: 0.0166 - accuracy: 0.9949 - val_loss: 0.0716 - val_accuracy: 0.9825\n",
      "Epoch 5/30\n",
      "329/329 [==============================] - 10s 31ms/step - loss: 0.0154 - accuracy: 0.9950 - val_loss: 0.0708 - val_accuracy: 0.9828\n",
      "Epoch 6/30\n",
      "329/329 [==============================] - 11s 33ms/step - loss: 0.0146 - accuracy: 0.9956 - val_loss: 0.0806 - val_accuracy: 0.9794\n",
      "Epoch 7/30\n",
      "329/329 [==============================] - 11s 32ms/step - loss: 0.0140 - accuracy: 0.9955 - val_loss: 0.0714 - val_accuracy: 0.9819\n",
      "Epoch 8/30\n",
      "329/329 [==============================] - 11s 33ms/step - loss: 0.0131 - accuracy: 0.9960 - val_loss: 0.0740 - val_accuracy: 0.9825\n",
      "Epoch 9/30\n",
      "329/329 [==============================] - 11s 34ms/step - loss: 0.0119 - accuracy: 0.9961 - val_loss: 0.0725 - val_accuracy: 0.9839\n",
      "Epoch 10/30\n",
      "329/329 [==============================] - 11s 32ms/step - loss: 0.0113 - accuracy: 0.9965 - val_loss: 0.0754 - val_accuracy: 0.9825\n",
      "Epoch 11/30\n",
      "329/329 [==============================] - 11s 33ms/step - loss: 0.0111 - accuracy: 0.9963 - val_loss: 0.0768 - val_accuracy: 0.9829\n",
      "Epoch 12/30\n",
      "329/329 [==============================] - 11s 34ms/step - loss: 0.0104 - accuracy: 0.9967 - val_loss: 0.0761 - val_accuracy: 0.9837\n",
      "Epoch 13/30\n",
      "329/329 [==============================] - 11s 33ms/step - loss: 0.0088 - accuracy: 0.9972 - val_loss: 0.0754 - val_accuracy: 0.9827\n",
      "Epoch 14/30\n",
      "329/329 [==============================] - 11s 32ms/step - loss: 0.0090 - accuracy: 0.9973 - val_loss: 0.0758 - val_accuracy: 0.9832\n",
      "Epoch 15/30\n",
      "329/329 [==============================] - 11s 32ms/step - loss: 0.0080 - accuracy: 0.9978 - val_loss: 0.0976 - val_accuracy: 0.9788\n",
      "Epoch 16/30\n",
      "329/329 [==============================] - 11s 34ms/step - loss: 0.0077 - accuracy: 0.9976 - val_loss: 0.0781 - val_accuracy: 0.9829\n",
      "Epoch 17/30\n",
      "329/329 [==============================] - 11s 34ms/step - loss: 0.0070 - accuracy: 0.9979 - val_loss: 0.0823 - val_accuracy: 0.9833\n",
      "Epoch 18/30\n",
      "329/329 [==============================] - 11s 34ms/step - loss: 0.0067 - accuracy: 0.9981 - val_loss: 0.0792 - val_accuracy: 0.9829\n",
      "Epoch 19/30\n",
      "329/329 [==============================] - 13s 39ms/step - loss: 0.0063 - accuracy: 0.9981 - val_loss: 0.0893 - val_accuracy: 0.9814\n",
      "Epoch 20/30\n",
      "329/329 [==============================] - 12s 36ms/step - loss: 0.0057 - accuracy: 0.9983 - val_loss: 0.0897 - val_accuracy: 0.9819\n",
      "Epoch 21/30\n",
      "329/329 [==============================] - 12s 35ms/step - loss: 0.0056 - accuracy: 0.9983 - val_loss: 0.0865 - val_accuracy: 0.9829\n",
      "Epoch 22/30\n",
      "329/329 [==============================] - 12s 35ms/step - loss: 0.0052 - accuracy: 0.9983 - val_loss: 0.0861 - val_accuracy: 0.9829\n",
      "Epoch 23/30\n",
      "329/329 [==============================] - 11s 34ms/step - loss: 0.0051 - accuracy: 0.9984 - val_loss: 0.0869 - val_accuracy: 0.9836\n",
      "Epoch 24/30\n",
      "329/329 [==============================] - 11s 32ms/step - loss: 0.0044 - accuracy: 0.9986 - val_loss: 0.0847 - val_accuracy: 0.9843\n",
      "Epoch 25/30\n",
      "329/329 [==============================] - 11s 32ms/step - loss: 0.0043 - accuracy: 0.9987 - val_loss: 0.0870 - val_accuracy: 0.9835\n",
      "Epoch 26/30\n",
      "329/329 [==============================] - 11s 32ms/step - loss: 0.0042 - accuracy: 0.9989 - val_loss: 0.0894 - val_accuracy: 0.9833\n",
      "Epoch 27/30\n",
      "329/329 [==============================] - 11s 34ms/step - loss: 0.0033 - accuracy: 0.9993 - val_loss: 0.0930 - val_accuracy: 0.9825\n",
      "Epoch 28/30\n",
      "329/329 [==============================] - 11s 35ms/step - loss: 0.0029 - accuracy: 0.9993 - val_loss: 0.0968 - val_accuracy: 0.9824\n",
      "Epoch 29/30\n",
      "329/329 [==============================] - 10s 31ms/step - loss: 0.0031 - accuracy: 0.9992 - val_loss: 0.0889 - val_accuracy: 0.9839\n",
      "Epoch 30/30\n",
      "329/329 [==============================] - 12s 37ms/step - loss: 0.0025 - accuracy: 0.9994 - val_loss: 0.0907 - val_accuracy: 0.9836\n"
     ]
    }
   ],
   "source": [
    "h=model.fit(X_train, y_train_cat, batch_size=128, epochs=30, verbose=1, validation_split=0.3)"
   ]
  },
  {
   "cell_type": "code",
   "execution_count": 15,
   "metadata": {},
   "outputs": [
    {
     "name": "stdout",
     "output_type": "stream",
     "text": [
      "313/313 [==============================] - 1s 4ms/step - loss: 0.0607 - accuracy: 0.9913\n"
     ]
    },
    {
     "data": {
      "text/plain": [
       "[0.06071756035089493, 0.9912999868392944]"
      ]
     },
     "execution_count": 15,
     "metadata": {},
     "output_type": "execute_result"
    }
   ],
   "source": [
    "model.evaluate(X_test, y_test_cat)"
   ]
  },
  {
   "cell_type": "code",
   "execution_count": 16,
   "metadata": {},
   "outputs": [
    {
     "data": {
      "text/plain": [
       "Text(0.5, 0, 'Epochs')"
      ]
     },
     "execution_count": 16,
     "metadata": {},
     "output_type": "execute_result"
    },
    {
     "data": {
      "image/png": "[encoded data removed]",
      "text/plain": [
       "<Figure size 640x480 with 1 Axes>"
      ]
     },
     "metadata": {},
     "output_type": "display_data"
    }
   ],
   "source": [
    "plt.plot(h.history['accuracy'])\n",
    "plt.plot(h.history['val_accuracy'])\n",
    "plt.legend(['Training','Validation'])\n",
    "plt.ylabel('Accuracy')\n",
    "plt.xlabel('Epochs')"
   ]
  },
  {
   "cell_type": "code",
   "execution_count": 19,
   "metadata": {},
   "outputs": [
    {
     "name": "stdout",
     "output_type": "stream",
     "text": [
      "313/313 [==============================] - 1s 3ms/step\n",
      "[7 2 1 0 4 1 4]\n",
      "[7 2 1 0 4 1 4]\n",
      "              precision    recall  f1-score   support\n",
      "\n",
      "           0       0.99      0.99      0.99       980\n",
      "           1       0.99      1.00      0.99      1135\n",
      "           2       0.99      0.99      0.99      1032\n",
      "           3       0.97      0.99      0.98      1010\n",
      "           4       0.99      0.99      0.99       982\n",
      "           5       0.99      0.98      0.98       892\n",
      "           6       0.99      0.99      0.99       958\n",
      "           7       0.99      0.98      0.98      1028\n",
      "           8       0.98      0.98      0.98       974\n",
      "           9       0.98      0.98      0.98      1009\n",
      "\n",
      "    accuracy                           0.99     10000\n",
      "   macro avg       0.99      0.99      0.99     10000\n",
      "weighted avg       0.99      0.99      0.99     10000\n",
      "\n"
     ]
    },
    {
     "data": {
      "text/plain": [
       "{'web': 'https://www.comet.com/api/asset/download?assetId=3adeab78768c4239bf2291acade42d5d&experimentKey=8d8231bd6976418896fbbb19c6112396',\n",
       " 'api': 'https://www.comet.com/api/rest/v2/experiment/asset/get-asset?assetId=3adeab78768c4239bf2291acade42d5d&experimentKey=8d8231bd6976418896fbbb19c6112396',\n",
       " 'assetId': '3adeab78768c4239bf2291acade42d5d'}"
      ]
     },
     "execution_count": 19,
     "metadata": {},
     "output_type": "execute_result"
    }
   ],
   "source": [
    "from sklearn.metrics import confusion_matrix, classification_report\n",
    "prediction = model.predict(X_test)\n",
    "\n",
    "\n",
    "pred_classes = np.argmax(prediction,axis=-1)\n",
    "print(pred_classes[:7])\n",
    "print(y_test[:7])\n",
    "cm = confusion_matrix(y_test, pred_classes)\n",
    "print(classification_report(y_test,pred_classes))\n",
    "experiment.log_confusion_matrix(matrix=cm)"
   ]
  },
  {
   "cell_type": "code",
   "execution_count": 17,
   "metadata": {},
   "outputs": [],
   "source": [
    "model.save('./mnist.keras')"
   ]
  },
  {
   "cell_type": "code",
   "execution_count": 18,
   "metadata": {},
   "outputs": [
    {
     "name": "stderr",
     "output_type": "stream",
     "text": [
      "c:\\Users\\viren\\miniconda3\\envs\\autogluon_env\\lib\\site-packages\\keras\\src\\engine\\training.py:3079: UserWarning: You are saving your model as an HDF5 file via `model.save()`. This file format is considered legacy. We recommend using instead the native Keras format, e.g. `model.save('my_model.keras')`.\n",
      "  saving_api.save_model(\n"
     ]
    }
   ],
   "source": [
    "model.save('./mnist_keras.h5')"
   ]
  },
  {
   "cell_type": "code",
   "execution_count": 20,
   "metadata": {},
   "outputs": [
    {
     "name": "stderr",
     "output_type": "stream",
     "text": [
      "\u001b[1;38;5;39mCOMET INFO:\u001b[0m ---------------------------------------------------------------------------------------\n",
      "\u001b[1;38;5;39mCOMET INFO:\u001b[0m Comet.ml Experiment Summary\n",
      "\u001b[1;38;5;39mCOMET INFO:\u001b[0m ---------------------------------------------------------------------------------------\n",
      "\u001b[1;38;5;39mCOMET INFO:\u001b[0m   Data:\n",
      "\u001b[1;38;5;39mCOMET INFO:\u001b[0m     display_summary_level : 1\n",
      "\u001b[1;38;5;39mCOMET INFO:\u001b[0m     url                   : https://www.comet.com/wereign/juan-ai/8d8231bd6976418896fbbb19c6112396\n"
     ]
    },
    {
     "name": "stderr",
     "output_type": "stream",
     "text": [
      "\u001b[1;38;5;39mCOMET INFO:\u001b[0m   Metrics [count] (min, max):\n",
      "\u001b[1;38;5;39mCOMET INFO:\u001b[0m     accuracy [63]                 : (0.11359523981809616, 0.999404788017273)\n",
      "\u001b[1;38;5;39mCOMET INFO:\u001b[0m     batch_accuracy [2082]         : (0.1015625, 1.0)\n",
      "\u001b[1;38;5;39mCOMET INFO:\u001b[0m     batch_loss [2082]             : (0.00029554683715105057, 2.305805206298828)\n",
      "\u001b[1;38;5;39mCOMET INFO:\u001b[0m     epoch_duration [63]           : (10.17199999999957, 14.484000000000378)\n",
      "\u001b[1;38;5;39mCOMET INFO:\u001b[0m     loss [63]                     : (0.0024887314066290855, 2.3014681339263916)\n",
      "\u001b[1;38;5;39mCOMET INFO:\u001b[0m     val_accuracy [63]             : (0.10794444382190704, 0.984333336353302)\n",
      "\u001b[1;38;5;39mCOMET INFO:\u001b[0m     val_loss [63]                 : (0.0658048540353775, 2.301764965057373)\n",
      "\u001b[1;38;5;39mCOMET INFO:\u001b[0m     validate_batch_accuracy [945] : (0.10775619000196457, 0.9921875)\n",
      "\u001b[1;38;5;39mCOMET INFO:\u001b[0m     validate_batch_loss [945]     : (0.02850913628935814, 2.3019351959228516)\n",
      "\u001b[1;38;5;39mCOMET INFO:\u001b[0m   Others:\n",
      "\u001b[1;38;5;39mCOMET INFO:\u001b[0m     Name             : delete kardo\n",
      "\u001b[1;38;5;39mCOMET INFO:\u001b[0m     trainable_params : 225034\n",
      "\u001b[1;38;5;39mCOMET INFO:\u001b[0m   Parameters:\n",
      "\u001b[1;38;5;39mCOMET INFO:\u001b[0m     RMSprop_centered                : False\n",
      "\u001b[1;38;5;39mCOMET INFO:\u001b[0m     RMSprop_clipnorm                : 1\n",
      "\u001b[1;38;5;39mCOMET INFO:\u001b[0m     RMSprop_clipvalue               : 1\n",
      "\u001b[1;38;5;39mCOMET INFO:\u001b[0m     RMSprop_ema_momentum            : 0.99\n",
      "\u001b[1;38;5;39mCOMET INFO:\u001b[0m     RMSprop_ema_overwrite_frequency : 100\n",
      "\u001b[1;38;5;39mCOMET INFO:\u001b[0m     RMSprop_epsilon                 : 1e-07\n",
      "\u001b[1;38;5;39mCOMET INFO:\u001b[0m     RMSprop_global_clipnorm         : 1\n",
      "\u001b[1;38;5;39mCOMET INFO:\u001b[0m     RMSprop_is_legacy_optimizer     : False\n",
      "\u001b[1;38;5;39mCOMET INFO:\u001b[0m     RMSprop_jit_compile             : False\n",
      "\u001b[1;38;5;39mCOMET INFO:\u001b[0m     RMSprop_learning_rate           : 0.0010000000474974513\n",
      "\u001b[1;38;5;39mCOMET INFO:\u001b[0m     RMSprop_momentum                : 0.0\n",
      "\u001b[1;38;5;39mCOMET INFO:\u001b[0m     RMSprop_name                    : RMSprop\n",
      "\u001b[1;38;5;39mCOMET INFO:\u001b[0m     RMSprop_rho                     : 0.9\n",
      "\u001b[1;38;5;39mCOMET INFO:\u001b[0m     RMSprop_use_ema                 : False\n",
      "\u001b[1;38;5;39mCOMET INFO:\u001b[0m     RMSprop_weight_decay            : 1\n",
      "\u001b[1;38;5;39mCOMET INFO:\u001b[0m     epochs                          : 30\n",
      "\u001b[1;38;5;39mCOMET INFO:\u001b[0m     loss                            : categorical_crossentropy\n",
      "\u001b[1;38;5;39mCOMET INFO:\u001b[0m     optimizer                       : rmsprop\n",
      "\u001b[1;38;5;39mCOMET INFO:\u001b[0m     steps                           : 329\n",
      "\u001b[1;38;5;39mCOMET INFO:\u001b[0m     validation_split                : 0.3\n",
      "\u001b[1;38;5;39mCOMET INFO:\u001b[0m   Uploads:\n",
      "\u001b[1;38;5;39mCOMET INFO:\u001b[0m     conda-environment-definition : 1\n",
      "\u001b[1;38;5;39mCOMET INFO:\u001b[0m     conda-info                   : 1\n",
      "\u001b[1;38;5;39mCOMET INFO:\u001b[0m     conda-specification          : 1\n",
      "\u001b[1;38;5;39mCOMET INFO:\u001b[0m     confusion-matrix             : 2\n",
      "\u001b[1;38;5;39mCOMET INFO:\u001b[0m     environment details          : 1\n",
      "\u001b[1;38;5;39mCOMET INFO:\u001b[0m     filename                     : 1\n",
      "\u001b[1;38;5;39mCOMET INFO:\u001b[0m     git metadata                 : 1\n",
      "\u001b[1;38;5;39mCOMET INFO:\u001b[0m     git-patch (uncompressed)     : 1 (6.85 KB)\n",
      "\u001b[1;38;5;39mCOMET INFO:\u001b[0m     histogram3d                  : 715\n",
      "\u001b[1;38;5;39mCOMET INFO:\u001b[0m     installed packages           : 1\n",
      "\u001b[1;38;5;39mCOMET INFO:\u001b[0m     model graph                  : 1\n",
      "\u001b[1;38;5;39mCOMET INFO:\u001b[0m     notebook                     : 1\n",
      "\u001b[1;38;5;39mCOMET INFO:\u001b[0m     source_code                  : 1\n",
      "\u001b[1;38;5;39mCOMET INFO:\u001b[0m \n",
      "\u001b[1;38;5;39mCOMET INFO:\u001b[0m Please wait for metadata to finish uploading (timeout is 3600 seconds)\n"
     ]
    }
   ],
   "source": [
    "experiment.end()"
   ]
  },
  {
   "cell_type": "code",
   "execution_count": null,
   "metadata": {},
   "outputs": [],
   "source": []
  }
 ],
 "metadata": {
  "kernelspec": {
   "display_name": "Python 3 (ipykernel)",
   "language": "python",
   "name": "python3"
  },
  "language_info": {
   "codemirror_mode": {
    "name": "ipython",
    "version": 3
   },
   "file_extension": ".py",
   "mimetype": "text/x-python",
   "name": "python",
   "nbconvert_exporter": "python",
   "pygments_lexer": "ipython3",
   "version": "3.9.18"
  }
 },
 "nbformat": 4,
 "nbformat_minor": 2
}
