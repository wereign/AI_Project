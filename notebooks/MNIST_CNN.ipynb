{
 "cells": [
  {
   "cell_type": "code",
   "execution_count": 1,
   "metadata": {},
   "outputs": [
    {
     "name": "stderr",
     "output_type": "stream",
     "text": [
      "c:\\Users\\viren\\miniconda3\\envs\\autogluon_env\\lib\\site-packages\\tqdm\\auto.py:21: TqdmWarning: IProgress not found. Please update jupyter and ipywidgets. See https://ipywidgets.readthedocs.io/en/stable/user_install.html\n",
      "  from .autonotebook import tqdm as notebook_tqdm\n"
     ]
    }
   ],
   "source": [
    "import comet_ml\n",
    "from comet_ml.integration.pytorch import log_model\n",
    "\n",
    "import cv2\n",
    "import torch\n",
    "import torch.nn as nn\n",
    "import torch.nn.functional as F\n",
    "from torch.utils.data import DataLoader\n",
    "from torchvision import datasets, transforms\n",
    "from torchvision.utils import make_grid\n",
    "\n",
    "import numpy as np\n",
    "import pandas as pd\n",
    "from sklearn.metrics import confusion_matrix\n",
    "import matplotlib.pyplot as plt\n",
    "%matplotlib inline"
   ]
  },
  {
   "cell_type": "code",
   "execution_count": 2,
   "metadata": {},
   "outputs": [
    {
     "name": "stderr",
     "output_type": "stream",
     "text": [
      "\u001b[1;38;5;214mCOMET WARNING:\u001b[0m As you are running in a Jupyter environment, you will need to call `experiment.end()` when finished to ensure all metrics and code are logged before exiting.\n",
      "\u001b[1;38;5;39mCOMET INFO:\u001b[0m Experiment is live on comet.com https://www.comet.com/wereign/juan-ai/9747c053e21b45aca0f00ea13f1965d5\n",
      "\n"
     ]
    }
   ],
   "source": [
    "comet_ml.init()\n",
    "experiment = comet_ml.Experiment(project_name='juan-ai',\n",
    "                                 auto_histogram_weight_logging=True,\n",
    "                                 auto_histogram_gradient_logging=True,\n",
    "                                 auto_histogram_activation_logging=True,)"
   ]
  },
  {
   "cell_type": "code",
   "execution_count": 3,
   "metadata": {},
   "outputs": [],
   "source": [
    "transform = transforms.ToTensor()\n",
    "\n",
    "train_data = datasets.MNIST(root='../datasets/mnist_dataset',download=True,train=True,transform=transform)\n",
    "\n",
    "\n",
    "test_data = datasets.MNIST(root='../datasets/mnist_dataset',download=True,train=False,transform=transform)"
   ]
  },
  {
   "cell_type": "code",
   "execution_count": 4,
   "metadata": {},
   "outputs": [
    {
     "data": {
      "text/plain": [
       "Dataset MNIST\n",
       "    Number of datapoints: 60000\n",
       "    Root location: ../datasets/mnist_dataset\n",
       "    Split: Train\n",
       "    StandardTransform\n",
       "Transform: ToTensor()"
      ]
     },
     "execution_count": 4,
     "metadata": {},
     "output_type": "execute_result"
    }
   ],
   "source": [
    "train_data"
   ]
  },
  {
   "cell_type": "code",
   "execution_count": 5,
   "metadata": {},
   "outputs": [
    {
     "data": {
      "text/plain": [
       "Dataset MNIST\n",
       "    Number of datapoints: 10000\n",
       "    Root location: ../datasets/mnist_dataset\n",
       "    Split: Test\n",
       "    StandardTransform\n",
       "Transform: ToTensor()"
      ]
     },
     "execution_count": 5,
     "metadata": {},
     "output_type": "execute_result"
    }
   ],
   "source": [
    "test_data"
   ]
  },
  {
   "cell_type": "code",
   "execution_count": 6,
   "metadata": {},
   "outputs": [],
   "source": [
    "train_loader = DataLoader(train_data,batch_size=10,shuffle=True)\n",
    "test_loader = DataLoader(test_data,batch_size=10,shuffle=False)"
   ]
  },
  {
   "cell_type": "markdown",
   "metadata": {},
   "source": [
    "Breaking down the working of convolutional layer\n",
    "\n",
    "- Conv2d Parameters\n",
    "1. In_Channels - Input Parameters\n",
    "2. Out_Channels - Out Parameters\n",
    "3. Kernel Size - Order of the kernel"
   ]
  },
  {
   "cell_type": "code",
   "execution_count": 7,
   "metadata": {},
   "outputs": [],
   "source": [
    "conv1 = nn.Conv2d(in_channels=1,out_channels=6,kernel_size=3,stride=1)   # A 2 Dimensional Convolutional Layer\n",
    "conv2 = nn.Conv2d(in_channels=6,out_channels=16,kernel_size=3,stride=1)"
   ]
  },
  {
   "cell_type": "markdown",
   "metadata": {},
   "source": []
  },
  {
   "cell_type": "code",
   "execution_count": 8,
   "metadata": {},
   "outputs": [],
   "source": [
    "for i, (X_train,y_train) in enumerate(train_data):\n",
    "    break"
   ]
  },
  {
   "cell_type": "code",
   "execution_count": 9,
   "metadata": {},
   "outputs": [
    {
     "name": "stdout",
     "output_type": "stream",
     "text": [
      "torch.Size([1, 28, 28])\n"
     ]
    }
   ],
   "source": [
    "print(X_train.shape)  # Converting to four dimensions to make it resemble a batch\n",
    "x = X_train.view(1,1,28,28)"
   ]
  },
  {
   "cell_type": "code",
   "execution_count": 10,
   "metadata": {},
   "outputs": [
    {
     "name": "stdout",
     "output_type": "stream",
     "text": [
      "torch.Size([1, 6, 26, 26])\n"
     ]
    }
   ],
   "source": [
    "x = F.relu(conv1(x))\n",
    "\n",
    "print(x.shape)\n"
   ]
  },
  {
   "cell_type": "code",
   "execution_count": 11,
   "metadata": {},
   "outputs": [
    {
     "name": "stdout",
     "output_type": "stream",
     "text": [
      "torch.Size([1, 6, 13, 13])\n"
     ]
    }
   ],
   "source": [
    "x = F.max_pool2d(x,2,2)\n",
    "print(x.shape) # Cutting the size in half , due to the pooling function"
   ]
  },
  {
   "cell_type": "code",
   "execution_count": 12,
   "metadata": {},
   "outputs": [
    {
     "name": "stdout",
     "output_type": "stream",
     "text": [
      "torch.Size([1, 16, 11, 11])\n"
     ]
    }
   ],
   "source": [
    "x = F.relu(conv2(x))\n",
    "print(x.shape)"
   ]
  },
  {
   "cell_type": "code",
   "execution_count": 13,
   "metadata": {},
   "outputs": [
    {
     "name": "stdout",
     "output_type": "stream",
     "text": [
      "torch.Size([1, 16, 5, 5])\n"
     ]
    }
   ],
   "source": [
    "x = F.max_pool2d(x,2,2)\n",
    "print(x.shape)"
   ]
  },
  {
   "cell_type": "code",
   "execution_count": 14,
   "metadata": {},
   "outputs": [
    {
     "data": {
      "text/plain": [
       "torch.Size([1, 16, 5, 5])"
      ]
     },
     "execution_count": 14,
     "metadata": {},
     "output_type": "execute_result"
    }
   ],
   "source": [
    "# Feeding into a flat layer\n",
    "x.shape"
   ]
  },
  {
   "cell_type": "code",
   "execution_count": 15,
   "metadata": {},
   "outputs": [
    {
     "data": {
      "text/plain": [
       "torch.Size([1, 400])"
      ]
     },
     "execution_count": 15,
     "metadata": {},
     "output_type": "execute_result"
    }
   ],
   "source": [
    "x.view(-1,16*5*5).shape"
   ]
  },
  {
   "cell_type": "markdown",
   "metadata": {},
   "source": [
    "## Model and Training"
   ]
  },
  {
   "cell_type": "code",
   "execution_count": 16,
   "metadata": {},
   "outputs": [],
   "source": [
    "class ConvolutionalNetwork(nn.Module):\n",
    "    def __init__(self):\n",
    "        super().__init__()\n",
    "        self.conv1 = nn.Conv2d(1, 6, 3, 1)\n",
    "        self.conv2 = nn.Conv2d(6, 16, 3, 1)\n",
    "        self.fc1 = nn.Linear(5*5*16, 120)\n",
    "        self.fc2 = nn.Linear(120, 84)\n",
    "        self.fc3 = nn.Linear(84,10)\n",
    "\n",
    "    def forward(self, X):\n",
    "        X = F.relu(self.conv1(X))\n",
    "        X = F.max_pool2d(X, 2, 2)\n",
    "        X = F.relu(self.conv2(X))\n",
    "        X = F.max_pool2d(X, 2, 2)\n",
    "        X = X.view(-1, 5*5*16)\n",
    "        X = F.relu(self.fc1(X))\n",
    "        X = F.relu(self.fc2(X))\n",
    "        X = self.fc3(X)\n",
    "        return F.log_softmax(X, dim=1)"
   ]
  },
  {
   "cell_type": "code",
   "execution_count": 17,
   "metadata": {},
   "outputs": [
    {
     "name": "stdout",
     "output_type": "stream",
     "text": [
      "ConvolutionalNetwork(\n",
      "  (conv1): Conv2d(1, 6, kernel_size=(3, 3), stride=(1, 1))\n",
      "  (conv2): Conv2d(6, 16, kernel_size=(3, 3), stride=(1, 1))\n",
      "  (fc1): Linear(in_features=400, out_features=120, bias=True)\n",
      "  (fc2): Linear(in_features=120, out_features=84, bias=True)\n",
      "  (fc3): Linear(in_features=84, out_features=10, bias=True)\n",
      ")\n"
     ]
    }
   ],
   "source": [
    "torch.manual_seed(42)\n",
    "model = ConvolutionalNetwork()\n",
    "print(model)\n",
    "\n",
    "log_model(experiment, model, model_name=\"MNIST_CNN\")"
   ]
  },
  {
   "cell_type": "code",
   "execution_count": 18,
   "metadata": {},
   "outputs": [
    {
     "name": "stdout",
     "output_type": "stream",
     "text": [
      "54\n",
      "6\n",
      "864\n",
      "16\n",
      "48000\n",
      "120\n",
      "10080\n",
      "84\n",
      "840\n",
      "10\n",
      "Total parameters: 60074\n"
     ]
    }
   ],
   "source": [
    "total_parameters = 0\n",
    "for param in model.parameters():\n",
    "    total_parameters += param.numel()\n",
    "    print(param.numel()) # number of elements\n",
    "print(f'Total parameters: {total_parameters}')"
   ]
  },
  {
   "cell_type": "code",
   "execution_count": 19,
   "metadata": {},
   "outputs": [],
   "source": [
    "parameters = {\n",
    "    \"epochs\":30,\n",
    "    \"optimizer\":\"Adam\",\n",
    "    \"loss\":\"categorical_crossentropy\",\n",
    "    \"learning_rate\":0.001\n",
    "}\n",
    "\n",
    "experiment.log_parameters(parameters)\n"
   ]
  },
  {
   "cell_type": "code",
   "execution_count": 20,
   "metadata": {},
   "outputs": [],
   "source": [
    "criterion = nn.CrossEntropyLoss()\n",
    "optimizer = torch.optim.Adam(model.parameters(),lr=0.001)"
   ]
  },
  {
   "cell_type": "code",
   "execution_count": 21,
   "metadata": {},
   "outputs": [
    {
     "name": "stdout",
     "output_type": "stream",
     "text": [
      "epoch:  0  batch:  600 [  6000/60000]  loss: 0.04055628  accuracy:  78.417%\n",
      "epoch:  0  batch: 1200 [ 12000/60000]  loss: 0.08253483  accuracy:  85.800%\n",
      "epoch:  0  batch: 1800 [ 18000/60000]  loss: 0.36470482  accuracy:  88.689%\n",
      "epoch:  0  batch: 2400 [ 24000/60000]  loss: 0.01839540  accuracy:  90.525%\n",
      "epoch:  0  batch: 3000 [ 30000/60000]  loss: 0.00862627  accuracy:  91.687%\n",
      "epoch:  0  batch: 3600 [ 36000/60000]  loss: 0.00106561  accuracy:  92.511%\n",
      "epoch:  0  batch: 4200 [ 42000/60000]  loss: 0.52497256  accuracy:  93.145%\n",
      "epoch:  0  batch: 4800 [ 48000/60000]  loss: 0.02084887  accuracy:  93.612%\n",
      "epoch:  0  batch: 5400 [ 54000/60000]  loss: 0.01113063  accuracy:  94.020%\n",
      "epoch:  0  batch: 6000 [ 60000/60000]  loss: 0.03805398  accuracy:  94.347%\n",
      "epoch:  1  batch:  600 [  6000/60000]  loss: 0.01128403  accuracy:  97.833%\n",
      "epoch:  1  batch: 1200 [ 12000/60000]  loss: 0.05087070  accuracy:  97.908%\n",
      "epoch:  1  batch: 1800 [ 18000/60000]  loss: 0.00096346  accuracy:  97.900%\n",
      "epoch:  1  batch: 2400 [ 24000/60000]  loss: 0.01751717  accuracy:  97.888%\n",
      "epoch:  1  batch: 3000 [ 30000/60000]  loss: 0.16903019  accuracy:  97.903%\n",
      "epoch:  1  batch: 3600 [ 36000/60000]  loss: 0.00188604  accuracy:  97.936%\n",
      "epoch:  1  batch: 4200 [ 42000/60000]  loss: 0.00068777  accuracy:  97.969%\n",
      "epoch:  1  batch: 4800 [ 48000/60000]  loss: 0.00125263  accuracy:  97.969%\n",
      "epoch:  1  batch: 5400 [ 54000/60000]  loss: 0.00105533  accuracy:  97.956%\n",
      "epoch:  1  batch: 6000 [ 60000/60000]  loss: 0.04550268  accuracy:  97.985%\n",
      "epoch:  2  batch:  600 [  6000/60000]  loss: 0.00049188  accuracy:  98.883%\n",
      "epoch:  2  batch: 1200 [ 12000/60000]  loss: 0.00411659  accuracy:  98.717%\n",
      "epoch:  2  batch: 1800 [ 18000/60000]  loss: 0.00150504  accuracy:  98.589%\n",
      "epoch:  2  batch: 2400 [ 24000/60000]  loss: 0.00098488  accuracy:  98.617%\n",
      "epoch:  2  batch: 3000 [ 30000/60000]  loss: 0.29818979  accuracy:  98.583%\n",
      "epoch:  2  batch: 3600 [ 36000/60000]  loss: 0.03532401  accuracy:  98.536%\n",
      "epoch:  2  batch: 4200 [ 42000/60000]  loss: 0.01428338  accuracy:  98.526%\n",
      "epoch:  2  batch: 4800 [ 48000/60000]  loss: 0.04314246  accuracy:  98.535%\n",
      "epoch:  2  batch: 5400 [ 54000/60000]  loss: 0.00020033  accuracy:  98.539%\n",
      "epoch:  2  batch: 6000 [ 60000/60000]  loss: 0.00003177  accuracy:  98.542%\n",
      "epoch:  3  batch:  600 [  6000/60000]  loss: 0.00058249  accuracy:  98.800%\n",
      "epoch:  3  batch: 1200 [ 12000/60000]  loss: 0.01110101  accuracy:  98.883%\n",
      "epoch:  3  batch: 1800 [ 18000/60000]  loss: 0.00057214  accuracy:  98.889%\n",
      "epoch:  3  batch: 2400 [ 24000/60000]  loss: 0.00012670  accuracy:  98.854%\n",
      "epoch:  3  batch: 3000 [ 30000/60000]  loss: 0.00641615  accuracy:  98.883%\n",
      "epoch:  3  batch: 3600 [ 36000/60000]  loss: 0.00419082  accuracy:  98.844%\n",
      "epoch:  3  batch: 4200 [ 42000/60000]  loss: 0.00017523  accuracy:  98.864%\n",
      "epoch:  3  batch: 4800 [ 48000/60000]  loss: 0.01384231  accuracy:  98.860%\n",
      "epoch:  3  batch: 5400 [ 54000/60000]  loss: 0.00503424  accuracy:  98.865%\n",
      "epoch:  3  batch: 6000 [ 60000/60000]  loss: 0.04076061  accuracy:  98.872%\n",
      "epoch:  4  batch:  600 [  6000/60000]  loss: 0.00068295  accuracy:  99.083%\n",
      "epoch:  4  batch: 1200 [ 12000/60000]  loss: 0.35669729  accuracy:  99.067%\n",
      "epoch:  4  batch: 1800 [ 18000/60000]  loss: 0.00055969  accuracy:  99.017%\n",
      "epoch:  4  batch: 2400 [ 24000/60000]  loss: 0.00022026  accuracy:  99.000%\n",
      "epoch:  4  batch: 3000 [ 30000/60000]  loss: 0.03456668  accuracy:  98.997%\n",
      "epoch:  4  batch: 3600 [ 36000/60000]  loss: 0.00078534  accuracy:  99.025%\n",
      "epoch:  4  batch: 4200 [ 42000/60000]  loss: 0.00377363  accuracy:  99.038%\n",
      "epoch:  4  batch: 4800 [ 48000/60000]  loss: 0.00024175  accuracy:  99.027%\n",
      "epoch:  4  batch: 5400 [ 54000/60000]  loss: 0.00000865  accuracy:  99.020%\n",
      "epoch:  4  batch: 6000 [ 60000/60000]  loss: 0.06003494  accuracy:  99.022%\n",
      "epoch:  5  batch:  600 [  6000/60000]  loss: 0.00012969  accuracy:  99.317%\n",
      "epoch:  5  batch: 1200 [ 12000/60000]  loss: 0.00237933  accuracy:  99.325%\n",
      "epoch:  5  batch: 1800 [ 18000/60000]  loss: 0.00396098  accuracy:  99.283%\n",
      "epoch:  5  batch: 2400 [ 24000/60000]  loss: 0.00012315  accuracy:  99.275%\n",
      "epoch:  5  batch: 3000 [ 30000/60000]  loss: 0.00002814  accuracy:  99.273%\n",
      "epoch:  5  batch: 3600 [ 36000/60000]  loss: 0.00012974  accuracy:  99.258%\n",
      "epoch:  5  batch: 4200 [ 42000/60000]  loss: 0.00006842  accuracy:  99.255%\n",
      "epoch:  5  batch: 4800 [ 48000/60000]  loss: 0.00035242  accuracy:  99.227%\n",
      "epoch:  5  batch: 5400 [ 54000/60000]  loss: 0.00001795  accuracy:  99.237%\n",
      "epoch:  5  batch: 6000 [ 60000/60000]  loss: 0.00000894  accuracy:  99.210%\n",
      "epoch:  6  batch:  600 [  6000/60000]  loss: 0.00105593  accuracy:  99.367%\n",
      "epoch:  6  batch: 1200 [ 12000/60000]  loss: 0.00006291  accuracy:  99.375%\n",
      "epoch:  6  batch: 1800 [ 18000/60000]  loss: 0.03504945  accuracy:  99.417%\n",
      "epoch:  6  batch: 2400 [ 24000/60000]  loss: 0.00041174  accuracy:  99.400%\n",
      "epoch:  6  batch: 3000 [ 30000/60000]  loss: 0.00021445  accuracy:  99.383%\n",
      "epoch:  6  batch: 3600 [ 36000/60000]  loss: 0.00002181  accuracy:  99.364%\n",
      "epoch:  6  batch: 4200 [ 42000/60000]  loss: 0.04783884  accuracy:  99.329%\n",
      "epoch:  6  batch: 4800 [ 48000/60000]  loss: 0.00827901  accuracy:  99.294%\n",
      "epoch:  6  batch: 5400 [ 54000/60000]  loss: 0.00744646  accuracy:  99.322%\n",
      "epoch:  6  batch: 6000 [ 60000/60000]  loss: 0.00002618  accuracy:  99.315%\n",
      "epoch:  7  batch:  600 [  6000/60000]  loss: 0.00031278  accuracy:  99.617%\n",
      "epoch:  7  batch: 1200 [ 12000/60000]  loss: 0.00000337  accuracy:  99.542%\n",
      "epoch:  7  batch: 1800 [ 18000/60000]  loss: 0.00080039  accuracy:  99.528%\n",
      "epoch:  7  batch: 2400 [ 24000/60000]  loss: 0.00470310  accuracy:  99.479%\n",
      "epoch:  7  batch: 3000 [ 30000/60000]  loss: 0.03544785  accuracy:  99.450%\n",
      "epoch:  7  batch: 3600 [ 36000/60000]  loss: 0.00051257  accuracy:  99.428%\n",
      "epoch:  7  batch: 4200 [ 42000/60000]  loss: 0.00007980  accuracy:  99.450%\n",
      "epoch:  7  batch: 4800 [ 48000/60000]  loss: 0.01294737  accuracy:  99.438%\n",
      "epoch:  7  batch: 5400 [ 54000/60000]  loss: 0.00021575  accuracy:  99.430%\n",
      "epoch:  7  batch: 6000 [ 60000/60000]  loss: 0.01245402  accuracy:  99.438%\n",
      "epoch:  8  batch:  600 [  6000/60000]  loss: 0.00003286  accuracy:  99.383%\n",
      "epoch:  8  batch: 1200 [ 12000/60000]  loss: 0.00033043  accuracy:  99.442%\n",
      "epoch:  8  batch: 1800 [ 18000/60000]  loss: 0.00545519  accuracy:  99.461%\n",
      "epoch:  8  batch: 2400 [ 24000/60000]  loss: 0.64623630  accuracy:  99.438%\n",
      "epoch:  8  batch: 3000 [ 30000/60000]  loss: 0.00159436  accuracy:  99.477%\n",
      "epoch:  8  batch: 3600 [ 36000/60000]  loss: 0.00008892  accuracy:  99.428%\n",
      "epoch:  8  batch: 4200 [ 42000/60000]  loss: 0.06042574  accuracy:  99.433%\n",
      "epoch:  8  batch: 4800 [ 48000/60000]  loss: 0.00068528  accuracy:  99.421%\n",
      "epoch:  8  batch: 5400 [ 54000/60000]  loss: 0.00000103  accuracy:  99.415%\n",
      "epoch:  8  batch: 6000 [ 60000/60000]  loss: 0.00057612  accuracy:  99.425%\n",
      "epoch:  9  batch:  600 [  6000/60000]  loss: 0.00032886  accuracy:  99.650%\n",
      "epoch:  9  batch: 1200 [ 12000/60000]  loss: 0.54004425  accuracy:  99.600%\n",
      "epoch:  9  batch: 1800 [ 18000/60000]  loss: 0.00003912  accuracy:  99.656%\n",
      "epoch:  9  batch: 2400 [ 24000/60000]  loss: 0.15204082  accuracy:  99.588%\n",
      "epoch:  9  batch: 3000 [ 30000/60000]  loss: 0.00079911  accuracy:  99.557%\n",
      "epoch:  9  batch: 3600 [ 36000/60000]  loss: 0.72892118  accuracy:  99.567%\n",
      "epoch:  9  batch: 4200 [ 42000/60000]  loss: 0.03486111  accuracy:  99.536%\n",
      "epoch:  9  batch: 4800 [ 48000/60000]  loss: 0.00037202  accuracy:  99.531%\n",
      "epoch:  9  batch: 5400 [ 54000/60000]  loss: 0.00574486  accuracy:  99.524%\n",
      "epoch:  9  batch: 6000 [ 60000/60000]  loss: 0.00000325  accuracy:  99.538%\n",
      "epoch: 10  batch:  600 [  6000/60000]  loss: 0.00014321  accuracy:  99.767%\n",
      "epoch: 10  batch: 1200 [ 12000/60000]  loss: 0.00022359  accuracy:  99.733%\n",
      "epoch: 10  batch: 1800 [ 18000/60000]  loss: 0.00026615  accuracy:  99.672%\n",
      "epoch: 10  batch: 2400 [ 24000/60000]  loss: 0.00000000  accuracy:  99.650%\n",
      "epoch: 10  batch: 3000 [ 30000/60000]  loss: 0.00006402  accuracy:  99.627%\n",
      "epoch: 10  batch: 3600 [ 36000/60000]  loss: 0.00010886  accuracy:  99.639%\n",
      "epoch: 10  batch: 4200 [ 42000/60000]  loss: 0.00000871  accuracy:  99.619%\n",
      "epoch: 10  batch: 4800 [ 48000/60000]  loss: 0.00004992  accuracy:  99.625%\n",
      "epoch: 10  batch: 5400 [ 54000/60000]  loss: 0.00003228  accuracy:  99.607%\n",
      "epoch: 10  batch: 6000 [ 60000/60000]  loss: 0.00000634  accuracy:  99.592%\n",
      "epoch: 11  batch:  600 [  6000/60000]  loss: 0.10989676  accuracy:  99.600%\n",
      "epoch: 11  batch: 1200 [ 12000/60000]  loss: 0.12204494  accuracy:  99.633%\n",
      "epoch: 11  batch: 1800 [ 18000/60000]  loss: 0.00000769  accuracy:  99.589%\n",
      "epoch: 11  batch: 2400 [ 24000/60000]  loss: 0.00305862  accuracy:  99.575%\n",
      "epoch: 11  batch: 3000 [ 30000/60000]  loss: 0.00654399  accuracy:  99.567%\n",
      "epoch: 11  batch: 3600 [ 36000/60000]  loss: 0.00000123  accuracy:  99.589%\n",
      "epoch: 11  batch: 4200 [ 42000/60000]  loss: 0.00000170  accuracy:  99.581%\n",
      "epoch: 11  batch: 4800 [ 48000/60000]  loss: 0.00023830  accuracy:  99.562%\n",
      "epoch: 11  batch: 5400 [ 54000/60000]  loss: 0.00676575  accuracy:  99.563%\n",
      "epoch: 11  batch: 6000 [ 60000/60000]  loss: 0.49728790  accuracy:  99.565%\n",
      "epoch: 12  batch:  600 [  6000/60000]  loss: 0.00000527  accuracy:  99.733%\n",
      "epoch: 12  batch: 1200 [ 12000/60000]  loss: 0.00069889  accuracy:  99.650%\n",
      "epoch: 12  batch: 1800 [ 18000/60000]  loss: 0.00000004  accuracy:  99.739%\n",
      "epoch: 12  batch: 2400 [ 24000/60000]  loss: 0.00006018  accuracy:  99.737%\n",
      "epoch: 12  batch: 3000 [ 30000/60000]  loss: 0.00025710  accuracy:  99.690%\n",
      "epoch: 12  batch: 3600 [ 36000/60000]  loss: 0.00007449  accuracy:  99.692%\n",
      "epoch: 12  batch: 4200 [ 42000/60000]  loss: 0.26572695  accuracy:  99.676%\n",
      "epoch: 12  batch: 4800 [ 48000/60000]  loss: 0.02060265  accuracy:  99.671%\n",
      "epoch: 12  batch: 5400 [ 54000/60000]  loss: 0.00000467  accuracy:  99.648%\n",
      "epoch: 12  batch: 6000 [ 60000/60000]  loss: 0.00000038  accuracy:  99.623%\n",
      "epoch: 13  batch:  600 [  6000/60000]  loss: 0.00006174  accuracy:  99.483%\n",
      "epoch: 13  batch: 1200 [ 12000/60000]  loss: 0.00044802  accuracy:  99.592%\n",
      "epoch: 13  batch: 1800 [ 18000/60000]  loss: 0.00104560  accuracy:  99.700%\n",
      "epoch: 13  batch: 2400 [ 24000/60000]  loss: 0.00723109  accuracy:  99.667%\n",
      "epoch: 13  batch: 3000 [ 30000/60000]  loss: 0.00000147  accuracy:  99.667%\n",
      "epoch: 13  batch: 3600 [ 36000/60000]  loss: 0.00566335  accuracy:  99.681%\n",
      "epoch: 13  batch: 4200 [ 42000/60000]  loss: 0.00001223  accuracy:  99.662%\n",
      "epoch: 13  batch: 4800 [ 48000/60000]  loss: 0.00023110  accuracy:  99.665%\n",
      "epoch: 13  batch: 5400 [ 54000/60000]  loss: 0.00000813  accuracy:  99.637%\n",
      "epoch: 13  batch: 6000 [ 60000/60000]  loss: 0.00011441  accuracy:  99.623%\n",
      "epoch: 14  batch:  600 [  6000/60000]  loss: 0.00000000  accuracy:  99.783%\n",
      "epoch: 14  batch: 1200 [ 12000/60000]  loss: 0.00611759  accuracy:  99.642%\n",
      "epoch: 14  batch: 1800 [ 18000/60000]  loss: 0.00000387  accuracy:  99.639%\n",
      "epoch: 14  batch: 2400 [ 24000/60000]  loss: 0.00000080  accuracy:  99.662%\n",
      "epoch: 14  batch: 3000 [ 30000/60000]  loss: 0.00000011  accuracy:  99.613%\n",
      "epoch: 14  batch: 3600 [ 36000/60000]  loss: 0.00000232  accuracy:  99.611%\n",
      "epoch: 14  batch: 4200 [ 42000/60000]  loss: 0.10500544  accuracy:  99.600%\n",
      "epoch: 14  batch: 4800 [ 48000/60000]  loss: 0.00000000  accuracy:  99.612%\n",
      "epoch: 14  batch: 5400 [ 54000/60000]  loss: 0.00000135  accuracy:  99.633%\n",
      "epoch: 14  batch: 6000 [ 60000/60000]  loss: 0.00000029  accuracy:  99.635%\n",
      "\n",
      "Duration: 843 seconds\n"
     ]
    }
   ],
   "source": [
    "import time\n",
    "start_time = time.time()\n",
    "\n",
    "\n",
    "\n",
    "epochs = 15\n",
    "train_losses = []\n",
    "test_losses = []\n",
    "train_correct = []\n",
    "test_correct = []\n",
    "\n",
    "for i in range(epochs):\n",
    "    trn_corr = 0\n",
    "    tst_corr = 0\n",
    "    \n",
    "    # Run the training batches\n",
    "    for b, (X_train, y_train) in enumerate(train_loader):\n",
    "        b+=1\n",
    "        \n",
    "        # Apply the model\n",
    "        y_pred = model(X_train)  # we don't flatten X-train here\n",
    "        loss = criterion(y_pred, y_train)\n",
    " \n",
    "        # Tally the number of correct predictions\n",
    "        predicted = torch.max(y_pred.data, 1)[1]\n",
    "        batch_corr = (predicted == y_train).sum()\n",
    "        trn_corr += batch_corr\n",
    "        \n",
    "        # Update parameters\n",
    "        optimizer.zero_grad()\n",
    "        loss.backward()\n",
    "        optimizer.step()\n",
    "        \n",
    "        # Print interim results\n",
    "        if b%600 == 0:\n",
    "            print(f'epoch: {i:2}  batch: {b:4} [{10*b:6}/60000]  loss: {loss.item():10.8f}  \\\n",
    "accuracy: {trn_corr.item()*100/(10*b):7.3f}%')\n",
    "        \n",
    "    train_losses.append(loss)\n",
    "    train_correct.append(trn_corr)\n",
    "        \n",
    "    # Run the testing batches\n",
    "    with torch.no_grad():\n",
    "        for b, (X_test, y_test) in enumerate(test_loader):\n",
    "\n",
    "            # Apply the model\n",
    "            y_val = model(X_test)\n",
    "\n",
    "            # Tally the number of correct predictions\n",
    "            predicted = torch.max(y_val.data, 1)[1] \n",
    "            tst_corr += (predicted == y_test).sum()\n",
    "            \n",
    "    loss = criterion(y_val, y_test)\n",
    "    test_losses.append(loss)\n",
    "    test_correct.append(tst_corr)\n",
    "        \n",
    "print(f'\\nDuration: {time.time() - start_time:.0f} seconds') # print the time elapsed            "
   ]
  },
  {
   "cell_type": "code",
   "execution_count": 22,
   "metadata": {},
   "outputs": [],
   "source": [
    "torch.save(model.state_dict(),'MNIST_CNN.pt')"
   ]
  },
  {
   "cell_type": "code",
   "execution_count": 23,
   "metadata": {},
   "outputs": [
    {
     "data": {
      "text/plain": [
       "<matplotlib.legend.Legend at 0x2c98e89c640>"
      ]
     },
     "execution_count": 23,
     "metadata": {},
     "output_type": "execute_result"
    },
    {
     "data": {
      "image/png": "[encoded data removed]",
      "text/plain": [
       "<Figure size 640x480 with 1 Axes>"
      ]
     },
     "metadata": {},
     "output_type": "display_data"
    }
   ],
   "source": [
    "for loss_idx,item in enumerate(train_losses):\n",
    "    train_losses[loss_idx] = item.detach().numpy().item()\n",
    "plt.plot(train_losses,label='Train Loss')\n",
    "plt.plot(test_losses,label='Validation Loss')\n",
    "plt.title(\"LOSS AT EPOCH\")\n",
    "plt.legend()"
   ]
  },
  {
   "cell_type": "code",
   "execution_count": 24,
   "metadata": {},
   "outputs": [
    {
     "data": {
      "text/plain": [
       "<matplotlib.legend.Legend at 0x2c98e89cbe0>"
      ]
     },
     "execution_count": 24,
     "metadata": {},
     "output_type": "execute_result"
    },
    {
     "data": {
      "image/png": "[encoded data removed]",
      "text/plain": [
       "<Figure size 640x480 with 1 Axes>"
      ]
     },
     "metadata": {},
     "output_type": "display_data"
    }
   ],
   "source": [
    "plt.plot([t/600 for t in train_correct],label='Training Accuracy')\n",
    "plt.plot([t/100 for t in test_correct], label='Validation Accuracy')\n",
    "plt.title('Accuracy at the end of the epoch')\n",
    "plt.legend()"
   ]
  },
  {
   "cell_type": "code",
   "execution_count": 25,
   "metadata": {},
   "outputs": [],
   "source": [
    "test_load_all  = DataLoader(test_data,batch_size=10000,shuffle=False)\n",
    "\n",
    "with torch.no_grad():\n",
    "    correct = 0\n",
    "\n",
    "    for X_test,y_test in test_load_all:\n",
    "        y_val = model(X_test)\n",
    "        predicted = torch.max(y_val,1)[1]\n",
    "        correct += (predicted == y_test).sum()\n",
    "        "
   ]
  },
  {
   "cell_type": "code",
   "execution_count": 26,
   "metadata": {},
   "outputs": [
    {
     "data": {
      "text/plain": [
       "98.74000000000001"
      ]
     },
     "execution_count": 26,
     "metadata": {},
     "output_type": "execute_result"
    }
   ],
   "source": [
    "correct.item()/len(test_data)*100"
   ]
  },
  {
   "cell_type": "code",
   "execution_count": 27,
   "metadata": {},
   "outputs": [
    {
     "name": "stdout",
     "output_type": "stream",
     "text": [
      "[[   0    1    2    3    4    5    6    7    8    9]]\n",
      "\n",
      "[[ 975    0    1    0    0    1    4    0    4    0]\n",
      " [   0 1127    1    1    1    0    2    3    0    0]\n",
      " [   1    0 1016    0    1    0    1    3    2    1]\n",
      " [   0    1    5 1004    0   10    0    2    4    5]\n",
      " [   0    0    1    0  970    0    1    0    2    1]\n",
      " [   0    1    0    2    0  877    4    0    2    4]\n",
      " [   1    4    0    0    3    2  945    0    1    0]\n",
      " [   1    2    8    2    1    0    0 1013    1    3]\n",
      " [   0    0    0    1    0    0    1    1  953    1]\n",
      " [   2    0    0    0    6    2    0    6    5  994]]\n"
     ]
    },
    {
     "data": {
      "text/plain": [
       "{'web': 'https://www.comet.com/api/asset/download?assetId=2d16660009624ffd94cf4f54e294b934&experimentKey=9747c053e21b45aca0f00ea13f1965d5',\n",
       " 'api': 'https://www.comet.com/api/rest/v2/experiment/asset/get-asset?assetId=2d16660009624ffd94cf4f54e294b934&experimentKey=9747c053e21b45aca0f00ea13f1965d5',\n",
       " 'assetId': '2d16660009624ffd94cf4f54e294b934'}"
      ]
     },
     "execution_count": 27,
     "metadata": {},
     "output_type": "execute_result"
    }
   ],
   "source": [
    "# print a row of values for reference\n",
    "np.set_printoptions(formatter=dict(int=lambda x: f'{x:4}'))\n",
    "print(np.arange(10).reshape(1,10))\n",
    "print()\n",
    "\n",
    "# print the confusion matrix\n",
    "confusion_mat = confusion_matrix(predicted.view(-1), y_test.view(-1))\n",
    "\n",
    "print(confusion_mat)\n",
    "\n",
    "\n",
    "experiment.log_confusion_matrix(matrix=confusion_mat)"
   ]
  },
  {
   "cell_type": "code",
   "execution_count": 28,
   "metadata": {},
   "outputs": [
    {
     "name": "stdout",
     "output_type": "stream",
     "text": [
      "The number in the image is : 2\n"
     ]
    },
    {
     "data": {
      "image/png": "[encoded data removed]",
      "text/plain": [
       "<Figure size 640x480 with 1 Axes>"
      ]
     },
     "metadata": {},
     "output_type": "display_data"
    }
   ],
   "source": [
    "chosen_index = int(input(\"Choose a number between 1 to 10,000: \"))\n",
    "plt.imshow(test_data[chosen_index][0].reshape(28,28))\n",
    "model.eval()\n",
    "with torch.no_grad():\n",
    "    new_pred = model(test_data[chosen_index][0].view(1,1,28,28))\n",
    "print(f\"The number in the image is : {new_pred.argmax().item()}\")"
   ]
  },
  {
   "cell_type": "code",
   "execution_count": 30,
   "metadata": {},
   "outputs": [
    {
     "name": "stderr",
     "output_type": "stream",
     "text": [
      "\u001b[1;38;5;39mCOMET INFO:\u001b[0m ---------------------------------------------------------------------------------------\n",
      "\u001b[1;38;5;39mCOMET INFO:\u001b[0m Comet.ml Experiment Summary\n",
      "\u001b[1;38;5;39mCOMET INFO:\u001b[0m ---------------------------------------------------------------------------------------\n",
      "\u001b[1;38;5;39mCOMET INFO:\u001b[0m   Data:\n",
      "\u001b[1;38;5;39mCOMET INFO:\u001b[0m     display_summary_level : 1\n",
      "\u001b[1;38;5;39mCOMET INFO:\u001b[0m     url                   : https://www.comet.com/wereign/juan-ai/9747c053e21b45aca0f00ea13f1965d5\n",
      "\u001b[1;38;5;39mCOMET INFO:\u001b[0m   Metrics [count] (min, max):\n",
      "\u001b[1;38;5;39mCOMET INFO:\u001b[0m     loss [9000] : (0.0, 2.337458848953247)\n",
      "\u001b[1;38;5;39mCOMET INFO:\u001b[0m   Parameters:\n",
      "\u001b[1;38;5;39mCOMET INFO:\u001b[0m     epochs        : 30\n",
      "\u001b[1;38;5;39mCOMET INFO:\u001b[0m     learning_rate : 0.001\n",
      "\u001b[1;38;5;39mCOMET INFO:\u001b[0m     loss          : categorical_crossentropy\n",
      "\u001b[1;38;5;39mCOMET INFO:\u001b[0m     optimizer     : Adam\n",
      "\u001b[1;38;5;39mCOMET INFO:\u001b[0m   Uploads:\n",
      "\u001b[1;38;5;39mCOMET INFO:\u001b[0m     conda-environment-definition : 1\n",
      "\u001b[1;38;5;39mCOMET INFO:\u001b[0m     conda-info                   : 1\n",
      "\u001b[1;38;5;39mCOMET INFO:\u001b[0m     conda-specification          : 1\n",
      "\u001b[1;38;5;39mCOMET INFO:\u001b[0m     confusion-matrix             : 1\n",
      "\u001b[1;38;5;39mCOMET INFO:\u001b[0m     environment details          : 1\n",
      "\u001b[1;38;5;39mCOMET INFO:\u001b[0m     filename                     : 1\n",
      "\u001b[1;38;5;39mCOMET INFO:\u001b[0m     git metadata                 : 1\n",
      "\u001b[1;38;5;39mCOMET INFO:\u001b[0m     git-patch (uncompressed)     : 1 (193.89 KB)\n",
      "\u001b[1;38;5;39mCOMET INFO:\u001b[0m     installed packages           : 1\n",
      "\u001b[1;38;5;39mCOMET INFO:\u001b[0m     model graph                  : 1\n",
      "\u001b[1;38;5;39mCOMET INFO:\u001b[0m     model-element                : 2 (237.62 KB)\n",
      "\u001b[1;38;5;39mCOMET INFO:\u001b[0m     notebook                     : 1\n",
      "\u001b[1;38;5;39mCOMET INFO:\u001b[0m     source_code                  : 1\n",
      "\u001b[1;38;5;39mCOMET INFO:\u001b[0m \n",
      "\u001b[1;38;5;39mCOMET INFO:\u001b[0m Please wait for metadata to finish uploading (timeout is 3600 seconds)\n"
     ]
    }
   ],
   "source": [
    "experiment.end()"
   ]
  },
  {
   "cell_type": "code",
   "execution_count": null,
   "metadata": {},
   "outputs": [],
   "source": []
  }
 ],
 "metadata": {
  "kernelspec": {
   "display_name": "Python 3.7.3 ('pytorchenv')",
   "language": "python",
   "name": "python3"
  },
  "language_info": {
   "codemirror_mode": {
    "name": "ipython",
    "version": 3
   },
   "file_extension": ".py",
   "mimetype": "text/x-python",
   "name": "python",
   "nbconvert_exporter": "python",
   "pygments_lexer": "ipython3",
   "version": "3.9.18"
  },
  "orig_nbformat": 4,
  "vscode": {
   "interpreter": {
    "hash": "49b76041c373911fded19fce7465faa07019cc579c640fc8bbed67f9fbbaffdf"
   }
  }
 },
 "nbformat": 4,
 "nbformat_minor": 2
}
