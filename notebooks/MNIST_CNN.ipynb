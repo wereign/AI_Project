{
 "cells": [
  {
   "cell_type": "code",
   "execution_count": 1,
   "metadata": {},
   "outputs": [
    {
     "name": "stderr",
     "output_type": "stream",
     "text": [
      "c:\\Users\\viren\\miniconda3\\envs\\autogluon_env\\lib\\site-packages\\tqdm\\auto.py:21: TqdmWarning: IProgress not found. Please update jupyter and ipywidgets. See https://ipywidgets.readthedocs.io/en/stable/user_install.html\n",
      "  from .autonotebook import tqdm as notebook_tqdm\n"
     ]
    }
   ],
   "source": [
    "import cv2\n",
    "import torch\n",
    "import torch.nn as nn\n",
    "import torch.nn.functional as F\n",
    "from torch.utils.data import DataLoader\n",
    "from torchvision import datasets, transforms\n",
    "from torchvision.utils import make_grid\n",
    "\n",
    "import numpy as np\n",
    "import pandas as pd\n",
    "from sklearn.metrics import confusion_matrix\n",
    "import matplotlib.pyplot as plt\n",
    "%matplotlib inline"
   ]
  },
  {
   "cell_type": "code",
   "execution_count": 2,
   "metadata": {},
   "outputs": [],
   "source": [
    "transform = transforms.ToTensor()\n",
    "\n",
    "train_data = datasets.MNIST(root='../datasets/mnist_dataset',download=True,train=True,transform=transform)\n",
    "\n",
    "\n",
    "test_data = datasets.MNIST(root='../datasets/mnist_dataset',download=True,train=False,transform=transform)"
   ]
  },
  {
   "cell_type": "code",
   "execution_count": 3,
   "metadata": {},
   "outputs": [
    {
     "data": {
      "text/plain": [
       "Dataset MNIST\n",
       "    Number of datapoints: 60000\n",
       "    Root location: ../datasets/mnist_dataset\n",
       "    Split: Train\n",
       "    StandardTransform\n",
       "Transform: ToTensor()"
      ]
     },
     "execution_count": 3,
     "metadata": {},
     "output_type": "execute_result"
    }
   ],
   "source": [
    "train_data"
   ]
  },
  {
   "cell_type": "code",
   "execution_count": 4,
   "metadata": {},
   "outputs": [
    {
     "data": {
      "text/plain": [
       "Dataset MNIST\n",
       "    Number of datapoints: 10000\n",
       "    Root location: ../datasets/mnist_dataset\n",
       "    Split: Test\n",
       "    StandardTransform\n",
       "Transform: ToTensor()"
      ]
     },
     "execution_count": 4,
     "metadata": {},
     "output_type": "execute_result"
    }
   ],
   "source": [
    "test_data"
   ]
  },
  {
   "cell_type": "code",
   "execution_count": 5,
   "metadata": {},
   "outputs": [],
   "source": [
    "train_loader = DataLoader(train_data,batch_size=10,shuffle=True)\n",
    "test_loader = DataLoader(test_data,batch_size=10,shuffle=False)"
   ]
  },
  {
   "cell_type": "markdown",
   "metadata": {},
   "source": [
    "Breaking down the working of convolutional layer\n",
    "\n",
    "- Conv2d Parameters\n",
    "1. In_Channels - Input Parameters\n",
    "2. Out_Channels - Out Parameters\n",
    "3. Kernel Size - Order of the kernel"
   ]
  },
  {
   "cell_type": "code",
   "execution_count": 6,
   "metadata": {},
   "outputs": [],
   "source": [
    "conv1 = nn.Conv2d(in_channels=1,out_channels=6,kernel_size=3,stride=1)   # A 2 Dimensional Convolutional Layer\n",
    "conv2 = nn.Conv2d(in_channels=6,out_channels=16,kernel_size=3,stride=1)"
   ]
  },
  {
   "cell_type": "markdown",
   "metadata": {},
   "source": []
  },
  {
   "cell_type": "code",
   "execution_count": 7,
   "metadata": {},
   "outputs": [],
   "source": [
    "for i, (X_train,y_train) in enumerate(train_data):\n",
    "    break"
   ]
  },
  {
   "cell_type": "code",
   "execution_count": 8,
   "metadata": {},
   "outputs": [
    {
     "name": "stdout",
     "output_type": "stream",
     "text": [
      "torch.Size([1, 28, 28])\n"
     ]
    }
   ],
   "source": [
    "print(X_train.shape)  # Converting to four dimensions to make it resemble a batch\n",
    "x = X_train.view(1,1,28,28)"
   ]
  },
  {
   "cell_type": "code",
   "execution_count": 9,
   "metadata": {},
   "outputs": [
    {
     "name": "stdout",
     "output_type": "stream",
     "text": [
      "torch.Size([1, 6, 26, 26])\n"
     ]
    }
   ],
   "source": [
    "x = F.relu(conv1(x))\n",
    "\n",
    "print(x.shape)\n"
   ]
  },
  {
   "cell_type": "code",
   "execution_count": 10,
   "metadata": {},
   "outputs": [
    {
     "name": "stdout",
     "output_type": "stream",
     "text": [
      "torch.Size([1, 6, 13, 13])\n"
     ]
    }
   ],
   "source": [
    "x = F.max_pool2d(x,2,2)\n",
    "print(x.shape) # Cutting the size in half , due to the pooling function"
   ]
  },
  {
   "cell_type": "code",
   "execution_count": 11,
   "metadata": {},
   "outputs": [
    {
     "name": "stdout",
     "output_type": "stream",
     "text": [
      "torch.Size([1, 16, 11, 11])\n"
     ]
    }
   ],
   "source": [
    "x = F.relu(conv2(x))\n",
    "print(x.shape)"
   ]
  },
  {
   "cell_type": "code",
   "execution_count": 12,
   "metadata": {},
   "outputs": [
    {
     "name": "stdout",
     "output_type": "stream",
     "text": [
      "torch.Size([1, 16, 5, 5])\n"
     ]
    }
   ],
   "source": [
    "x = F.max_pool2d(x,2,2)\n",
    "print(x.shape)"
   ]
  },
  {
   "cell_type": "code",
   "execution_count": 13,
   "metadata": {},
   "outputs": [
    {
     "data": {
      "text/plain": [
       "torch.Size([1, 16, 5, 5])"
      ]
     },
     "execution_count": 13,
     "metadata": {},
     "output_type": "execute_result"
    }
   ],
   "source": [
    "# Feeding into a flat layer\n",
    "x.shape"
   ]
  },
  {
   "cell_type": "code",
   "execution_count": 14,
   "metadata": {},
   "outputs": [
    {
     "data": {
      "text/plain": [
       "torch.Size([1, 400])"
      ]
     },
     "execution_count": 14,
     "metadata": {},
     "output_type": "execute_result"
    }
   ],
   "source": [
    "x.view(-1,16*5*5).shape"
   ]
  },
  {
   "cell_type": "markdown",
   "metadata": {},
   "source": [
    "## Model and Training"
   ]
  },
  {
   "cell_type": "code",
   "execution_count": 3,
   "metadata": {},
   "outputs": [],
   "source": [
    "class ConvolutionalNetwork(nn.Module):\n",
    "    def __init__(self):\n",
    "        super().__init__()\n",
    "        self.conv1 = nn.Conv2d(1, 6, 3, 1)\n",
    "        self.conv2 = nn.Conv2d(6, 16, 3, 1)\n",
    "        self.fc1 = nn.Linear(5*5*16, 120)\n",
    "        self.fc2 = nn.Linear(120, 84)\n",
    "        self.fc3 = nn.Linear(84,10)\n",
    "\n",
    "    def forward(self, X):\n",
    "        X = F.relu(self.conv1(X))\n",
    "        X = F.max_pool2d(X, 2, 2)\n",
    "        X = F.relu(self.conv2(X))\n",
    "        X = F.max_pool2d(X, 2, 2)\n",
    "        X = X.view(-1, 5*5*16)\n",
    "        X = F.relu(self.fc1(X))\n",
    "        X = F.relu(self.fc2(X))\n",
    "        X = self.fc3(X)\n",
    "        return F.log_softmax(X, dim=1)"
   ]
  },
  {
   "cell_type": "code",
   "execution_count": 16,
   "metadata": {},
   "outputs": [
    {
     "name": "stdout",
     "output_type": "stream",
     "text": [
      "ConvolutionalNetwork(\n",
      "  (conv1): Conv2d(1, 6, kernel_size=(3, 3), stride=(1, 1))\n",
      "  (conv2): Conv2d(6, 16, kernel_size=(3, 3), stride=(1, 1))\n",
      "  (fc1): Linear(in_features=400, out_features=120, bias=True)\n",
      "  (fc2): Linear(in_features=120, out_features=84, bias=True)\n",
      "  (fc3): Linear(in_features=84, out_features=10, bias=True)\n",
      ")\n"
     ]
    }
   ],
   "source": [
    "torch.manual_seed(42)\n",
    "model = ConvolutionalNetwork()\n",
    "print(model)"
   ]
  },
  {
   "cell_type": "code",
   "execution_count": 17,
   "metadata": {},
   "outputs": [
    {
     "name": "stdout",
     "output_type": "stream",
     "text": [
      "54\n",
      "6\n",
      "864\n",
      "16\n",
      "48000\n",
      "120\n",
      "10080\n",
      "84\n",
      "840\n",
      "10\n",
      "Total parameters: 60074\n"
     ]
    }
   ],
   "source": [
    "total_parameters = 0\n",
    "for param in model.parameters():\n",
    "    total_parameters += param.numel()\n",
    "    print(param.numel()) # number of elements\n",
    "print(f'Total parameters: {total_parameters}')"
   ]
  },
  {
   "cell_type": "code",
   "execution_count": 18,
   "metadata": {},
   "outputs": [],
   "source": [
    "criterion = nn.CrossEntropyLoss()\n",
    "optimizer = torch.optim.Adam(model.parameters(),lr=0.001)"
   ]
  },
  {
   "cell_type": "code",
   "execution_count": 19,
   "metadata": {},
   "outputs": [
    {
     "name": "stdout",
     "output_type": "stream",
     "text": [
      "epoch:  0  batch:  600 [  6000/60000]  loss: 0.04055628  accuracy:  78.417%\n",
      "epoch:  0  batch: 1200 [ 12000/60000]  loss: 0.08253483  accuracy:  85.800%\n",
      "epoch:  0  batch: 1800 [ 18000/60000]  loss: 0.36470482  accuracy:  88.689%\n",
      "epoch:  0  batch: 2400 [ 24000/60000]  loss: 0.01839540  accuracy:  90.525%\n",
      "epoch:  0  batch: 3000 [ 30000/60000]  loss: 0.00862627  accuracy:  91.687%\n",
      "epoch:  0  batch: 3600 [ 36000/60000]  loss: 0.00106561  accuracy:  92.511%\n",
      "epoch:  0  batch: 4200 [ 42000/60000]  loss: 0.52497256  accuracy:  93.145%\n",
      "epoch:  0  batch: 4800 [ 48000/60000]  loss: 0.02084887  accuracy:  93.612%\n",
      "epoch:  0  batch: 5400 [ 54000/60000]  loss: 0.01113063  accuracy:  94.020%\n",
      "epoch:  0  batch: 6000 [ 60000/60000]  loss: 0.03805398  accuracy:  94.347%\n",
      "epoch:  1  batch:  600 [  6000/60000]  loss: 0.01128403  accuracy:  97.833%\n",
      "epoch:  1  batch: 1200 [ 12000/60000]  loss: 0.05087070  accuracy:  97.908%\n",
      "epoch:  1  batch: 1800 [ 18000/60000]  loss: 0.00096346  accuracy:  97.900%\n",
      "epoch:  1  batch: 2400 [ 24000/60000]  loss: 0.01751717  accuracy:  97.888%\n",
      "epoch:  1  batch: 3000 [ 30000/60000]  loss: 0.16903019  accuracy:  97.903%\n",
      "epoch:  1  batch: 3600 [ 36000/60000]  loss: 0.00188604  accuracy:  97.936%\n",
      "epoch:  1  batch: 4200 [ 42000/60000]  loss: 0.00068777  accuracy:  97.969%\n",
      "epoch:  1  batch: 4800 [ 48000/60000]  loss: 0.00125263  accuracy:  97.969%\n",
      "epoch:  1  batch: 5400 [ 54000/60000]  loss: 0.00105533  accuracy:  97.956%\n",
      "epoch:  1  batch: 6000 [ 60000/60000]  loss: 0.04550268  accuracy:  97.985%\n",
      "epoch:  2  batch:  600 [  6000/60000]  loss: 0.00049188  accuracy:  98.883%\n",
      "epoch:  2  batch: 1200 [ 12000/60000]  loss: 0.00411659  accuracy:  98.717%\n",
      "epoch:  2  batch: 1800 [ 18000/60000]  loss: 0.00150504  accuracy:  98.589%\n",
      "epoch:  2  batch: 2400 [ 24000/60000]  loss: 0.00098488  accuracy:  98.617%\n",
      "epoch:  2  batch: 3000 [ 30000/60000]  loss: 0.29818979  accuracy:  98.583%\n",
      "epoch:  2  batch: 3600 [ 36000/60000]  loss: 0.03532401  accuracy:  98.536%\n",
      "epoch:  2  batch: 4200 [ 42000/60000]  loss: 0.01428338  accuracy:  98.526%\n",
      "epoch:  2  batch: 4800 [ 48000/60000]  loss: 0.04314246  accuracy:  98.535%\n",
      "epoch:  2  batch: 5400 [ 54000/60000]  loss: 0.00020033  accuracy:  98.539%\n",
      "epoch:  2  batch: 6000 [ 60000/60000]  loss: 0.00003177  accuracy:  98.542%\n",
      "epoch:  3  batch:  600 [  6000/60000]  loss: 0.00058249  accuracy:  98.800%\n",
      "epoch:  3  batch: 1200 [ 12000/60000]  loss: 0.01110101  accuracy:  98.883%\n",
      "epoch:  3  batch: 1800 [ 18000/60000]  loss: 0.00057214  accuracy:  98.889%\n",
      "epoch:  3  batch: 2400 [ 24000/60000]  loss: 0.00012670  accuracy:  98.854%\n",
      "epoch:  3  batch: 3000 [ 30000/60000]  loss: 0.00641615  accuracy:  98.883%\n",
      "epoch:  3  batch: 3600 [ 36000/60000]  loss: 0.00419082  accuracy:  98.844%\n",
      "epoch:  3  batch: 4200 [ 42000/60000]  loss: 0.00017523  accuracy:  98.864%\n",
      "epoch:  3  batch: 4800 [ 48000/60000]  loss: 0.01384231  accuracy:  98.860%\n",
      "epoch:  3  batch: 5400 [ 54000/60000]  loss: 0.00503424  accuracy:  98.865%\n",
      "epoch:  3  batch: 6000 [ 60000/60000]  loss: 0.04076061  accuracy:  98.872%\n",
      "epoch:  4  batch:  600 [  6000/60000]  loss: 0.00068295  accuracy:  99.083%\n",
      "epoch:  4  batch: 1200 [ 12000/60000]  loss: 0.35669729  accuracy:  99.067%\n",
      "epoch:  4  batch: 1800 [ 18000/60000]  loss: 0.00055969  accuracy:  99.017%\n",
      "epoch:  4  batch: 2400 [ 24000/60000]  loss: 0.00022026  accuracy:  99.000%\n",
      "epoch:  4  batch: 3000 [ 30000/60000]  loss: 0.03456668  accuracy:  98.997%\n",
      "epoch:  4  batch: 3600 [ 36000/60000]  loss: 0.00078534  accuracy:  99.025%\n",
      "epoch:  4  batch: 4200 [ 42000/60000]  loss: 0.00377363  accuracy:  99.038%\n",
      "epoch:  4  batch: 4800 [ 48000/60000]  loss: 0.00024175  accuracy:  99.027%\n",
      "epoch:  4  batch: 5400 [ 54000/60000]  loss: 0.00000865  accuracy:  99.020%\n",
      "epoch:  4  batch: 6000 [ 60000/60000]  loss: 0.06003494  accuracy:  99.022%\n",
      "\n",
      "Duration: 102 seconds\n"
     ]
    }
   ],
   "source": [
    "import time\n",
    "start_time = time.time()\n",
    "\n",
    "epochs = 5\n",
    "train_losses = []\n",
    "test_losses = []\n",
    "train_correct = []\n",
    "test_correct = []\n",
    "\n",
    "for i in range(epochs):\n",
    "    trn_corr = 0\n",
    "    tst_corr = 0\n",
    "    \n",
    "    # Run the training batches\n",
    "    for b, (X_train, y_train) in enumerate(train_loader):\n",
    "        b+=1\n",
    "        \n",
    "        # Apply the model\n",
    "        y_pred = model(X_train)  # we don't flatten X-train here\n",
    "        loss = criterion(y_pred, y_train)\n",
    " \n",
    "        # Tally the number of correct predictions\n",
    "        predicted = torch.max(y_pred.data, 1)[1]\n",
    "        batch_corr = (predicted == y_train).sum()\n",
    "        trn_corr += batch_corr\n",
    "        \n",
    "        # Update parameters\n",
    "        optimizer.zero_grad()\n",
    "        loss.backward()\n",
    "        optimizer.step()\n",
    "        \n",
    "        # Print interim results\n",
    "        if b%600 == 0:\n",
    "            print(f'epoch: {i:2}  batch: {b:4} [{10*b:6}/60000]  loss: {loss.item():10.8f}  \\\n",
    "accuracy: {trn_corr.item()*100/(10*b):7.3f}%')\n",
    "        \n",
    "    train_losses.append(loss)\n",
    "    train_correct.append(trn_corr)\n",
    "        \n",
    "    # Run the testing batches\n",
    "    with torch.no_grad():\n",
    "        for b, (X_test, y_test) in enumerate(test_loader):\n",
    "\n",
    "            # Apply the model\n",
    "            y_val = model(X_test)\n",
    "\n",
    "            # Tally the number of correct predictions\n",
    "            predicted = torch.max(y_val.data, 1)[1] \n",
    "            tst_corr += (predicted == y_test).sum()\n",
    "            \n",
    "    loss = criterion(y_val, y_test)\n",
    "    test_losses.append(loss)\n",
    "    test_correct.append(tst_corr)\n",
    "        \n",
    "print(f'\\nDuration: {time.time() - start_time:.0f} seconds') # print the time elapsed            "
   ]
  },
  {
   "cell_type": "code",
   "execution_count": 20,
   "metadata": {},
   "outputs": [],
   "source": [
    "torch.save(model.state_dict(),'MNIST_CNN.pt')"
   ]
  },
  {
   "cell_type": "code",
   "execution_count": 21,
   "metadata": {},
   "outputs": [
    {
     "data": {
      "text/plain": [
       "<matplotlib.legend.Legend at 0x27e5f50b610>"
      ]
     },
     "execution_count": 21,
     "metadata": {},
     "output_type": "execute_result"
    },
    {
     "data": {
      "image/png": "[encoded data removed]",
      "text/plain": [
       "<Figure size 640x480 with 1 Axes>"
      ]
     },
     "metadata": {},
     "output_type": "display_data"
    }
   ],
   "source": [
    "for loss_idx,item in enumerate(train_losses):\n",
    "    train_losses[loss_idx] = item.detach().numpy().item()\n",
    "plt.plot(train_losses,label='Train Loss')\n",
    "plt.plot(test_losses,label='Validation Loss')\n",
    "plt.title(\"LOSS AT EPOCH\")\n",
    "plt.legend()"
   ]
  },
  {
   "cell_type": "code",
   "execution_count": 22,
   "metadata": {},
   "outputs": [
    {
     "data": {
      "text/plain": [
       "<matplotlib.legend.Legend at 0x27e5f65f580>"
      ]
     },
     "execution_count": 22,
     "metadata": {},
     "output_type": "execute_result"
    },
    {
     "data": {
      "image/png": "[encoded data removed]",
      "text/plain": [
       "<Figure size 640x480 with 1 Axes>"
      ]
     },
     "metadata": {},
     "output_type": "display_data"
    }
   ],
   "source": [
    "plt.plot([t/600 for t in train_correct],label='Training Accuracy')\n",
    "plt.plot([t/100 for t in test_correct], label='Validation Accuracy')\n",
    "plt.title('Accuracy at the end of the epoch')\n",
    "plt.legend()"
   ]
  },
  {
   "cell_type": "code",
   "execution_count": 23,
   "metadata": {},
   "outputs": [],
   "source": [
    "test_load_all  = DataLoader(test_data,batch_size=10000,shuffle=False)\n",
    "\n",
    "with torch.no_grad():\n",
    "    correct = 0\n",
    "\n",
    "    for X_test,y_test in test_load_all:\n",
    "        y_val = model(X_test)\n",
    "        predicted = torch.max(y_val,1)[1]\n",
    "        correct += (predicted == y_test).sum()\n",
    "        "
   ]
  },
  {
   "cell_type": "code",
   "execution_count": 24,
   "metadata": {},
   "outputs": [
    {
     "data": {
      "text/plain": [
       "98.75"
      ]
     },
     "execution_count": 24,
     "metadata": {},
     "output_type": "execute_result"
    }
   ],
   "source": [
    "correct.item()/len(test_data)*100"
   ]
  },
  {
   "cell_type": "code",
   "execution_count": 25,
   "metadata": {},
   "outputs": [
    {
     "name": "stdout",
     "output_type": "stream",
     "text": [
      "[[   0    1    2    3    4    5    6    7    8    9]]\n",
      "\n",
      "[[ 971    0    1    0    0    2    3    1    3    0]\n",
      " [   0 1132    0    1    0    0    1    2    0    0]\n",
      " [   2    1 1024    1    1    0    3   10    3    0]\n",
      " [   0    0    2 1004    0   27    0    1    1    6]\n",
      " [   0    0    1    0  978    0    1    0    0    6]\n",
      " [   0    0    0    1    0  858    1    0    1    2]\n",
      " [   5    1    0    0    1    2  948    0    0    0]\n",
      " [   1    0    3    2    0    0    0 1008    1    3]\n",
      " [   0    1    1    1    0    0    1    1  962    2]\n",
      " [   1    0    0    0    2    3    0    5    3  990]]\n"
     ]
    }
   ],
   "source": [
    "# print a row of values for reference\n",
    "np.set_printoptions(formatter=dict(int=lambda x: f'{x:4}'))\n",
    "print(np.arange(10).reshape(1,10))\n",
    "print()\n",
    "\n",
    "# print the confusion matrix\n",
    "confusion_mat = confusion_matrix(predicted.view(-1), y_test.view(-1))\n",
    "\n",
    "print(confusion_mat)\n"
   ]
  },
  {
   "cell_type": "code",
   "execution_count": 26,
   "metadata": {},
   "outputs": [
    {
     "name": "stdout",
     "output_type": "stream",
     "text": [
      "The number in the image is : 7\n"
     ]
    },
    {
     "data": {
      "image/png": "[encoded data removed]",
      "text/plain": [
       "<Figure size 640x480 with 1 Axes>"
      ]
     },
     "metadata": {},
     "output_type": "display_data"
    }
   ],
   "source": [
    "chosen_index = int(input(\"Choose a number between 1 to 10,000: \"))\n",
    "plt.imshow(test_data[chosen_index][0].reshape(28,28))\n",
    "model.eval()\n",
    "with torch.no_grad():\n",
    "    new_pred = model(test_data[chosen_index][0].view(1,1,28,28))\n",
    "print(f\"The number in the image is : {new_pred.argmax().item()}\")"
   ]
  },
  {
   "cell_type": "code",
   "execution_count": 27,
   "metadata": {},
   "outputs": [],
   "source": [
    "torch.save(model,'../saved_models/mnist_torch_not_aaron.pt')"
   ]
  },
  {
   "cell_type": "code",
   "execution_count": 4,
   "metadata": {},
   "outputs": [],
   "source": [
    "model2 = torch.load('../saved_models/mnist_torch_not_aaron.pt')\n"
   ]
  },
  {
   "cell_type": "code",
   "execution_count": 6,
   "metadata": {},
   "outputs": [
    {
     "name": "stdout",
     "output_type": "stream",
     "text": [
      "(28, 28)\n",
      "(1, 1, 28, 28)\n",
      "8\n"
     ]
    }
   ],
   "source": [
    "# Load the image in grayscale\n",
    "img_8 = cv2.imread('../mnist_images/8/8_0008.png', cv2.IMREAD_GRAYSCALE).astype('float32')\n",
    "\n",
    "# Normalize the image (if necessary)\n",
    "# img_8 = img_8 / 255.0\n",
    "\n",
    "print(img_8.shape)\n",
    "# Reshape the image to the required input shape (1, 1, 28, 28)\n",
    "img_8 = img_8.reshape(1, 1, 28, 28)\n",
    "\n",
    "img_8_tensor = torch.tensor(img_8)\n",
    "\n",
    "print(img_8.shape)\n",
    "\n",
    "output = model2(img_8_tensor)\n",
    "\n",
    "print(np.argmax(output.detach().numpy()))"
   ]
  },
  {
   "cell_type": "code",
   "execution_count": 9,
   "metadata": {},
   "outputs": [
    {
     "name": "stdout",
     "output_type": "stream",
     "text": [
      "8\n"
     ]
    }
   ],
   "source": [
    "model_scripted = torch.jit.script(model2) # Export to TorchScript\n",
    "model_scripted.save('../saved_models/mnist_pytorch.pt') \n",
    "\n",
    "model3 = torch.jit.load('../saved_models/mnist_pytorch.pt')\n",
    "model3.eval()\n",
    "\n",
    "\n",
    "output = model3(img_8_tensor)\n",
    "\n",
    "print(np.argmax(output.detach().numpy()))"
   ]
  },
  {
   "cell_type": "code",
   "execution_count": null,
   "metadata": {},
   "outputs": [],
   "source": []
  }
 ],
 "metadata": {
  "kernelspec": {
   "display_name": "Python 3.7.3 ('pytorchenv')",
   "language": "python",
   "name": "python3"
  },
  "language_info": {
   "codemirror_mode": {
    "name": "ipython",
    "version": 3
   },
   "file_extension": ".py",
   "mimetype": "text/x-python",
   "name": "python",
   "nbconvert_exporter": "python",
   "pygments_lexer": "ipython3",
   "version": "3.9.18"
  },
  "orig_nbformat": 4,
  "vscode": {
   "interpreter": {
    "hash": "49b76041c373911fded19fce7465faa07019cc579c640fc8bbed67f9fbbaffdf"
   }
  }
 },
 "nbformat": 4,
 "nbformat_minor": 2
}
