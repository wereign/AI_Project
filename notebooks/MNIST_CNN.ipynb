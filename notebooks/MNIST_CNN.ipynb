{
 "cells": [
  {
   "cell_type": "code",
   "execution_count": 1,
   "metadata": {},
   "outputs": [
    {
     "name": "stderr",
     "output_type": "stream",
     "text": [
      "c:\\Users\\viren\\miniconda3\\envs\\autogluon_env\\lib\\site-packages\\tqdm\\auto.py:21: TqdmWarning: IProgress not found. Please update jupyter and ipywidgets. See https://ipywidgets.readthedocs.io/en/stable/user_install.html\n",
      "  from .autonotebook import tqdm as notebook_tqdm\n"
     ]
    }
   ],
   "source": [
    "import comet_ml\n",
    "from comet_ml.integration.pytorch import log_model\n",
    "\n",
    "import cv2\n",
    "import torch\n",
    "import torch.nn as nn\n",
    "import torch.nn.functional as F\n",
    "from torch.utils.data import DataLoader\n",
    "from torchvision import datasets, transforms\n",
    "from torchvision.utils import make_grid\n",
    "\n",
    "import numpy as np\n",
    "import pandas as pd\n",
    "from sklearn.metrics import confusion_matrix\n",
    "import matplotlib.pyplot as plt\n",
    "%matplotlib inline"
   ]
  },
  {
   "cell_type": "code",
   "execution_count": 2,
   "metadata": {},
   "outputs": [
    {
     "name": "stderr",
     "output_type": "stream",
     "text": [
      "\u001b[1;38;5;214mCOMET WARNING:\u001b[0m As you are running in a Jupyter environment, you will need to call `experiment.end()` when finished to ensure all metrics and code are logged before exiting.\n",
      "\u001b[1;38;5;39mCOMET INFO:\u001b[0m Experiment is live on comet.com https://www.comet.com/wereign/juan-ai/1f5f9c8969024f81947e2e2cb897cf5a\n",
      "\n"
     ]
    }
   ],
   "source": [
    "comet_ml.init()\n",
    "experiment = comet_ml.Experiment(project_name='juan-ai',\n",
    "                                 auto_histogram_weight_logging=True,\n",
    "                                 auto_histogram_gradient_logging=True,\n",
    "                                 auto_histogram_activation_logging=True,)"
   ]
  },
  {
   "cell_type": "code",
   "execution_count": 3,
   "metadata": {},
   "outputs": [],
   "source": [
    "transform = transforms.ToTensor()\n",
    "\n",
    "train_data = datasets.MNIST(root='../datasets/mnist_dataset',download=True,train=True,transform=transform)\n",
    "\n",
    "\n",
    "test_data = datasets.MNIST(root='../datasets/mnist_dataset',download=True,train=False,transform=transform)"
   ]
  },
  {
   "cell_type": "code",
   "execution_count": 4,
   "metadata": {},
   "outputs": [
    {
     "data": {
      "text/plain": [
       "Dataset MNIST\n",
       "    Number of datapoints: 60000\n",
       "    Root location: ../datasets/mnist_dataset\n",
       "    Split: Train\n",
       "    StandardTransform\n",
       "Transform: ToTensor()"
      ]
     },
     "execution_count": 4,
     "metadata": {},
     "output_type": "execute_result"
    }
   ],
   "source": [
    "train_data"
   ]
  },
  {
   "cell_type": "code",
   "execution_count": 5,
   "metadata": {},
   "outputs": [
    {
     "data": {
      "text/plain": [
       "Dataset MNIST\n",
       "    Number of datapoints: 10000\n",
       "    Root location: ../datasets/mnist_dataset\n",
       "    Split: Test\n",
       "    StandardTransform\n",
       "Transform: ToTensor()"
      ]
     },
     "execution_count": 5,
     "metadata": {},
     "output_type": "execute_result"
    }
   ],
   "source": [
    "test_data"
   ]
  },
  {
   "cell_type": "code",
   "execution_count": 6,
   "metadata": {},
   "outputs": [],
   "source": [
    "train_loader = DataLoader(train_data,batch_size=10,shuffle=True)\n",
    "test_loader = DataLoader(test_data,batch_size=10,shuffle=False)"
   ]
  },
  {
   "cell_type": "markdown",
   "metadata": {},
   "source": [
    "Breaking down the working of convolutional layer\n",
    "\n",
    "- Conv2d Parameters\n",
    "1. In_Channels - Input Parameters\n",
    "2. Out_Channels - Out Parameters\n",
    "3. Kernel Size - Order of the kernel"
   ]
  },
  {
   "cell_type": "code",
   "execution_count": 7,
   "metadata": {},
   "outputs": [],
   "source": [
    "conv1 = nn.Conv2d(in_channels=1,out_channels=6,kernel_size=3,stride=1)   # A 2 Dimensional Convolutional Layer\n",
    "conv2 = nn.Conv2d(in_channels=6,out_channels=16,kernel_size=3,stride=1)"
   ]
  },
  {
   "cell_type": "code",
   "execution_count": 8,
   "metadata": {},
   "outputs": [],
   "source": [
    "for i, (X_train,y_train) in enumerate(train_data):\n",
    "    break"
   ]
  },
  {
   "cell_type": "code",
   "execution_count": 9,
   "metadata": {},
   "outputs": [
    {
     "name": "stdout",
     "output_type": "stream",
     "text": [
      "torch.Size([1, 28, 28])\n"
     ]
    }
   ],
   "source": [
    "print(X_train.shape)  # Converting to four dimensions to make it resemble a batch\n",
    "x = X_train.view(1,1,28,28)"
   ]
  },
  {
   "cell_type": "code",
   "execution_count": 10,
   "metadata": {},
   "outputs": [
    {
     "name": "stdout",
     "output_type": "stream",
     "text": [
      "torch.Size([1, 6, 26, 26])\n"
     ]
    }
   ],
   "source": [
    "x = F.relu(conv1(x))\n",
    "\n",
    "print(x.shape)\n"
   ]
  },
  {
   "cell_type": "code",
   "execution_count": 11,
   "metadata": {},
   "outputs": [
    {
     "name": "stdout",
     "output_type": "stream",
     "text": [
      "torch.Size([1, 6, 13, 13])\n"
     ]
    }
   ],
   "source": [
    "x = F.max_pool2d(x,2,2)\n",
    "print(x.shape) # Cutting the size in half , due to the pooling function"
   ]
  },
  {
   "cell_type": "code",
   "execution_count": 12,
   "metadata": {},
   "outputs": [
    {
     "name": "stdout",
     "output_type": "stream",
     "text": [
      "torch.Size([1, 16, 11, 11])\n"
     ]
    }
   ],
   "source": [
    "x = F.relu(conv2(x))\n",
    "print(x.shape)"
   ]
  },
  {
   "cell_type": "code",
   "execution_count": 13,
   "metadata": {},
   "outputs": [
    {
     "name": "stdout",
     "output_type": "stream",
     "text": [
      "torch.Size([1, 16, 5, 5])\n"
     ]
    }
   ],
   "source": [
    "x = F.max_pool2d(x,2,2)\n",
    "print(x.shape)"
   ]
  },
  {
   "cell_type": "code",
   "execution_count": 14,
   "metadata": {},
   "outputs": [
    {
     "data": {
      "text/plain": [
       "torch.Size([1, 16, 5, 5])"
      ]
     },
     "execution_count": 14,
     "metadata": {},
     "output_type": "execute_result"
    }
   ],
   "source": [
    "# Feeding into a flat layer\n",
    "x.shape"
   ]
  },
  {
   "cell_type": "code",
   "execution_count": 15,
   "metadata": {},
   "outputs": [
    {
     "data": {
      "text/plain": [
       "torch.Size([1, 400])"
      ]
     },
     "execution_count": 15,
     "metadata": {},
     "output_type": "execute_result"
    }
   ],
   "source": [
    "x.view(-1,16*5*5).shape"
   ]
  },
  {
   "cell_type": "markdown",
   "metadata": {},
   "source": [
    "## Model and Training"
   ]
  },
  {
   "cell_type": "code",
   "execution_count": 16,
   "metadata": {},
   "outputs": [],
   "source": [
    "class ConvolutionalNetwork(nn.Module):\n",
    "    def __init__(self):\n",
    "        super().__init__()\n",
    "        self.conv1 = nn.Conv2d(1, 6, 3, 1)\n",
    "        self.conv2 = nn.Conv2d(6, 16, 3, 1)\n",
    "        self.fc1 = nn.Linear(5*5*16, 120)\n",
    "        self.fc2 = nn.Linear(120, 84)\n",
    "        self.fc3 = nn.Linear(84,10)\n",
    "\n",
    "    def forward(self, X):\n",
    "        X = F.relu(self.conv1(X))\n",
    "        X = F.max_pool2d(X, 2, 2)\n",
    "        X = F.relu(self.conv2(X))\n",
    "        X = F.max_pool2d(X, 2, 2)\n",
    "        X = X.view(-1, 5*5*16)\n",
    "        X = F.relu(self.fc1(X))\n",
    "        X = F.relu(self.fc2(X))\n",
    "        X = self.fc3(X)\n",
    "        return F.log_softmax(X, dim=1)"
   ]
  },
  {
   "cell_type": "code",
   "execution_count": 17,
   "metadata": {},
   "outputs": [
    {
     "name": "stdout",
     "output_type": "stream",
     "text": [
      "ConvolutionalNetwork(\n",
      "  (conv1): Conv2d(1, 6, kernel_size=(3, 3), stride=(1, 1))\n",
      "  (conv2): Conv2d(6, 16, kernel_size=(3, 3), stride=(1, 1))\n",
      "  (fc1): Linear(in_features=400, out_features=120, bias=True)\n",
      "  (fc2): Linear(in_features=120, out_features=84, bias=True)\n",
      "  (fc3): Linear(in_features=84, out_features=10, bias=True)\n",
      ")\n"
     ]
    }
   ],
   "source": [
    "torch.manual_seed(42)\n",
    "model = ConvolutionalNetwork()\n",
    "print(model)\n",
    "\n",
    "log_model(experiment, model, model_name=\"PyTorch_MNIST_CNN\")"
   ]
  },
  {
   "cell_type": "code",
   "execution_count": 18,
   "metadata": {},
   "outputs": [
    {
     "name": "stdout",
     "output_type": "stream",
     "text": [
      "54\n",
      "6\n",
      "864\n",
      "16\n",
      "48000\n",
      "120\n",
      "10080\n",
      "84\n",
      "840\n",
      "10\n",
      "Total parameters: 60074\n"
     ]
    }
   ],
   "source": [
    "total_parameters = 0\n",
    "for param in model.parameters():\n",
    "    total_parameters += param.numel()\n",
    "    print(param.numel()) # number of elements\n",
    "print(f'Total parameters: {total_parameters}')"
   ]
  },
  {
   "cell_type": "code",
   "execution_count": 19,
   "metadata": {},
   "outputs": [],
   "source": [
    "parameters = {\n",
    "    \"epochs\":30,\n",
    "    \"optimizer\":\"Adam\",\n",
    "    \"loss\":\"categorical_crossentropy\",\n",
    "    \"learning_rate\":0.001\n",
    "}\n",
    "\n",
    "experiment.log_parameters(parameters)\n"
   ]
  },
  {
   "cell_type": "code",
   "execution_count": 20,
   "metadata": {},
   "outputs": [],
   "source": [
    "criterion = nn.CrossEntropyLoss()\n",
    "optimizer = torch.optim.Adam(model.parameters(),lr=0.001)"
   ]
  },
  {
   "cell_type": "code",
   "execution_count": 22,
   "metadata": {},
   "outputs": [
    {
     "name": "stdout",
     "output_type": "stream",
     "text": [
      "Device cuda:0\n",
      "epoch:  0  batch:  600 [  6000/60000]  loss: 0.03552599  accuracy:  98.650%\n",
      "epoch:  0  batch: 1200 [ 12000/60000]  loss: 0.00247115  accuracy:  98.525%\n",
      "epoch:  0  batch: 1800 [ 18000/60000]  loss: 0.00015366  accuracy:  98.617%\n",
      "epoch:  0  batch: 2400 [ 24000/60000]  loss: 0.13789721  accuracy:  98.621%\n",
      "epoch:  0  batch: 3000 [ 30000/60000]  loss: 0.01301519  accuracy:  98.533%\n",
      "epoch:  0  batch: 3600 [ 36000/60000]  loss: 0.00514564  accuracy:  98.544%\n",
      "epoch:  0  batch: 4200 [ 42000/60000]  loss: 0.00015343  accuracy:  98.536%\n",
      "epoch:  0  batch: 4800 [ 48000/60000]  loss: 0.03281840  accuracy:  98.558%\n",
      "epoch:  0  batch: 5400 [ 54000/60000]  loss: 0.00028812  accuracy:  98.559%\n",
      "epoch:  0  batch: 6000 [ 60000/60000]  loss: 0.00114125  accuracy:  98.537%\n",
      "epoch:  1  batch:  600 [  6000/60000]  loss: 0.00019616  accuracy:  98.900%\n",
      "epoch:  1  batch: 1200 [ 12000/60000]  loss: 0.00127282  accuracy:  98.975%\n",
      "epoch:  1  batch: 1800 [ 18000/60000]  loss: 0.00208672  accuracy:  98.906%\n",
      "epoch:  1  batch: 2400 [ 24000/60000]  loss: 0.00213370  accuracy:  98.842%\n",
      "epoch:  1  batch: 3000 [ 30000/60000]  loss: 0.00047534  accuracy:  98.870%\n",
      "epoch:  1  batch: 3600 [ 36000/60000]  loss: 0.32482502  accuracy:  98.878%\n",
      "epoch:  1  batch: 4200 [ 42000/60000]  loss: 0.00023705  accuracy:  98.931%\n",
      "epoch:  1  batch: 4800 [ 48000/60000]  loss: 0.00017482  accuracy:  98.900%\n",
      "epoch:  1  batch: 5400 [ 54000/60000]  loss: 0.02166892  accuracy:  98.907%\n",
      "epoch:  1  batch: 6000 [ 60000/60000]  loss: 0.00106269  accuracy:  98.888%\n",
      "epoch:  2  batch:  600 [  6000/60000]  loss: 0.00563412  accuracy:  99.367%\n",
      "epoch:  2  batch: 1200 [ 12000/60000]  loss: 0.00680894  accuracy:  99.308%\n",
      "epoch:  2  batch: 1800 [ 18000/60000]  loss: 0.11142403  accuracy:  99.206%\n",
      "epoch:  2  batch: 2400 [ 24000/60000]  loss: 0.01206702  accuracy:  99.112%\n",
      "epoch:  2  batch: 3000 [ 30000/60000]  loss: 0.04194245  accuracy:  99.067%\n",
      "epoch:  2  batch: 3600 [ 36000/60000]  loss: 0.00041366  accuracy:  99.064%\n",
      "epoch:  2  batch: 4200 [ 42000/60000]  loss: 0.00011387  accuracy:  99.090%\n",
      "epoch:  2  batch: 4800 [ 48000/60000]  loss: 0.04610158  accuracy:  99.106%\n",
      "epoch:  2  batch: 5400 [ 54000/60000]  loss: 0.00031037  accuracy:  99.076%\n",
      "epoch:  2  batch: 6000 [ 60000/60000]  loss: 0.00013760  accuracy:  99.085%\n",
      "epoch:  3  batch:  600 [  6000/60000]  loss: 0.00085776  accuracy:  99.100%\n",
      "epoch:  3  batch: 1200 [ 12000/60000]  loss: 0.34409609  accuracy:  99.267%\n",
      "epoch:  3  batch: 1800 [ 18000/60000]  loss: 0.00042835  accuracy:  99.311%\n",
      "epoch:  3  batch: 2400 [ 24000/60000]  loss: 0.00169246  accuracy:  99.312%\n",
      "epoch:  3  batch: 3000 [ 30000/60000]  loss: 0.15734108  accuracy:  99.287%\n",
      "epoch:  3  batch: 3600 [ 36000/60000]  loss: 0.00004400  accuracy:  99.253%\n",
      "epoch:  3  batch: 4200 [ 42000/60000]  loss: 0.00426404  accuracy:  99.262%\n",
      "epoch:  3  batch: 4800 [ 48000/60000]  loss: 0.01189887  accuracy:  99.244%\n",
      "epoch:  3  batch: 5400 [ 54000/60000]  loss: 0.00052806  accuracy:  99.224%\n",
      "epoch:  3  batch: 6000 [ 60000/60000]  loss: 0.00106728  accuracy:  99.220%\n",
      "epoch:  4  batch:  600 [  6000/60000]  loss: 0.00005644  accuracy:  99.433%\n",
      "epoch:  4  batch: 1200 [ 12000/60000]  loss: 0.00000783  accuracy:  99.392%\n",
      "epoch:  4  batch: 1800 [ 18000/60000]  loss: 0.00004829  accuracy:  99.344%\n",
      "epoch:  4  batch: 2400 [ 24000/60000]  loss: 0.00000799  accuracy:  99.317%\n",
      "epoch:  4  batch: 3000 [ 30000/60000]  loss: 0.00273624  accuracy:  99.317%\n",
      "epoch:  4  batch: 3600 [ 36000/60000]  loss: 0.00048035  accuracy:  99.325%\n",
      "epoch:  4  batch: 4200 [ 42000/60000]  loss: 0.00030704  accuracy:  99.338%\n",
      "epoch:  4  batch: 4800 [ 48000/60000]  loss: 0.00018510  accuracy:  99.306%\n",
      "epoch:  4  batch: 5400 [ 54000/60000]  loss: 0.00493465  accuracy:  99.302%\n",
      "epoch:  4  batch: 6000 [ 60000/60000]  loss: 0.00023978  accuracy:  99.302%\n",
      "\n",
      "Duration: 930 seconds\n"
     ]
    }
   ],
   "source": [
    "import time\n",
    "start_time = time.time()\n",
    "\n",
    "device = 'cuda:0' if torch.cuda.is_available() else 'cpu'\n",
    "print(\"Device\",device)\n",
    "model = model.to(device=device)\n",
    "\n",
    "epochs = 5\n",
    "train_losses = []\n",
    "test_losses = []\n",
    "train_correct = []\n",
    "test_correct = []\n",
    "\n",
    "for i in range(epochs):\n",
    "    trn_corr = 0\n",
    "    tst_corr = 0\n",
    "    \n",
    "    # Run the training batches\n",
    "    for b, (X_train, y_train) in enumerate(train_loader):\n",
    "\n",
    "        X_train,y_train = X_train.to(device),y_train.to(device)\n",
    "\n",
    "        b+=1\n",
    "        \n",
    "        # Apply the model\n",
    "        y_pred = model(X_train)  # we don't flatten X-train here\n",
    "        loss = criterion(y_pred, y_train)\n",
    " \n",
    "        # Tally the number of correct predictions\n",
    "        predicted = torch.max(y_pred.data, 1)[1]\n",
    "        batch_corr = (predicted == y_train).sum()\n",
    "        trn_corr += batch_corr\n",
    "        \n",
    "        # Update parameters\n",
    "        optimizer.zero_grad()\n",
    "        loss.backward()\n",
    "        optimizer.step()\n",
    "        experiment.log_metrics({\"train_accuracy\": trn_corr.item()/(10*b), \"train_loss\": loss.item()}, epoch=i)\n",
    "        \n",
    "        # Print interim results\n",
    "        if b%600 == 0:\n",
    "            print(f'epoch: {i:2}  batch: {b:4} [{10*b:6}/60000]  loss: {loss.item():10.8f}  \\\n",
    "accuracy: {trn_corr.item()*100/(10*b):7.3f}%')\n",
    "        \n",
    "    train_losses.append(loss)\n",
    "    train_correct.append(trn_corr)\n",
    "        \n",
    "    # Run the testing batches\n",
    "    with torch.no_grad():\n",
    "        for b, (X_test, y_test) in enumerate(test_loader):\n",
    "            X_test, y_test = X_test.to(device), y_test.to(device)\n",
    "            # Apply the model\n",
    "            y_val = model(X_test)\n",
    "\n",
    "            # Tally the number of correct predictions\n",
    "            predicted = torch.max(y_val.data, 1)[1] \n",
    "            tst_corr += (predicted == y_test).sum()\n",
    "            \n",
    "    loss = criterion(y_val, y_test)\n",
    "    test_losses.append(loss)\n",
    "    test_correct.append(tst_corr)\n",
    "    experiment.log_metrics({\"val_accuracy\": (tst_corr.item())/(10*b), \"val_loss\": loss.item()}, epoch=i)\n",
    "\n",
    "        \n",
    "print(f'\\nDuration: {time.time() - start_time:.0f} seconds') # print the time elapsed            "
   ]
  },
  {
   "cell_type": "code",
   "execution_count": 28,
   "metadata": {},
   "outputs": [
    {
     "ename": "AttributeError",
     "evalue": "'float' object has no attribute 'cpu'",
     "output_type": "error",
     "traceback": [
      "\u001b[1;31m---------------------------------------------------------------------------\u001b[0m",
      "\u001b[1;31mAttributeError\u001b[0m                            Traceback (most recent call last)",
      "\u001b[1;32mc:\\Users\\viren\\Desktop\\AI_Project\\notebooks\\MNIST_CNN.ipynb Cell 24\u001b[0m line \u001b[0;36m2\n\u001b[0;32m      <a href='vscode-notebook-cell:/c%3A/Users/viren/Desktop/AI_Project/notebooks/MNIST_CNN.ipynb#X34sZmlsZQ%3D%3D?line=0'>1</a>\u001b[0m \u001b[39mfor\u001b[39;00m loss_idx,item \u001b[39min\u001b[39;00m \u001b[39menumerate\u001b[39m(train_losses):\n\u001b[1;32m----> <a href='vscode-notebook-cell:/c%3A/Users/viren/Desktop/AI_Project/notebooks/MNIST_CNN.ipynb#X34sZmlsZQ%3D%3D?line=1'>2</a>\u001b[0m     train_losses[loss_idx] \u001b[39m=\u001b[39m item\u001b[39m.\u001b[39;49mcpu()\u001b[39m.\u001b[39mdetach()\u001b[39m.\u001b[39mnumpy()\u001b[39m.\u001b[39mitem()\n\u001b[0;32m      <a href='vscode-notebook-cell:/c%3A/Users/viren/Desktop/AI_Project/notebooks/MNIST_CNN.ipynb#X34sZmlsZQ%3D%3D?line=2'>3</a>\u001b[0m \u001b[39mfor\u001b[39;00m loss_idx,item \u001b[39min\u001b[39;00m \u001b[39menumerate\u001b[39m(test_losses):\n\u001b[0;32m      <a href='vscode-notebook-cell:/c%3A/Users/viren/Desktop/AI_Project/notebooks/MNIST_CNN.ipynb#X34sZmlsZQ%3D%3D?line=3'>4</a>\u001b[0m     test_losses[loss_idx] \u001b[39m=\u001b[39m item\u001b[39m.\u001b[39mcpu()\u001b[39m.\u001b[39mdetach()\u001b[39m.\u001b[39mnumpy()\u001b[39m.\u001b[39mitem()\n",
      "\u001b[1;31mAttributeError\u001b[0m: 'float' object has no attribute 'cpu'"
     ]
    }
   ],
   "source": [
    "for loss_idx,item in enumerate(train_losses):\n",
    "    train_losses[loss_idx] = item.cpu().detach().numpy().item()\n",
    "for loss_idx,item in enumerate(test_losses):\n",
    "    test_losses[loss_idx] = item.cpu().detach().numpy().item()\n",
    "plt.plot(train_losses,label='Train Loss')\n",
    "plt.plot(test_losses,label='Validation Loss')\n",
    "plt.title(\"LOSS AT EPOCH\")\n",
    "plt.legend()"
   ]
  },
  {
   "cell_type": "code",
   "execution_count": 29,
   "metadata": {},
   "outputs": [
    {
     "ename": "TypeError",
     "evalue": "can't convert cuda:0 device type tensor to numpy. Use Tensor.cpu() to copy the tensor to host memory first.",
     "output_type": "error",
     "traceback": [
      "\u001b[1;31m---------------------------------------------------------------------------\u001b[0m",
      "\u001b[1;31mTypeError\u001b[0m                                 Traceback (most recent call last)",
      "\u001b[1;32mc:\\Users\\viren\\Desktop\\AI_Project\\notebooks\\MNIST_CNN.ipynb Cell 25\u001b[0m line \u001b[0;36m1\n\u001b[1;32m----> <a href='vscode-notebook-cell:/c%3A/Users/viren/Desktop/AI_Project/notebooks/MNIST_CNN.ipynb#X35sZmlsZQ%3D%3D?line=0'>1</a>\u001b[0m plt\u001b[39m.\u001b[39;49mplot([t\u001b[39m/\u001b[39;49m\u001b[39m600\u001b[39;49m \u001b[39mfor\u001b[39;49;00m t \u001b[39min\u001b[39;49;00m train_correct],label\u001b[39m=\u001b[39;49m\u001b[39m'\u001b[39;49m\u001b[39mTraining Accuracy\u001b[39;49m\u001b[39m'\u001b[39;49m)\n\u001b[0;32m      <a href='vscode-notebook-cell:/c%3A/Users/viren/Desktop/AI_Project/notebooks/MNIST_CNN.ipynb#X35sZmlsZQ%3D%3D?line=1'>2</a>\u001b[0m plt\u001b[39m.\u001b[39mplot([t\u001b[39m/\u001b[39m\u001b[39m100\u001b[39m \u001b[39mfor\u001b[39;00m t \u001b[39min\u001b[39;00m test_correct], label\u001b[39m=\u001b[39m\u001b[39m'\u001b[39m\u001b[39mValidation Accuracy\u001b[39m\u001b[39m'\u001b[39m)\n\u001b[0;32m      <a href='vscode-notebook-cell:/c%3A/Users/viren/Desktop/AI_Project/notebooks/MNIST_CNN.ipynb#X35sZmlsZQ%3D%3D?line=2'>3</a>\u001b[0m plt\u001b[39m.\u001b[39mtitle(\u001b[39m'\u001b[39m\u001b[39mAccuracy at the end of the epoch\u001b[39m\u001b[39m'\u001b[39m)\n",
      "File \u001b[1;32mc:\\Users\\viren\\miniconda3\\envs\\autogluon_env\\lib\\site-packages\\matplotlib\\pyplot.py:3578\u001b[0m, in \u001b[0;36mplot\u001b[1;34m(scalex, scaley, data, *args, **kwargs)\u001b[0m\n\u001b[0;32m   3570\u001b[0m \u001b[39m@_copy_docstring_and_deprecators\u001b[39m(Axes\u001b[39m.\u001b[39mplot)\n\u001b[0;32m   3571\u001b[0m \u001b[39mdef\u001b[39;00m \u001b[39mplot\u001b[39m(\n\u001b[0;32m   3572\u001b[0m     \u001b[39m*\u001b[39margs: \u001b[39mfloat\u001b[39m \u001b[39m|\u001b[39m ArrayLike \u001b[39m|\u001b[39m \u001b[39mstr\u001b[39m,\n\u001b[1;32m   (...)\u001b[0m\n\u001b[0;32m   3576\u001b[0m     \u001b[39m*\u001b[39m\u001b[39m*\u001b[39mkwargs,\n\u001b[0;32m   3577\u001b[0m ) \u001b[39m-\u001b[39m\u001b[39m>\u001b[39m \u001b[39mlist\u001b[39m[Line2D]:\n\u001b[1;32m-> 3578\u001b[0m     \u001b[39mreturn\u001b[39;00m gca()\u001b[39m.\u001b[39mplot(\n\u001b[0;32m   3579\u001b[0m         \u001b[39m*\u001b[39margs,\n\u001b[0;32m   3580\u001b[0m         scalex\u001b[39m=\u001b[39mscalex,\n\u001b[0;32m   3581\u001b[0m         scaley\u001b[39m=\u001b[39mscaley,\n\u001b[0;32m   3582\u001b[0m         \u001b[39m*\u001b[39m\u001b[39m*\u001b[39m({\u001b[39m\"\u001b[39m\u001b[39mdata\u001b[39m\u001b[39m\"\u001b[39m: data} \u001b[39mif\u001b[39;00m data \u001b[39mis\u001b[39;00m \u001b[39mnot\u001b[39;00m \u001b[39mNone\u001b[39;00m \u001b[39melse\u001b[39;00m {}),\n\u001b[0;32m   3583\u001b[0m         \u001b[39m*\u001b[39m\u001b[39m*\u001b[39mkwargs,\n\u001b[0;32m   3584\u001b[0m     )\n",
      "File \u001b[1;32mc:\\Users\\viren\\miniconda3\\envs\\autogluon_env\\lib\\site-packages\\matplotlib\\axes\\_axes.py:1721\u001b[0m, in \u001b[0;36mAxes.plot\u001b[1;34m(self, scalex, scaley, data, *args, **kwargs)\u001b[0m\n\u001b[0;32m   1478\u001b[0m \u001b[39m\u001b[39m\u001b[39m\"\"\"\u001b[39;00m\n\u001b[0;32m   1479\u001b[0m \u001b[39mPlot y versus x as lines and/or markers.\u001b[39;00m\n\u001b[0;32m   1480\u001b[0m \n\u001b[1;32m   (...)\u001b[0m\n\u001b[0;32m   1718\u001b[0m \u001b[39m(``'green'``) or hex strings (``'#008000'``).\u001b[39;00m\n\u001b[0;32m   1719\u001b[0m \u001b[39m\"\"\"\u001b[39;00m\n\u001b[0;32m   1720\u001b[0m kwargs \u001b[39m=\u001b[39m cbook\u001b[39m.\u001b[39mnormalize_kwargs(kwargs, mlines\u001b[39m.\u001b[39mLine2D)\n\u001b[1;32m-> 1721\u001b[0m lines \u001b[39m=\u001b[39m [\u001b[39m*\u001b[39m\u001b[39mself\u001b[39m\u001b[39m.\u001b[39m_get_lines(\u001b[39mself\u001b[39m, \u001b[39m*\u001b[39margs, data\u001b[39m=\u001b[39mdata, \u001b[39m*\u001b[39m\u001b[39m*\u001b[39mkwargs)]\n\u001b[0;32m   1722\u001b[0m \u001b[39mfor\u001b[39;00m line \u001b[39min\u001b[39;00m lines:\n\u001b[0;32m   1723\u001b[0m     \u001b[39mself\u001b[39m\u001b[39m.\u001b[39madd_line(line)\n",
      "File \u001b[1;32mc:\\Users\\viren\\miniconda3\\envs\\autogluon_env\\lib\\site-packages\\matplotlib\\axes\\_base.py:303\u001b[0m, in \u001b[0;36m_process_plot_var_args.__call__\u001b[1;34m(self, axes, data, *args, **kwargs)\u001b[0m\n\u001b[0;32m    301\u001b[0m     this \u001b[39m+\u001b[39m\u001b[39m=\u001b[39m args[\u001b[39m0\u001b[39m],\n\u001b[0;32m    302\u001b[0m     args \u001b[39m=\u001b[39m args[\u001b[39m1\u001b[39m:]\n\u001b[1;32m--> 303\u001b[0m \u001b[39myield from\u001b[39;00m \u001b[39mself\u001b[39;49m\u001b[39m.\u001b[39;49m_plot_args(\n\u001b[0;32m    304\u001b[0m     axes, this, kwargs, ambiguous_fmt_datakey\u001b[39m=\u001b[39;49mambiguous_fmt_datakey)\n",
      "File \u001b[1;32mc:\\Users\\viren\\miniconda3\\envs\\autogluon_env\\lib\\site-packages\\matplotlib\\axes\\_base.py:491\u001b[0m, in \u001b[0;36m_process_plot_var_args._plot_args\u001b[1;34m(self, axes, tup, kwargs, return_kwargs, ambiguous_fmt_datakey)\u001b[0m\n\u001b[0;32m    489\u001b[0m     y \u001b[39m=\u001b[39m _check_1d(xy[\u001b[39m1\u001b[39m])\n\u001b[0;32m    490\u001b[0m \u001b[39melse\u001b[39;00m:\n\u001b[1;32m--> 491\u001b[0m     x, y \u001b[39m=\u001b[39m index_of(xy[\u001b[39m-\u001b[39;49m\u001b[39m1\u001b[39;49m])\n\u001b[0;32m    493\u001b[0m \u001b[39mif\u001b[39;00m axes\u001b[39m.\u001b[39mxaxis \u001b[39mis\u001b[39;00m \u001b[39mnot\u001b[39;00m \u001b[39mNone\u001b[39;00m:\n\u001b[0;32m    494\u001b[0m     axes\u001b[39m.\u001b[39mxaxis\u001b[39m.\u001b[39mupdate_units(x)\n",
      "File \u001b[1;32mc:\\Users\\viren\\miniconda3\\envs\\autogluon_env\\lib\\site-packages\\matplotlib\\cbook.py:1666\u001b[0m, in \u001b[0;36mindex_of\u001b[1;34m(y)\u001b[0m\n\u001b[0;32m   1664\u001b[0m     \u001b[39mpass\u001b[39;00m\n\u001b[0;32m   1665\u001b[0m \u001b[39mtry\u001b[39;00m:\n\u001b[1;32m-> 1666\u001b[0m     y \u001b[39m=\u001b[39m _check_1d(y)\n\u001b[0;32m   1667\u001b[0m \u001b[39mexcept\u001b[39;00m (VisibleDeprecationWarning, \u001b[39mValueError\u001b[39;00m):\n\u001b[0;32m   1668\u001b[0m     \u001b[39m# NumPy 1.19 will warn on ragged input, and we can't actually use it.\u001b[39;00m\n\u001b[0;32m   1669\u001b[0m     \u001b[39mpass\u001b[39;00m\n",
      "File \u001b[1;32mc:\\Users\\viren\\miniconda3\\envs\\autogluon_env\\lib\\site-packages\\matplotlib\\cbook.py:1358\u001b[0m, in \u001b[0;36m_check_1d\u001b[1;34m(x)\u001b[0m\n\u001b[0;32m   1352\u001b[0m \u001b[39m# plot requires `shape` and `ndim`.  If passed an\u001b[39;00m\n\u001b[0;32m   1353\u001b[0m \u001b[39m# object that doesn't provide them, then force to numpy array.\u001b[39;00m\n\u001b[0;32m   1354\u001b[0m \u001b[39m# Note this will strip unit information.\u001b[39;00m\n\u001b[0;32m   1355\u001b[0m \u001b[39mif\u001b[39;00m (\u001b[39mnot\u001b[39;00m \u001b[39mhasattr\u001b[39m(x, \u001b[39m'\u001b[39m\u001b[39mshape\u001b[39m\u001b[39m'\u001b[39m) \u001b[39mor\u001b[39;00m\n\u001b[0;32m   1356\u001b[0m         \u001b[39mnot\u001b[39;00m \u001b[39mhasattr\u001b[39m(x, \u001b[39m'\u001b[39m\u001b[39mndim\u001b[39m\u001b[39m'\u001b[39m) \u001b[39mor\u001b[39;00m\n\u001b[0;32m   1357\u001b[0m         \u001b[39mlen\u001b[39m(x\u001b[39m.\u001b[39mshape) \u001b[39m<\u001b[39m \u001b[39m1\u001b[39m):\n\u001b[1;32m-> 1358\u001b[0m     \u001b[39mreturn\u001b[39;00m np\u001b[39m.\u001b[39;49matleast_1d(x)\n\u001b[0;32m   1359\u001b[0m \u001b[39melse\u001b[39;00m:\n\u001b[0;32m   1360\u001b[0m     \u001b[39mreturn\u001b[39;00m x\n",
      "File \u001b[1;32mc:\\Users\\viren\\miniconda3\\envs\\autogluon_env\\lib\\site-packages\\numpy\\core\\shape_base.py:65\u001b[0m, in \u001b[0;36matleast_1d\u001b[1;34m(*arys)\u001b[0m\n\u001b[0;32m     63\u001b[0m res \u001b[39m=\u001b[39m []\n\u001b[0;32m     64\u001b[0m \u001b[39mfor\u001b[39;00m ary \u001b[39min\u001b[39;00m arys:\n\u001b[1;32m---> 65\u001b[0m     ary \u001b[39m=\u001b[39m asanyarray(ary)\n\u001b[0;32m     66\u001b[0m     \u001b[39mif\u001b[39;00m ary\u001b[39m.\u001b[39mndim \u001b[39m==\u001b[39m \u001b[39m0\u001b[39m:\n\u001b[0;32m     67\u001b[0m         result \u001b[39m=\u001b[39m ary\u001b[39m.\u001b[39mreshape(\u001b[39m1\u001b[39m)\n",
      "File \u001b[1;32mc:\\Users\\viren\\miniconda3\\envs\\autogluon_env\\lib\\site-packages\\torch\\_tensor.py:1030\u001b[0m, in \u001b[0;36mTensor.__array__\u001b[1;34m(self, dtype)\u001b[0m\n\u001b[0;32m   1028\u001b[0m     \u001b[39mreturn\u001b[39;00m handle_torch_function(Tensor\u001b[39m.\u001b[39m__array__, (\u001b[39mself\u001b[39m,), \u001b[39mself\u001b[39m, dtype\u001b[39m=\u001b[39mdtype)\n\u001b[0;32m   1029\u001b[0m \u001b[39mif\u001b[39;00m dtype \u001b[39mis\u001b[39;00m \u001b[39mNone\u001b[39;00m:\n\u001b[1;32m-> 1030\u001b[0m     \u001b[39mreturn\u001b[39;00m \u001b[39mself\u001b[39;49m\u001b[39m.\u001b[39;49mnumpy()\n\u001b[0;32m   1031\u001b[0m \u001b[39melse\u001b[39;00m:\n\u001b[0;32m   1032\u001b[0m     \u001b[39mreturn\u001b[39;00m \u001b[39mself\u001b[39m\u001b[39m.\u001b[39mnumpy()\u001b[39m.\u001b[39mastype(dtype, copy\u001b[39m=\u001b[39m\u001b[39mFalse\u001b[39;00m)\n",
      "\u001b[1;31mTypeError\u001b[0m: can't convert cuda:0 device type tensor to numpy. Use Tensor.cpu() to copy the tensor to host memory first."
     ]
    },
    {
     "data": {
      "image/png": "[encoded data removed]",
      "text/plain": [
       "<Figure size 640x480 with 1 Axes>"
      ]
     },
     "metadata": {},
     "output_type": "display_data"
    }
   ],
   "source": [
    "plt.plot([t/600 for t in train_correct],label='Training Accuracy')\n",
    "plt.plot([t/100 for t in test_correct], label='Validation Accuracy')\n",
    "plt.title('Accuracy at the end of the epoch')\n",
    "plt.legend()"
   ]
  },
  {
   "cell_type": "code",
   "execution_count": null,
   "metadata": {},
   "outputs": [],
   "source": [
    "test_load_all  = DataLoader(test_data,batch_size=10000,shuffle=False)\n",
    "\n",
    "with torch.no_grad():\n",
    "    correct = 0\n",
    "\n",
    "    for X_test,y_test in test_load_all:\n",
    "        y_val = model(X_test)\n",
    "        predicted = torch.max(y_val,1)[1]\n",
    "        correct += (predicted == y_test).sum()\n",
    "        "
   ]
  },
  {
   "cell_type": "code",
   "execution_count": null,
   "metadata": {},
   "outputs": [
    {
     "data": {
      "text/plain": [
       "98.74000000000001"
      ]
     },
     "execution_count": 26,
     "metadata": {},
     "output_type": "execute_result"
    }
   ],
   "source": [
    "correct.item()/len(test_data)*100"
   ]
  },
  {
   "cell_type": "code",
   "execution_count": null,
   "metadata": {},
   "outputs": [
    {
     "name": "stdout",
     "output_type": "stream",
     "text": [
      "[[   0    1    2    3    4    5    6    7    8    9]]\n",
      "\n",
      "[[ 975    0    1    0    0    1    4    0    4    0]\n",
      " [   0 1127    1    1    1    0    2    3    0    0]\n",
      " [   1    0 1016    0    1    0    1    3    2    1]\n",
      " [   0    1    5 1004    0   10    0    2    4    5]\n",
      " [   0    0    1    0  970    0    1    0    2    1]\n",
      " [   0    1    0    2    0  877    4    0    2    4]\n",
      " [   1    4    0    0    3    2  945    0    1    0]\n",
      " [   1    2    8    2    1    0    0 1013    1    3]\n",
      " [   0    0    0    1    0    0    1    1  953    1]\n",
      " [   2    0    0    0    6    2    0    6    5  994]]\n"
     ]
    },
    {
     "data": {
      "text/plain": [
       "{'web': 'https://www.comet.com/api/asset/download?assetId=2d16660009624ffd94cf4f54e294b934&experimentKey=9747c053e21b45aca0f00ea13f1965d5',\n",
       " 'api': 'https://www.comet.com/api/rest/v2/experiment/asset/get-asset?assetId=2d16660009624ffd94cf4f54e294b934&experimentKey=9747c053e21b45aca0f00ea13f1965d5',\n",
       " 'assetId': '2d16660009624ffd94cf4f54e294b934'}"
      ]
     },
     "execution_count": 27,
     "metadata": {},
     "output_type": "execute_result"
    }
   ],
   "source": [
    "# print a row of values for reference\n",
    "np.set_printoptions(formatter=dict(int=lambda x: f'{x:4}'))\n",
    "print(np.arange(10).reshape(1,10))\n",
    "print()\n",
    "\n",
    "# print the confusion matrix\n",
    "confusion_mat = confusion_matrix(predicted.view(-1), y_test.view(-1))\n",
    "\n",
    "print(confusion_mat)\n",
    "\n",
    "\n",
    "experiment.log_confusion_matrix(matrix=confusion_mat)"
   ]
  },
  {
   "cell_type": "code",
   "execution_count": null,
   "metadata": {},
   "outputs": [
    {
     "name": "stdout",
     "output_type": "stream",
     "text": [
      "The number in the image is : 2\n"
     ]
    },
    {
     "data": {
      "image/png": "[encoded data removed]",
      "text/plain": [
       "<Figure size 640x480 with 1 Axes>"
      ]
     },
     "metadata": {},
     "output_type": "display_data"
    }
   ],
   "source": [
    "chosen_index = int(input(\"Choose a number between 1 to 10,000: \"))\n",
    "plt.imshow(test_data[chosen_index][0].reshape(28,28))\n",
    "model.eval()\n",
    "with torch.no_grad():\n",
    "    new_pred = model(test_data[chosen_index][0].view(1,1,28,28))\n",
    "print(f\"The number in the image is : {new_pred.argmax().item()}\")"
   ]
  },
  {
   "cell_type": "code",
   "execution_count": 30,
   "metadata": {},
   "outputs": [
    {
     "name": "stderr",
     "output_type": "stream",
     "text": [
      "\u001b[1;38;5;39mCOMET INFO:\u001b[0m ---------------------------------------------------------------------------------------\n",
      "\u001b[1;38;5;39mCOMET INFO:\u001b[0m Comet.ml Experiment Summary\n",
      "\u001b[1;38;5;39mCOMET INFO:\u001b[0m ---------------------------------------------------------------------------------------\n",
      "\u001b[1;38;5;39mCOMET INFO:\u001b[0m   Data:\n",
      "\u001b[1;38;5;39mCOMET INFO:\u001b[0m     display_summary_level : 1\n",
      "\u001b[1;38;5;39mCOMET INFO:\u001b[0m     url                   : https://www.comet.com/wereign/juan-ai/1f5f9c8969024f81947e2e2cb897cf5a\n",
      "\u001b[1;38;5;39mCOMET INFO:\u001b[0m   Metrics [count] (min, max):\n",
      "\u001b[1;38;5;39mCOMET INFO:\u001b[0m     loss [4302]            : (3.576278473360617e-08, 2.337458610534668)\n",
      "\u001b[1;38;5;39mCOMET INFO:\u001b[0m     train_accuracy [43020] : (0.0, 1.0)\n",
      "\u001b[1;38;5;39mCOMET INFO:\u001b[0m     train_loss [43020]     : (0.0, 2.375399589538574)\n",
      "\u001b[1;38;5;39mCOMET INFO:\u001b[0m     val_accuracy [7]       : (0.9861861861861861, 9801)\n",
      "\u001b[1;38;5;39mCOMET INFO:\u001b[0m     val_loss [7]           : (2.312652895852807e-06, 0.03071148693561554)\n",
      "\u001b[1;38;5;39mCOMET INFO:\u001b[0m   Parameters:\n",
      "\u001b[1;38;5;39mCOMET INFO:\u001b[0m     epochs        : 30\n",
      "\u001b[1;38;5;39mCOMET INFO:\u001b[0m     learning_rate : 0.001\n",
      "\u001b[1;38;5;39mCOMET INFO:\u001b[0m     loss          : categorical_crossentropy\n",
      "\u001b[1;38;5;39mCOMET INFO:\u001b[0m     optimizer     : Adam\n",
      "\u001b[1;38;5;39mCOMET INFO:\u001b[0m   Uploads:\n",
      "\u001b[1;38;5;39mCOMET INFO:\u001b[0m     conda-environment-definition : 1\n",
      "\u001b[1;38;5;39mCOMET INFO:\u001b[0m     conda-info                   : 1\n",
      "\u001b[1;38;5;39mCOMET INFO:\u001b[0m     conda-specification          : 1\n",
      "\u001b[1;38;5;39mCOMET INFO:\u001b[0m     environment details          : 1\n",
      "\u001b[1;38;5;39mCOMET INFO:\u001b[0m     filename                     : 1\n",
      "\u001b[1;38;5;39mCOMET INFO:\u001b[0m     git metadata                 : 1\n",
      "\u001b[1;38;5;39mCOMET INFO:\u001b[0m     git-patch (uncompressed)     : 1 (162.41 KB)\n",
      "\u001b[1;38;5;39mCOMET INFO:\u001b[0m     installed packages           : 1\n",
      "\u001b[1;38;5;39mCOMET INFO:\u001b[0m     model graph                  : 1\n",
      "\u001b[1;38;5;39mCOMET INFO:\u001b[0m     model-element                : 2 (238.05 KB)\n",
      "\u001b[1;38;5;39mCOMET INFO:\u001b[0m     notebook                     : 1\n",
      "\u001b[1;38;5;39mCOMET INFO:\u001b[0m     source_code                  : 1\n",
      "\u001b[1;38;5;39mCOMET INFO:\u001b[0m \n",
      "\u001b[1;38;5;39mCOMET INFO:\u001b[0m Please wait for metadata to finish uploading (timeout is 3600 seconds)\n"
     ]
    }
   ],
   "source": [
    "experiment.end()"
   ]
  },
  {
   "cell_type": "code",
   "execution_count": null,
   "metadata": {},
   "outputs": [],
   "source": []
  }
 ],
 "metadata": {
  "kernelspec": {
   "display_name": "Python 3.7.3 ('pytorchenv')",
   "language": "python",
   "name": "python3"
  },
  "language_info": {
   "codemirror_mode": {
    "name": "ipython",
    "version": 3
   },
   "file_extension": ".py",
   "mimetype": "text/x-python",
   "name": "python",
   "nbconvert_exporter": "python",
   "pygments_lexer": "ipython3",
   "version": "3.9.18"
  },
  "orig_nbformat": 4,
  "vscode": {
   "interpreter": {
    "hash": "49b76041c373911fded19fce7465faa07019cc579c640fc8bbed67f9fbbaffdf"
   }
  }
 },
 "nbformat": 4,
 "nbformat_minor": 2
}
