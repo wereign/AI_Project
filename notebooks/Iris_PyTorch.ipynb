{
 "cells": [
  {
   "cell_type": "code",
   "execution_count": 1,
   "metadata": {},
   "outputs": [],
   "source": [
    "import comet_ml\n",
    "from comet_ml.integration.pytorch import log_model\n",
    "\n",
    "import torch\n",
    "import torch.nn as nn\n",
    "import torch.nn.functional as F"
   ]
  },
  {
   "cell_type": "code",
   "execution_count": 2,
   "metadata": {},
   "outputs": [],
   "source": [
    "class Model(nn.Module):\n",
    "\n",
    "    def __init__(self,in_features=4,h1=8,h2=9,out_features=3):\n",
    "        # decide the number of layers\n",
    "        # create an attribute for each layer and decide the type of layer\n",
    "        # Input Layer (4 features) --> (n neurons) h1 --> (n neurons)  h2 --> output ( 3 classes)\n",
    "\n",
    "        super().__init__()  # Instantiate the super class\n",
    "        self.fc1 = nn.Linear(in_features,h1) # 4 features in and 8 features for the firs hidden layer out\n",
    "        self.fc2 = nn.Linear(h1,h2) # 8 features from the first hidden layer in and 9 features for the next hidden layer out.\n",
    "        self.out = nn.Linear(h2,out_features) # 9 features from the 2nd hidden layer in and 3 class based selection out\n",
    "\n",
    "\n",
    "       \n",
    "    def forward(self,x):\n",
    "        x = F.relu(self.fc1(x)) # Passing the input through the weights and bias of this layer and then passing it through the activation function\n",
    "        x = F.relu(self.fc2(x)) # Passing the output from the input layer to the function and then the activation function\n",
    "        x = self.out(x)\n",
    "\n",
    "        return x"
   ]
  },
  {
   "cell_type": "markdown",
   "metadata": {},
   "source": [
    "loading the dataset"
   ]
  },
  {
   "cell_type": "code",
   "execution_count": 3,
   "metadata": {},
   "outputs": [],
   "source": [
    "import pandas as pd\n",
    "import matplotlib.pyplot as plt\n",
    "from sklearn.model_selection import train_test_split"
   ]
  },
  {
   "cell_type": "code",
   "execution_count": 4,
   "metadata": {},
   "outputs": [],
   "source": [
    "df = pd.read_csv('../datasets/iris_dataset/Iris.csv')\n",
    "df.head()\n",
    "\n",
    "labels = ['Iris-setosa','Iris-virginica','Iris-versicolor']\n",
    "\n",
    "df['Species'] = df['Species'].apply(lambda x: labels.index(x))\n"
   ]
  },
  {
   "cell_type": "code",
   "execution_count": 5,
   "metadata": {},
   "outputs": [
    {
     "name": "stdout",
     "output_type": "stream",
     "text": [
      "[5.1 3.5 1.4 0.2]\n",
      "0\n"
     ]
    }
   ],
   "source": [
    "# performing a train test split\n",
    "X = df.drop('Species',axis=1).to_numpy()[:,1:]\n",
    "y = df['Species'].to_numpy()\n",
    "\n",
    "print(X[0])\n",
    "print(y[0])"
   ]
  },
  {
   "cell_type": "code",
   "execution_count": 6,
   "metadata": {},
   "outputs": [],
   "source": [
    "X_train, X_test, y_train, y_test = train_test_split(X,y,test_size=0.2,random_state=42)\n",
    "X_test,X_val,y_test,y_val = train_test_split(X_test,y_test,test_size=0.5,random_state=42)"
   ]
  },
  {
   "cell_type": "code",
   "execution_count": 7,
   "metadata": {},
   "outputs": [],
   "source": [
    "X_train = torch.FloatTensor(X_train)\n",
    "X_test = torch.FloatTensor(X_test)\n",
    "X_val = torch.FloatTensor(X_val)\n"
   ]
  },
  {
   "cell_type": "code",
   "execution_count": 8,
   "metadata": {},
   "outputs": [],
   "source": [
    "y_train = torch.LongTensor(y_train)\n",
    "y_test = torch.LongTensor(y_test)\n",
    "y_val = torch.LongTensor(y_val)"
   ]
  },
  {
   "cell_type": "code",
   "execution_count": 9,
   "metadata": {},
   "outputs": [
    {
     "name": "stderr",
     "output_type": "stream",
     "text": [
      "\u001b[1;38;5;214mCOMET WARNING:\u001b[0m As you are running in a Jupyter environment, you will need to call `experiment.end()` when finished to ensure all metrics and code are logged before exiting.\n",
      "\u001b[1;38;5;39mCOMET INFO:\u001b[0m Experiment is live on comet.com https://www.comet.com/wereign/juan-ai/3dfafc069a134a24bc61e86208beb2da\n",
      "\n"
     ]
    }
   ],
   "source": [
    "comet_ml.init()\n",
    "\n",
    "experiment = comet_ml.Experiment(project_name='juan-ai',\n",
    "                                 auto_histogram_weight_logging=True,\n",
    "                                 auto_histogram_gradient_logging=True,\n",
    "                                 auto_histogram_activation_logging=True,)"
   ]
  },
  {
   "cell_type": "code",
   "execution_count": 10,
   "metadata": {},
   "outputs": [],
   "source": [
    "parameters = {\n",
    "    \"epochs\":100,\n",
    "    \"optimizer\":\"Adam\",\n",
    "    \"learning_rate\":0.01,\n",
    "    \"loss\":\"crossentropy\",\n",
    "    \"validation_split\":0.1,\n",
    "    \"test_split\":0.1\n",
    "}\n",
    "\n",
    "experiment.log_parameters(parameters)"
   ]
  },
  {
   "cell_type": "code",
   "execution_count": 11,
   "metadata": {},
   "outputs": [
    {
     "name": "stderr",
     "output_type": "stream",
     "text": [
      "c:\\Users\\viren\\miniconda3\\envs\\autogluon_env\\lib\\site-packages\\tqdm\\auto.py:21: TqdmWarning: IProgress not found. Please update jupyter and ipywidgets. See https://ipywidgets.readthedocs.io/en/stable/user_install.html\n",
      "  from .autonotebook import tqdm as notebook_tqdm\n"
     ]
    }
   ],
   "source": [
    "model = Model()\n",
    "criterion = nn.CrossEntropyLoss()\n",
    "optimizer = torch.optim.Adam(model.parameters(),lr=0.01)\n",
    "\n",
    "log_model(experiment,model,model_name='pytorch_iris_linear')"
   ]
  },
  {
   "cell_type": "code",
   "execution_count": 12,
   "metadata": {},
   "outputs": [
    {
     "name": "stdout",
     "output_type": "stream",
     "text": [
      "\n",
      "Epoch: 0\n",
      "Training Set:\n",
      " Accuracy: 33.33% Loss:1.19\n",
      "Validation Set:\n",
      " Epoch: 0 Accuracy: 33.33% Loss:1.19\n",
      "\n",
      "\n",
      "Epoch: 10\n",
      "Training Set:\n",
      " Accuracy: 60.00% Loss:0.97\n",
      "Validation Set:\n",
      " Epoch: 10 Accuracy: 60.00% Loss:0.97\n",
      "\n",
      "\n",
      "Epoch: 20\n",
      "Training Set:\n",
      " Accuracy: 80.00% Loss:0.64\n",
      "Validation Set:\n",
      " Epoch: 20 Accuracy: 80.00% Loss:0.64\n",
      "\n",
      "\n",
      "Epoch: 30\n",
      "Training Set:\n",
      " Accuracy: 93.33% Loss:0.35\n",
      "Validation Set:\n",
      " Epoch: 30 Accuracy: 93.33% Loss:0.35\n",
      "\n",
      "\n",
      "Epoch: 40\n",
      "Training Set:\n",
      " Accuracy: 93.33% Loss:0.19\n",
      "Validation Set:\n",
      " Epoch: 40 Accuracy: 93.33% Loss:0.19\n",
      "\n",
      "\n",
      "Epoch: 50\n",
      "Training Set:\n",
      " Accuracy: 93.33% Loss:0.11\n",
      "Validation Set:\n",
      " Epoch: 50 Accuracy: 93.33% Loss:0.11\n",
      "\n",
      "\n",
      "Epoch: 60\n",
      "Training Set:\n",
      " Accuracy: 100.00% Loss:0.08\n",
      "Validation Set:\n",
      " Epoch: 60 Accuracy: 100.00% Loss:0.08\n",
      "\n",
      "\n",
      "Epoch: 70\n",
      "Training Set:\n",
      " Accuracy: 100.00% Loss:0.06\n",
      "Validation Set:\n",
      " Epoch: 70 Accuracy: 100.00% Loss:0.06\n",
      "\n",
      "\n",
      "Epoch: 80\n",
      "Training Set:\n",
      " Accuracy: 100.00% Loss:0.05\n",
      "Validation Set:\n",
      " Epoch: 80 Accuracy: 100.00% Loss:0.05\n",
      "\n",
      "\n",
      "Epoch: 90\n",
      "Training Set:\n",
      " Accuracy: 100.00% Loss:0.05\n",
      "Validation Set:\n",
      " Epoch: 90 Accuracy: 100.00% Loss:0.05\n",
      "\n"
     ]
    }
   ],
   "source": [
    "import time\n",
    "\n",
    "start_time = time.time()\n",
    "\n",
    "epochs = 100\n",
    "train_losses = []\n",
    "train_accuracy = []\n",
    "\n",
    "val_losses = []\n",
    "val_accuracy = []\n",
    "\n",
    "for i in range(epochs):\n",
    "\n",
    "    trn_corr = 0\n",
    "    tst_corr = 0\n",
    "\n",
    "    y_pred = model(X_train)\n",
    "    loss = criterion(y_pred, y_train)\n",
    "\n",
    "    predicted = torch.max(y_pred.data, 1)[1]\n",
    "    accuracy = ((predicted == y_train).sum() / len(predicted))\n",
    "    train_accuracy.append(accuracy.item())\n",
    "    train_losses.append(loss.item())\n",
    "\n",
    "    optimizer.zero_grad()\n",
    "    loss.backward()\n",
    "    optimizer.step()\n",
    "\n",
    "    with torch.no_grad():\n",
    "        y_val_pred = model(X_val)\n",
    "        val_predicted = torch.max(y_val_pred.data, 1)[1]\n",
    "\n",
    "        accuracy = ((val_predicted == y_val).sum() / len(val_predicted))\n",
    "\n",
    "        loss = criterion(y_val_pred, y_val)\n",
    "        val_losses.append(loss.item())\n",
    "        val_accuracy.append(accuracy.item())\n",
    "\n",
    "        if i % 10 == 0:\n",
    "            print()\n",
    "            print(f\"Epoch: {i}\")\n",
    "            print(f\"Training Set:\\n Accuracy: {accuracy*100:.2f}% Loss:{loss:.2f}\")\n",
    "            print(f\"Validation Set:\\n Epoch: {i} Accuracy: {accuracy*100:.2f}% Loss:{loss:.2f}\")\n",
    "            print()"
   ]
  },
  {
   "cell_type": "code",
   "execution_count": 13,
   "metadata": {},
   "outputs": [
    {
     "data": {
      "text/plain": [
       "<matplotlib.legend.Legend at 0x26d28418610>"
      ]
     },
     "execution_count": 13,
     "metadata": {},
     "output_type": "execute_result"
    },
    {
     "data": {
      "image/png": "[encoded data removed]",
      "text/plain": [
       "<Figure size 640x480 with 1 Axes>"
      ]
     },
     "metadata": {},
     "output_type": "display_data"
    }
   ],
   "source": [
    "plt.plot(train_losses,label='Train Loss')\n",
    "plt.plot(val_losses,label='Val Losses')\n",
    "plt.ylabel(\"LOSS\")\n",
    "plt.xlabel(\"EPOCH\")\n",
    "plt.title(\"Loss At Epoch\")\n",
    "plt.legend()"
   ]
  },
  {
   "cell_type": "code",
   "execution_count": 14,
   "metadata": {},
   "outputs": [
    {
     "data": {
      "text/plain": [
       "<matplotlib.legend.Legend at 0x26d2841e7c0>"
      ]
     },
     "execution_count": 14,
     "metadata": {},
     "output_type": "execute_result"
    },
    {
     "data": {
      "image/png": "[encoded data removed]",
      "text/plain": [
       "<Figure size 640x480 with 1 Axes>"
      ]
     },
     "metadata": {},
     "output_type": "display_data"
    }
   ],
   "source": [
    "plt.plot(train_accuracy,label='Train Accuracy')\n",
    "plt.plot(val_accuracy,label='Val Accuracy')\n",
    "plt.ylabel(\"LOSS\")\n",
    "plt.xlabel(\"EPOCH\")\n",
    "plt.title(\"Loss At Epoch\")\n",
    "plt.legend()"
   ]
  },
  {
   "cell_type": "markdown",
   "metadata": {},
   "source": [
    "# Test Dataset"
   ]
  },
  {
   "cell_type": "code",
   "execution_count": 15,
   "metadata": {},
   "outputs": [],
   "source": [
    "y_test_predictions = model(X_test)\n",
    "val_predicted = torch.max(y_test_predictions.data, 1)[1]\n",
    "\n",
    "accuracy = ((val_predicted == y_test).sum() / len(val_predicted))\n",
    "\n",
    "loss = criterion(y_test_predictions, y_test)"
   ]
  },
  {
   "cell_type": "code",
   "execution_count": 16,
   "metadata": {},
   "outputs": [
    {
     "data": {
      "text/plain": [
       "tensor(0.0868, grad_fn=<NllLossBackward0>)"
      ]
     },
     "execution_count": 16,
     "metadata": {},
     "output_type": "execute_result"
    }
   ],
   "source": [
    "loss"
   ]
  },
  {
   "cell_type": "code",
   "execution_count": 17,
   "metadata": {},
   "outputs": [
    {
     "data": {
      "text/plain": [
       "tensor(1.)"
      ]
     },
     "execution_count": 17,
     "metadata": {},
     "output_type": "execute_result"
    }
   ],
   "source": [
    "accuracy"
   ]
  },
  {
   "cell_type": "code",
   "execution_count": 18,
   "metadata": {},
   "outputs": [
    {
     "data": {
      "text/plain": [
       "{'web': 'https://www.comet.com/api/asset/download?assetId=0866737ace4741c1bbc377a897056882&experimentKey=3dfafc069a134a24bc61e86208beb2da',\n",
       " 'api': 'https://www.comet.com/api/rest/v2/experiment/asset/get-asset?assetId=0866737ace4741c1bbc377a897056882&experimentKey=3dfafc069a134a24bc61e86208beb2da',\n",
       " 'assetId': '0866737ace4741c1bbc377a897056882'}"
      ]
     },
     "execution_count": 18,
     "metadata": {},
     "output_type": "execute_result"
    }
   ],
   "source": [
    "from sklearn.metrics import confusion_matrix\n",
    "\n",
    "confusion_matrix = confusion_matrix(y_test,val_predicted)\n",
    "experiment.log_confusion_matrix(matrix=confusion_matrix)"
   ]
  },
  {
   "cell_type": "code",
   "execution_count": 19,
   "metadata": {},
   "outputs": [
    {
     "data": {
      "text/plain": [
       "Text(50.72222222222221, 0.5, 'actual')"
      ]
     },
     "execution_count": 19,
     "metadata": {},
     "output_type": "execute_result"
    },
    {
     "data": {
      "image/png": "[encoded data removed]",
      "text/plain": [
       "<Figure size 640x480 with 2 Axes>"
      ]
     },
     "metadata": {},
     "output_type": "display_data"
    }
   ],
   "source": [
    "import seaborn as sns\n",
    "\n",
    "ax = sns.heatmap(confusion_matrix, annot=True, fmt='d', cmap='Blues', xticklabels=labels, yticklabels=labels)#0 =setosa , 1 = versicolor , 2 = virginica\n",
    "ax.set_title('confusion matrix for irsis dataset prediction')\n",
    "ax.set_xlabel('prediction', fontsize=14)\n",
    "ax.set_ylabel('actual', fontsize=14)"
   ]
  },
  {
   "cell_type": "code",
   "execution_count": 20,
   "metadata": {},
   "outputs": [
    {
     "name": "stderr",
     "output_type": "stream",
     "text": [
      "\u001b[1;38;5;39mCOMET INFO:\u001b[0m ---------------------------------------------------------------------------------------\n",
      "\u001b[1;38;5;39mCOMET INFO:\u001b[0m Comet.ml Experiment Summary\n",
      "\u001b[1;38;5;39mCOMET INFO:\u001b[0m ---------------------------------------------------------------------------------------\n",
      "\u001b[1;38;5;39mCOMET INFO:\u001b[0m   Data:\n",
      "\u001b[1;38;5;39mCOMET INFO:\u001b[0m     display_summary_level : 1\n",
      "\u001b[1;38;5;39mCOMET INFO:\u001b[0m     url                   : https://www.comet.com/wereign/juan-ai/3dfafc069a134a24bc61e86208beb2da\n",
      "\u001b[1;38;5;39mCOMET INFO:\u001b[0m   Metrics [count] (min, max):\n",
      "\u001b[1;38;5;39mCOMET INFO:\u001b[0m     loss [10] : (0.06405146420001984, 1.2667053937911987)\n",
      "\u001b[1;38;5;39mCOMET INFO:\u001b[0m   Parameters:\n",
      "\u001b[1;38;5;39mCOMET INFO:\u001b[0m     epochs           : 100\n",
      "\u001b[1;38;5;39mCOMET INFO:\u001b[0m     learning_rate    : 0.01\n",
      "\u001b[1;38;5;39mCOMET INFO:\u001b[0m     loss             : crossentropy\n",
      "\u001b[1;38;5;39mCOMET INFO:\u001b[0m     optimizer        : Adam\n",
      "\u001b[1;38;5;39mCOMET INFO:\u001b[0m     test_split       : 0.1\n",
      "\u001b[1;38;5;39mCOMET INFO:\u001b[0m     validation_split : 0.1\n",
      "\u001b[1;38;5;39mCOMET INFO:\u001b[0m   Uploads:\n",
      "\u001b[1;38;5;39mCOMET INFO:\u001b[0m     conda-environment-definition : 1\n",
      "\u001b[1;38;5;39mCOMET INFO:\u001b[0m     conda-info                   : 1\n",
      "\u001b[1;38;5;39mCOMET INFO:\u001b[0m     conda-specification          : 1\n",
      "\u001b[1;38;5;39mCOMET INFO:\u001b[0m     confusion-matrix             : 1\n",
      "\u001b[1;38;5;39mCOMET INFO:\u001b[0m     environment details          : 1\n",
      "\u001b[1;38;5;39mCOMET INFO:\u001b[0m     filename                     : 1\n",
      "\u001b[1;38;5;39mCOMET INFO:\u001b[0m     git metadata                 : 1\n",
      "\u001b[1;38;5;39mCOMET INFO:\u001b[0m     installed packages           : 1\n",
      "\u001b[1;38;5;39mCOMET INFO:\u001b[0m     model graph                  : 1\n",
      "\u001b[1;38;5;39mCOMET INFO:\u001b[0m     model-element                : 2 (3.07 KB)\n",
      "\u001b[1;38;5;39mCOMET INFO:\u001b[0m     notebook                     : 1\n",
      "\u001b[1;38;5;39mCOMET INFO:\u001b[0m     source_code                  : 1\n",
      "\u001b[1;38;5;39mCOMET INFO:\u001b[0m \n",
      "\u001b[1;38;5;39mCOMET INFO:\u001b[0m Please wait for metadata to finish uploading (timeout is 3600 seconds)\n"
     ]
    }
   ],
   "source": [
    "experiment.end()"
   ]
  },
  {
   "cell_type": "code",
   "execution_count": 23,
   "metadata": {},
   "outputs": [],
   "source": [
    "model_scripted = torch.jit.script(model)\n",
    "torch.jit.save(model_scripted,'../saved_models/iris_model_pytorch.pt')"
   ]
  },
  {
   "cell_type": "code",
   "execution_count": null,
   "metadata": {},
   "outputs": [],
   "source": []
  }
 ],
 "metadata": {
  "kernelspec": {
   "display_name": "autogluon_env",
   "language": "python",
   "name": "python3"
  },
  "language_info": {
   "codemirror_mode": {
    "name": "ipython",
    "version": 3
   },
   "file_extension": ".py",
   "mimetype": "text/x-python",
   "name": "python",
   "nbconvert_exporter": "python",
   "pygments_lexer": "ipython3",
   "version": "3.9.18"
  }
 },
 "nbformat": 4,
 "nbformat_minor": 2
}
