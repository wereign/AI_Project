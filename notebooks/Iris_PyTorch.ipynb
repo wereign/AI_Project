{
 "cells": [
  {
   "cell_type": "code",
   "execution_count": 1,
   "metadata": {},
   "outputs": [],
   "source": [
    "import comet_ml\n",
    "from comet_ml.integration.pytorch import log_model\n",
    "\n",
    "import torch\n",
    "import torch.nn as nn\n",
    "import torch.nn.functional as F"
   ]
  },
  {
   "cell_type": "code",
   "execution_count": 2,
   "metadata": {},
   "outputs": [],
   "source": [
    "class Model(nn.Module):\n",
    "\n",
    "    def __init__(self,in_features=4,h1=8,h2=9,out_features=3):\n",
    "        # decide the number of layers\n",
    "        # create an attribute for each layer and decide the type of layer\n",
    "        # Input Layer (4 features) --> (n neurons) h1 --> (n neurons)  h2 --> output ( 3 classes)\n",
    "\n",
    "        super().__init__()  # Instantiate the super class\n",
    "        self.fc1 = nn.Linear(in_features,h1) # 4 features in and 8 features for the firs hidden layer out\n",
    "        self.fc2 = nn.Linear(h1,h2) # 8 features from the first hidden layer in and 9 features for the next hidden layer out.\n",
    "        self.out = nn.Linear(h2,out_features) # 9 features from the 2nd hidden layer in and 3 class based selection out\n",
    "\n",
    "\n",
    "       \n",
    "    def forward(self,x):\n",
    "        x = F.relu(self.fc1(x)) # Passing the input through the weights and bias of this layer and then passing it through the activation function\n",
    "        x = F.relu(self.fc2(x)) # Passing the output from the input layer to the function and then the activation function\n",
    "        x = self.out(x)\n",
    "\n",
    "        return x"
   ]
  },
  {
   "cell_type": "markdown",
   "metadata": {},
   "source": [
    "loading the dataset"
   ]
  },
  {
   "cell_type": "code",
   "execution_count": 3,
   "metadata": {},
   "outputs": [],
   "source": [
    "import pandas as pd\n",
    "import matplotlib.pyplot as plt\n",
    "from sklearn.model_selection import train_test_split"
   ]
  },
  {
   "cell_type": "code",
   "execution_count": 4,
   "metadata": {},
   "outputs": [],
   "source": [
    "df = pd.read_csv('../datasets/iris_dataset/Iris.csv')\n",
    "df.head()\n",
    "\n",
    "labels = ['Iris-setosa','Iris-virginica','Iris-versicolor']\n",
    "\n",
    "df['Species'] = df['Species'].apply(lambda x: labels.index(x))\n"
   ]
  },
  {
   "cell_type": "code",
   "execution_count": 5,
   "metadata": {},
   "outputs": [
    {
     "name": "stdout",
     "output_type": "stream",
     "text": [
      "[5.1 3.5 1.4 0.2]\n",
      "0\n"
     ]
    }
   ],
   "source": [
    "# performing a train test split\n",
    "X = df.drop('Species',axis=1).to_numpy()[:,1:]\n",
    "y = df['Species'].to_numpy()\n",
    "\n",
    "print(X[0])\n",
    "print(y[0])"
   ]
  },
  {
   "cell_type": "code",
   "execution_count": 6,
   "metadata": {},
   "outputs": [],
   "source": [
    "X_train, X_test, y_train, y_test = train_test_split(X,y,test_size=0.2,random_state=42)\n",
    "X_test,X_val,y_test,y_val = train_test_split(X_test,y_test,test_size=0.5,random_state=42)"
   ]
  },
  {
   "cell_type": "code",
   "execution_count": 7,
   "metadata": {},
   "outputs": [],
   "source": [
    "X_train = torch.FloatTensor(X_train)\n",
    "X_test = torch.FloatTensor(X_test)\n",
    "X_val = torch.FloatTensor(X_val)\n"
   ]
  },
  {
   "cell_type": "code",
   "execution_count": 8,
   "metadata": {},
   "outputs": [],
   "source": [
    "y_train = torch.LongTensor(y_train)\n",
    "y_test = torch.LongTensor(y_test)\n",
    "y_val = torch.LongTensor(y_val)"
   ]
  },
  {
   "cell_type": "code",
   "execution_count": 9,
   "metadata": {},
   "outputs": [
    {
     "name": "stderr",
     "output_type": "stream",
     "text": [
      "c:\\Users\\viren\\miniconda3\\envs\\autogluon_env\\lib\\site-packages\\tqdm\\auto.py:21: TqdmWarning: IProgress not found. Please update jupyter and ipywidgets. See https://ipywidgets.readthedocs.io/en/stable/user_install.html\n",
      "  from .autonotebook import tqdm as notebook_tqdm\n"
     ]
    }
   ],
   "source": [
    "model = Model()\n",
    "criterion = nn.CrossEntropyLoss()\n",
    "optimizer = torch.optim.Adam(model.parameters(),lr=0.01)"
   ]
  },
  {
   "cell_type": "code",
   "execution_count": 10,
   "metadata": {},
   "outputs": [
    {
     "name": "stdout",
     "output_type": "stream",
     "text": [
      "\n",
      "Epoch: 0\n",
      "Training Set:\n",
      " Accuracy: 26.67% Loss:1.11\n",
      "Validation Set:\n",
      " Epoch: 0 Accuracy: 26.67% Loss:1.11\n",
      "\n",
      "\n",
      "Epoch: 10\n",
      "Training Set:\n",
      " Accuracy: 93.33% Loss:0.95\n",
      "Validation Set:\n",
      " Epoch: 10 Accuracy: 93.33% Loss:0.95\n",
      "\n",
      "\n",
      "Epoch: 20\n",
      "Training Set:\n",
      " Accuracy: 60.00% Loss:0.73\n",
      "Validation Set:\n",
      " Epoch: 20 Accuracy: 60.00% Loss:0.73\n",
      "\n",
      "\n",
      "Epoch: 30\n",
      "Training Set:\n",
      " Accuracy: 73.33% Loss:0.50\n",
      "Validation Set:\n",
      " Epoch: 30 Accuracy: 73.33% Loss:0.50\n",
      "\n",
      "\n",
      "Epoch: 40\n",
      "Training Set:\n",
      " Accuracy: 93.33% Loss:0.36\n",
      "Validation Set:\n",
      " Epoch: 40 Accuracy: 93.33% Loss:0.36\n",
      "\n",
      "\n",
      "Epoch: 50\n",
      "Training Set:\n",
      " Accuracy: 100.00% Loss:0.23\n",
      "Validation Set:\n",
      " Epoch: 50 Accuracy: 100.00% Loss:0.23\n",
      "\n",
      "\n",
      "Epoch: 60\n",
      "Training Set:\n",
      " Accuracy: 100.00% Loss:0.14\n",
      "Validation Set:\n",
      " Epoch: 60 Accuracy: 100.00% Loss:0.14\n",
      "\n",
      "\n",
      "Epoch: 70\n",
      "Training Set:\n",
      " Accuracy: 100.00% Loss:0.09\n",
      "Validation Set:\n",
      " Epoch: 70 Accuracy: 100.00% Loss:0.09\n",
      "\n",
      "\n",
      "Epoch: 80\n",
      "Training Set:\n",
      " Accuracy: 100.00% Loss:0.07\n",
      "Validation Set:\n",
      " Epoch: 80 Accuracy: 100.00% Loss:0.07\n",
      "\n",
      "\n",
      "Epoch: 90\n",
      "Training Set:\n",
      " Accuracy: 100.00% Loss:0.05\n",
      "Validation Set:\n",
      " Epoch: 90 Accuracy: 100.00% Loss:0.05\n",
      "\n"
     ]
    }
   ],
   "source": [
    "import time\n",
    "\n",
    "start_time = time.time()\n",
    "\n",
    "epochs = 100\n",
    "train_losses = []\n",
    "train_accuracy = []\n",
    "\n",
    "val_losses = []\n",
    "val_accuracy = []\n",
    "\n",
    "for i in range(epochs):\n",
    "\n",
    "    trn_corr = 0\n",
    "    tst_corr = 0\n",
    "\n",
    "    y_pred = model(X_train)\n",
    "    loss = criterion(y_pred, y_train)\n",
    "\n",
    "    predicted = torch.max(y_pred.data, 1)[1]\n",
    "    accuracy = ((predicted == y_train).sum() / len(predicted))\n",
    "    train_accuracy.append(accuracy.item())\n",
    "    train_losses.append(loss.item())\n",
    "\n",
    "    optimizer.zero_grad()\n",
    "    loss.backward()\n",
    "    optimizer.step()\n",
    "\n",
    "    with torch.no_grad():\n",
    "        y_val_pred = model(X_val)\n",
    "        val_predicted = torch.max(y_val_pred.data, 1)[1]\n",
    "\n",
    "        accuracy = ((val_predicted == y_val).sum() / len(val_predicted))\n",
    "\n",
    "        loss = criterion(y_val_pred, y_val)\n",
    "        val_losses.append(loss.item())\n",
    "        val_accuracy.append(accuracy.item())\n",
    "\n",
    "        if i % 10 == 0:\n",
    "            print()\n",
    "            print(f\"Epoch: {i}\")\n",
    "            print(f\"Training Set:\\n Accuracy: {accuracy*100:.2f}% Loss:{loss:.2f}\")\n",
    "            print(f\"Validation Set:\\n Epoch: {i} Accuracy: {accuracy*100:.2f}% Loss:{loss:.2f}\")\n",
    "            print()"
   ]
  },
  {
   "cell_type": "code",
   "execution_count": 11,
   "metadata": {},
   "outputs": [
    {
     "data": {
      "text/plain": [
       "<matplotlib.legend.Legend at 0x2bb51eb3a90>"
      ]
     },
     "execution_count": 11,
     "metadata": {},
     "output_type": "execute_result"
    },
    {
     "data": {
      "image/png": "[encoded data removed]",
      "text/plain": [
       "<Figure size 640x480 with 1 Axes>"
      ]
     },
     "metadata": {},
     "output_type": "display_data"
    }
   ],
   "source": [
    "plt.plot(train_losses,label='Train Loss')\n",
    "plt.plot(val_losses,label='Val Losses')\n",
    "plt.ylabel(\"LOSS\")\n",
    "plt.xlabel(\"EPOCH\")\n",
    "plt.title(\"Loss At Epoch\")\n",
    "plt.legend()"
   ]
  },
  {
   "cell_type": "code",
   "execution_count": 12,
   "metadata": {},
   "outputs": [
    {
     "data": {
      "text/plain": [
       "<matplotlib.legend.Legend at 0x2bb5a157430>"
      ]
     },
     "execution_count": 12,
     "metadata": {},
     "output_type": "execute_result"
    },
    {
     "data": {
      "image/png": "[encoded data removed]",
      "text/plain": [
       "<Figure size 640x480 with 1 Axes>"
      ]
     },
     "metadata": {},
     "output_type": "display_data"
    }
   ],
   "source": [
    "plt.plot(train_accuracy,label='Train Accuracy')\n",
    "plt.plot(val_accuracy,label='Val Accuracy')\n",
    "plt.ylabel(\"LOSS\")\n",
    "plt.xlabel(\"EPOCH\")\n",
    "plt.title(\"Loss At Epoch\")\n",
    "plt.legend()"
   ]
  },
  {
   "cell_type": "markdown",
   "metadata": {},
   "source": [
    "# Test Dataset"
   ]
  },
  {
   "cell_type": "code",
   "execution_count": 19,
   "metadata": {},
   "outputs": [],
   "source": [
    "y_test_predictions = model(X_test)\n",
    "val_predicted = torch.max(y_test_predictions.data, 1)[1]\n",
    "\n",
    "accuracy = ((val_predicted == y_test).sum() / len(val_predicted))\n",
    "\n",
    "loss = criterion(y_test_predictions, y_test)"
   ]
  },
  {
   "cell_type": "code",
   "execution_count": 20,
   "metadata": {},
   "outputs": [
    {
     "data": {
      "text/plain": [
       "tensor(0.0705, grad_fn=<NllLossBackward0>)"
      ]
     },
     "execution_count": 20,
     "metadata": {},
     "output_type": "execute_result"
    }
   ],
   "source": [
    "loss"
   ]
  },
  {
   "cell_type": "code",
   "execution_count": 21,
   "metadata": {},
   "outputs": [
    {
     "data": {
      "text/plain": [
       "tensor(1.)"
      ]
     },
     "execution_count": 21,
     "metadata": {},
     "output_type": "execute_result"
    }
   ],
   "source": [
    "accuracy"
   ]
  }
 ],
 "metadata": {
  "kernelspec": {
   "display_name": "autogluon_env",
   "language": "python",
   "name": "python3"
  },
  "language_info": {
   "codemirror_mode": {
    "name": "ipython",
    "version": 3
   },
   "file_extension": ".py",
   "mimetype": "text/x-python",
   "name": "python",
   "nbconvert_exporter": "python",
   "pygments_lexer": "ipython3",
   "version": "3.9.18"
  }
 },
 "nbformat": 4,
 "nbformat_minor": 2
}
